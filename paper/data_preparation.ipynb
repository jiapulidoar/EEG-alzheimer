{
 "cells": [
  {
   "cell_type": "code",
   "execution_count": 8,
   "metadata": {},
   "outputs": [],
   "source": [
    "import mne\n",
    "import numpy as np\n",
    "from scipy import stats\n",
    "import seaborn as sns\n",
    "import pandas as pd\n",
    "import os\n",
    "import re\n",
    "\n",
    "# Multiprocessing\n",
    "import deepgraph as dg\n",
    "from multiprocessing import Pool\n",
    "from nancorrmp.nancorrmp import NaNCorrMp\n",
    "import matplotlib.pyplot as plt\n",
    "\n",
    "%matplotlib inline\n",
    "\n"
   ]
  },
  {
   "cell_type": "code",
   "execution_count": 2,
   "metadata": {},
   "outputs": [
    {
     "data": {
      "text/plain": [
       "['SETA', 'SETB', 'SETC', 'SETD']"
      ]
     },
     "execution_count": 2,
     "metadata": {},
     "output_type": "execute_result"
    }
   ],
   "source": [
    "os.listdir(\"./DataBase\")"
   ]
  },
  {
   "cell_type": "code",
   "execution_count": 38,
   "metadata": {},
   "outputs": [],
   "source": [
    "def get_eeg_file(): \n",
    "  rootdir = \"./DataBase/\"\n",
    "  sets = os.listdir(rootdir)\n",
    "  regex = re.compile('(.*out$)')\n",
    "  dic = []\n",
    "\n",
    "  for set in sets: \n",
    "    for root, dirs, files in os.walk(rootdir+set):\n",
    "      for file in files:\n",
    "        if regex.match(file):\n",
    "          ob = {\n",
    "            \"UID\" : file[:-4],\n",
    "            \"set\" : set, \n",
    "            \"filename\" : file,\n",
    "          }\n",
    "          dic.append(ob)\n",
    "  return dic"
   ]
  },
  {
   "cell_type": "code",
   "execution_count": 201,
   "metadata": {},
   "outputs": [],
   "source": [
    "mapping = {\n",
    "    \"SETA\" : \"HC\", \n",
    "    \"SETB\" : \"HC\", \n",
    "    \"SETC\" : \"AD\",\n",
    "    \"SETD\" : \"AD\"\n",
    "}\n",
    "\n",
    "channels = ['Fp1', 'Fp2', 'F7', 'F3', 'Fz', 'F4', 'F8', 'T3', 'C3', 'Cz', 'C4', 'T4', 'T5', 'P3', 'Pz', 'P4', 'T6', 'O1', 'O2']"
   ]
  },
  {
   "cell_type": "code",
   "execution_count": 39,
   "metadata": {},
   "outputs": [
    {
     "data": {
      "text/html": [
       "<div>\n",
       "<style scoped>\n",
       "    .dataframe tbody tr th:only-of-type {\n",
       "        vertical-align: middle;\n",
       "    }\n",
       "\n",
       "    .dataframe tbody tr th {\n",
       "        vertical-align: top;\n",
       "    }\n",
       "\n",
       "    .dataframe thead th {\n",
       "        text-align: right;\n",
       "    }\n",
       "</style>\n",
       "<table border=\"1\" class=\"dataframe\">\n",
       "  <thead>\n",
       "    <tr style=\"text-align: right;\">\n",
       "      <th></th>\n",
       "      <th>UID</th>\n",
       "      <th>set</th>\n",
       "      <th>filename</th>\n",
       "    </tr>\n",
       "  </thead>\n",
       "  <tbody>\n",
       "    <tr>\n",
       "      <th>0</th>\n",
       "      <td>eeg20o1</td>\n",
       "      <td>SETA</td>\n",
       "      <td>eeg20o1.out</td>\n",
       "    </tr>\n",
       "    <tr>\n",
       "      <th>1</th>\n",
       "      <td>eeg21o1</td>\n",
       "      <td>SETA</td>\n",
       "      <td>eeg21o1.out</td>\n",
       "    </tr>\n",
       "    <tr>\n",
       "      <th>2</th>\n",
       "      <td>eeg22o1</td>\n",
       "      <td>SETA</td>\n",
       "      <td>eeg22o1.out</td>\n",
       "    </tr>\n",
       "    <tr>\n",
       "      <th>3</th>\n",
       "      <td>eeg23o1</td>\n",
       "      <td>SETA</td>\n",
       "      <td>eeg23o1.out</td>\n",
       "    </tr>\n",
       "    <tr>\n",
       "      <th>4</th>\n",
       "      <td>eeg24o1</td>\n",
       "      <td>SETA</td>\n",
       "      <td>eeg24o1.out</td>\n",
       "    </tr>\n",
       "  </tbody>\n",
       "</table>\n",
       "</div>"
      ],
      "text/plain": [
       "       UID   set     filename\n",
       "0  eeg20o1  SETA  eeg20o1.out\n",
       "1  eeg21o1  SETA  eeg21o1.out\n",
       "2  eeg22o1  SETA  eeg22o1.out\n",
       "3  eeg23o1  SETA  eeg23o1.out\n",
       "4  eeg24o1  SETA  eeg24o1.out"
      ]
     },
     "execution_count": 39,
     "metadata": {},
     "output_type": "execute_result"
    }
   ],
   "source": [
    "df = pd.DataFrame(get_eeg_file())\n",
    "df.head()"
   ]
  },
  {
   "cell_type": "code",
   "execution_count": 62,
   "metadata": {},
   "outputs": [
    {
     "data": {
      "text/html": [
       "<div>\n",
       "<style scoped>\n",
       "    .dataframe tbody tr th:only-of-type {\n",
       "        vertical-align: middle;\n",
       "    }\n",
       "\n",
       "    .dataframe tbody tr th {\n",
       "        vertical-align: top;\n",
       "    }\n",
       "\n",
       "    .dataframe thead th {\n",
       "        text-align: right;\n",
       "    }\n",
       "</style>\n",
       "<table border=\"1\" class=\"dataframe\">\n",
       "  <thead>\n",
       "    <tr style=\"text-align: right;\">\n",
       "      <th></th>\n",
       "      <th>UID</th>\n",
       "      <th>set</th>\n",
       "      <th>filename</th>\n",
       "      <th>label</th>\n",
       "    </tr>\n",
       "  </thead>\n",
       "  <tbody>\n",
       "    <tr>\n",
       "      <th>0</th>\n",
       "      <td>eeg20o1</td>\n",
       "      <td>SETA</td>\n",
       "      <td>eeg20o1.out</td>\n",
       "      <td>HC</td>\n",
       "    </tr>\n",
       "    <tr>\n",
       "      <th>1</th>\n",
       "      <td>eeg21o1</td>\n",
       "      <td>SETA</td>\n",
       "      <td>eeg21o1.out</td>\n",
       "      <td>HC</td>\n",
       "    </tr>\n",
       "    <tr>\n",
       "      <th>2</th>\n",
       "      <td>eeg22o1</td>\n",
       "      <td>SETA</td>\n",
       "      <td>eeg22o1.out</td>\n",
       "      <td>HC</td>\n",
       "    </tr>\n",
       "    <tr>\n",
       "      <th>3</th>\n",
       "      <td>eeg23o1</td>\n",
       "      <td>SETA</td>\n",
       "      <td>eeg23o1.out</td>\n",
       "      <td>HC</td>\n",
       "    </tr>\n",
       "    <tr>\n",
       "      <th>4</th>\n",
       "      <td>eeg24o1</td>\n",
       "      <td>SETA</td>\n",
       "      <td>eeg24o1.out</td>\n",
       "      <td>HC</td>\n",
       "    </tr>\n",
       "  </tbody>\n",
       "</table>\n",
       "</div>"
      ],
      "text/plain": [
       "       UID   set     filename label\n",
       "0  eeg20o1  SETA  eeg20o1.out    HC\n",
       "1  eeg21o1  SETA  eeg21o1.out    HC\n",
       "2  eeg22o1  SETA  eeg22o1.out    HC\n",
       "3  eeg23o1  SETA  eeg23o1.out    HC\n",
       "4  eeg24o1  SETA  eeg24o1.out    HC"
      ]
     },
     "execution_count": 62,
     "metadata": {},
     "output_type": "execute_result"
    }
   ],
   "source": [
    "df[\"label\"] = df[\"set\"].map(mapping)\n",
    "df.head()"
   ]
  },
  {
   "cell_type": "code",
   "execution_count": 44,
   "metadata": {},
   "outputs": [],
   "source": [
    "n_features = 19\n",
    "n_samples = len(df) \n",
    "\n",
    "X_raw = {} "
   ]
  },
  {
   "cell_type": "code",
   "execution_count": 211,
   "metadata": {},
   "outputs": [
    {
     "data": {
      "text/plain": [
       "(1024, 19)"
      ]
     },
     "execution_count": 211,
     "metadata": {},
     "output_type": "execute_result"
    }
   ],
   "source": [
    "X_raw['eeg20o1'].shape"
   ]
  },
  {
   "cell_type": "code",
   "execution_count": 45,
   "metadata": {},
   "outputs": [],
   "source": [
    "for _, s in df.iterrows(): \n",
    "    raw = np.loadtxt(\"DataBase\\{}\\{}\".format(s[\"set\"], s[\"filename\"]))\n",
    "    X_raw[s[\"UID\"]] = raw "
   ]
  },
  {
   "cell_type": "code",
   "execution_count": 54,
   "metadata": {},
   "outputs": [
    {
     "data": {
      "text/plain": [
       "(48, 19, 19)"
      ]
     },
     "execution_count": 54,
     "metadata": {},
     "output_type": "execute_result"
    }
   ],
   "source": [
    "X_corr = np.zeros((n_samples,n_features, n_features ))\n",
    "p_corr = np.zeros(X_corr.shape)\n",
    "\n",
    "X_corr.shape"
   ]
  },
  {
   "cell_type": "code",
   "execution_count": 55,
   "metadata": {},
   "outputs": [],
   "source": [
    "for i, item in enumerate(X_raw.items()): \n",
    "    key, value = item\n",
    "    corr, p = NaNCorrMp.calculate_with_p_value(value.T,  n_jobs=5)\n",
    "    X_corr[i] += corr\n",
    "    p_corr[i] += p"
   ]
  },
  {
   "cell_type": "code",
   "execution_count": 57,
   "metadata": {},
   "outputs": [
    {
     "data": {
      "text/plain": [
       "<AxesSubplot:>"
      ]
     },
     "execution_count": 57,
     "metadata": {},
     "output_type": "execute_result"
    },
    {
     "data": {
      "image/png": "[encoded data removed]",
      "text/plain": [
       "<Figure size 640x480 with 2 Axes>"
      ]
     },
     "metadata": {},
     "output_type": "display_data"
    }
   ],
   "source": [
    "sns.heatmap(X_corr[0], )"
   ]
  },
  {
   "cell_type": "code",
   "execution_count": 187,
   "metadata": {},
   "outputs": [
    {
     "data": {
      "text/html": [
       "<div>\n",
       "<style scoped>\n",
       "    .dataframe tbody tr th:only-of-type {\n",
       "        vertical-align: middle;\n",
       "    }\n",
       "\n",
       "    .dataframe tbody tr th {\n",
       "        vertical-align: top;\n",
       "    }\n",
       "\n",
       "    .dataframe thead th {\n",
       "        text-align: right;\n",
       "    }\n",
       "</style>\n",
       "<table border=\"1\" class=\"dataframe\">\n",
       "  <thead>\n",
       "    <tr style=\"text-align: right;\">\n",
       "      <th></th>\n",
       "      <th>UID</th>\n",
       "      <th>set</th>\n",
       "      <th>filename</th>\n",
       "      <th>label</th>\n",
       "    </tr>\n",
       "  </thead>\n",
       "  <tbody>\n",
       "    <tr>\n",
       "      <th>0</th>\n",
       "      <td>eeg20o1</td>\n",
       "      <td>SETA</td>\n",
       "      <td>eeg20o1.out</td>\n",
       "      <td>HC</td>\n",
       "    </tr>\n",
       "    <tr>\n",
       "      <th>1</th>\n",
       "      <td>eeg21o1</td>\n",
       "      <td>SETA</td>\n",
       "      <td>eeg21o1.out</td>\n",
       "      <td>HC</td>\n",
       "    </tr>\n",
       "    <tr>\n",
       "      <th>2</th>\n",
       "      <td>eeg22o1</td>\n",
       "      <td>SETA</td>\n",
       "      <td>eeg22o1.out</td>\n",
       "      <td>HC</td>\n",
       "    </tr>\n",
       "    <tr>\n",
       "      <th>3</th>\n",
       "      <td>eeg23o1</td>\n",
       "      <td>SETA</td>\n",
       "      <td>eeg23o1.out</td>\n",
       "      <td>HC</td>\n",
       "    </tr>\n",
       "    <tr>\n",
       "      <th>4</th>\n",
       "      <td>eeg24o1</td>\n",
       "      <td>SETA</td>\n",
       "      <td>eeg24o1.out</td>\n",
       "      <td>HC</td>\n",
       "    </tr>\n",
       "  </tbody>\n",
       "</table>\n",
       "</div>"
      ],
      "text/plain": [
       "       UID   set     filename label\n",
       "0  eeg20o1  SETA  eeg20o1.out    HC\n",
       "1  eeg21o1  SETA  eeg21o1.out    HC\n",
       "2  eeg22o1  SETA  eeg22o1.out    HC\n",
       "3  eeg23o1  SETA  eeg23o1.out    HC\n",
       "4  eeg24o1  SETA  eeg24o1.out    HC"
      ]
     },
     "execution_count": 187,
     "metadata": {},
     "output_type": "execute_result"
    }
   ],
   "source": [
    "df.head()"
   ]
  },
  {
   "cell_type": "code",
   "execution_count": 191,
   "metadata": {},
   "outputs": [],
   "source": [
    "df_hc = df[df['label'] == 'HC']\n",
    "df_ad = df[df['label'] == 'AD']\n",
    "\n",
    "corr_hc = np.zeros((19,19))\n",
    "corr_ad = np.zeros((19,19))\n",
    "\n",
    "\n",
    "for _, s in df_hc.iterrows(): \n",
    "    raw = np.loadtxt(\"DataBase\\{}\\{}\".format(s[\"set\"], s[\"filename\"]))\n",
    "    corr, p = NaNCorrMp.calculate_with_p_value(raw.T,  n_jobs=5)\n",
    "    corr_hc += corr\n",
    "\n",
    "corr_hc = corr_hc/len(df_hc)\n",
    "\n",
    "\n",
    "for _, s in df_ad.iterrows(): \n",
    "    raw = np.loadtxt(\"DataBase\\{}\\{}\".format(s[\"set\"], s[\"filename\"]))\n",
    "    corr, p = NaNCorrMp.calculate_with_p_value(raw.T,  n_jobs=5)\n",
    "    corr_ad += corr\n",
    "\n",
    "corr_ad = corr_ad/len(df_ad)"
   ]
  },
  {
   "cell_type": "code",
   "execution_count": 202,
   "metadata": {},
   "outputs": [
    {
     "data": {
      "text/plain": [
       "<AxesSubplot:>"
      ]
     },
     "execution_count": 202,
     "metadata": {},
     "output_type": "execute_result"
    },
    {
     "data": {
      "image/png": "[encoded data removed]",
      "text/plain": [
       "<Figure size 640x480 with 2 Axes>"
      ]
     },
     "metadata": {},
     "output_type": "display_data"
    }
   ],
   "source": [
    "cmap = sns.cm.rocket_r\n",
    "\n",
    "sns.heatmap(corr_hc, cmap=cmap, vmin=0, vmax=1, xticklabels=channels, yticklabels=channels)"
   ]
  },
  {
   "cell_type": "code",
   "execution_count": 204,
   "metadata": {},
   "outputs": [
    {
     "data": {
      "text/plain": [
       "<AxesSubplot:>"
      ]
     },
     "execution_count": 204,
     "metadata": {},
     "output_type": "execute_result"
    },
    {
     "data": {
      "image/png": "[encoded data removed]",
      "text/plain": [
       "<Figure size 640x480 with 2 Axes>"
      ]
     },
     "metadata": {},
     "output_type": "display_data"
    }
   ],
   "source": [
    "sns.heatmap(corr_ad, cmap=cmap, vmin=0, vmax=1, xticklabels=channels, yticklabels=channels)"
   ]
  },
  {
   "cell_type": "code",
   "execution_count": 212,
   "metadata": {},
   "outputs": [
    {
     "data": {
      "text/plain": [
       "<AxesSubplot:>"
      ]
     },
     "execution_count": 212,
     "metadata": {},
     "output_type": "execute_result"
    },
    {
     "data": {
      "image/png": "[encoded data removed]",
      "text/plain": [
       "<Figure size 640x480 with 2 Axes>"
      ]
     },
     "metadata": {},
     "output_type": "display_data"
    }
   ],
   "source": [
    "sns.heatmap((corr_hc-corr_ad)**2, cmap=cmap, xticklabels=channels, yticklabels=channels)"
   ]
  },
  {
   "attachments": {},
   "cell_type": "markdown",
   "metadata": {},
   "source": [
    "# Training"
   ]
  },
  {
   "cell_type": "code",
   "execution_count": 63,
   "metadata": {},
   "outputs": [],
   "source": [
    "import torch\n",
    "from torch.autograd import Variable\n",
    "import torch.nn as nn\n",
    "import torch.utils.data as data\n",
    "import torch.nn.functional as F\n",
    "\n",
    "from sklearn.preprocessing import LabelEncoder\n",
    "from sklearn.preprocessing import OneHotEncoder\n",
    "from sklearn.model_selection import train_test_split\n",
    "from sklearn.metrics import f1_score, recall_score, accuracy_score, confusion_matrix, classification_report\n",
    "\n",
    "from torch.utils.data import Dataset\n"
   ]
  },
  {
   "cell_type": "code",
   "execution_count": 64,
   "metadata": {},
   "outputs": [
    {
     "name": "stderr",
     "output_type": "stream",
     "text": [
      "c:\\Users\\jimmy\\Anaconda3\\lib\\site-packages\\seaborn\\_decorators.py:36: FutureWarning: Pass the following variable as a keyword arg: x. From version 0.12, the only valid positional argument will be `data`, and passing other arguments without an explicit keyword will result in an error or misinterpretation.\n",
      "  warnings.warn(\n"
     ]
    },
    {
     "data": {
      "text/plain": [
       "<AxesSubplot:xlabel='label', ylabel='count'>"
      ]
     },
     "execution_count": 64,
     "metadata": {},
     "output_type": "execute_result"
    },
    {
     "data": {
      "image/png": "[encoded data removed]",
      "text/plain": [
       "<Figure size 640x480 with 1 Axes>"
      ]
     },
     "metadata": {},
     "output_type": "display_data"
    }
   ],
   "source": [
    "sns.countplot(df[\"label\"])"
   ]
  },
  {
   "cell_type": "code",
   "execution_count": 69,
   "metadata": {},
   "outputs": [
    {
     "name": "stdout",
     "output_type": "stream",
     "text": [
      "[1 1 1 1 1 1 1 1 1 1 1 1 1 1 1 1 1 1 1 1 1 1 1 1 0 0 0 0 0 0 0 0 0 0 0 0 0\n",
      " 0 0 0 0 0 0 0 0 0 0 0]\n"
     ]
    }
   ],
   "source": [
    "Y = df[\"label\"].to_numpy()\n",
    "\n",
    "l_encoder = LabelEncoder()\n",
    "i_encoded = l_encoder.fit_transform(Y)\n",
    "print(i_encoded)\n",
    "\n",
    "Y = i_encoded"
   ]
  },
  {
   "cell_type": "code",
   "execution_count": 70,
   "metadata": {},
   "outputs": [],
   "source": [
    "X = Variable(torch.from_numpy(X_corr.astype(np.float32)), requires_grad=False)\n",
    "Y = Variable(torch.from_numpy(Y.astype(np.float32)), requires_grad=False)"
   ]
  },
  {
   "cell_type": "code",
   "execution_count": 71,
   "metadata": {},
   "outputs": [],
   "source": [
    "X_train, X_test, y_train, y_test = train_test_split(   \n",
    "     X, Y, test_size=0.2, random_state=42)"
   ]
  },
  {
   "cell_type": "code",
   "execution_count": 127,
   "metadata": {},
   "outputs": [
    {
     "data": {
      "text/plain": [
       "Sequential(\n",
       "  (0): Conv2d(1, 16, kernel_size=(3, 3), stride=(1, 1))\n",
       "  (1): Conv2d(16, 16, kernel_size=(3, 3), stride=(1, 1))\n",
       "  (2): MaxPool2d(kernel_size=2, stride=2, padding=0, dilation=1, ceil_mode=False)\n",
       "  (3): Dropout(p=0.5, inplace=False)\n",
       "  (4): Conv2d(16, 32, kernel_size=(3, 3), stride=(1, 1))\n",
       "  (5): Conv2d(32, 32, kernel_size=(3, 3), stride=(1, 1))\n",
       "  (6): MaxPool2d(kernel_size=3, stride=3, padding=0, dilation=1, ceil_mode=False)\n",
       "  (7): Dropout(p=0.5, inplace=False)\n",
       "  (8): Flatten(start_dim=0, end_dim=-1)\n",
       "  (9): Dropout(p=0.5, inplace=False)\n",
       "  (10): Linear(in_features=32, out_features=160, bias=True)\n",
       "  (11): ReLU()\n",
       "  (12): Linear(in_features=160, out_features=1, bias=True)\n",
       ")"
      ]
     },
     "execution_count": 127,
     "metadata": {},
     "output_type": "execute_result"
    }
   ],
   "source": [
    "model = nn.Sequential(\n",
    "          nn.Conv2d(1,16,3),\n",
    "          nn.Conv2d(16,16,3),\n",
    "          nn.MaxPool2d(2),\n",
    "          nn.Dropout(),\n",
    "          nn.Conv2d(16,32,3),\n",
    "          nn.Conv2d(32,32,3),\n",
    "          nn.MaxPool2d(3),\n",
    "          nn.Dropout(),\n",
    "          nn.Flatten(start_dim=0),\n",
    "          nn.Dropout(),\n",
    "          nn.Linear(32, 160),\n",
    "          nn.ReLU(),\n",
    "          nn.Linear(160, 1),\n",
    "          #nn.Softmax(0)\n",
    "        )\n",
    "model.to(\"cuda\")"
   ]
  },
  {
   "cell_type": "code",
   "execution_count": 131,
   "metadata": {},
   "outputs": [],
   "source": [
    "train_ds = torch.utils.data.TensorDataset(X_train, y_train)\n",
    "validation_ds = torch.utils.data.TensorDataset(X_test, y_test)\n",
    "\n",
    "\n",
    "train_ds_loader = torch.utils.data.DataLoader(train_ds,shuffle=True, batch_size=1)\n",
    "test_ds_loader = torch.utils.data.DataLoader(validation_ds,shuffle=True)\n",
    "\n",
    "\n",
    "def testAccuracy():\n",
    "    \n",
    "    model.eval()\n",
    "    accuracy = 0.0\n",
    "    total = 0.0\n",
    "    \n",
    "    with torch.no_grad():\n",
    "        for data in test_ds_loader:\n",
    "            images, labels = data\n",
    "            # run the model on the test set to predict labels\n",
    "            outputs = model(images)\n",
    "            # the label with the highest energy will be our prediction\n",
    "            _, predicted = torch.max(outputs.data, 1)\n",
    "            total += labels.size(0)\n",
    "            accuracy += (predicted == labels).sum().item()"
   ]
  },
  {
   "cell_type": "code",
   "execution_count": 132,
   "metadata": {},
   "outputs": [],
   "source": [
    "import torch.optim as optim\n",
    "\n",
    "\n",
    "loss_fn=nn.BCEWithLogitsLoss()\n",
    "optimizer=optim.SGD(model.parameters(),lr=0.0001)"
   ]
  },
  {
   "cell_type": "code",
   "execution_count": 133,
   "metadata": {},
   "outputs": [
    {
     "name": "stdout",
     "output_type": "stream",
     "text": [
      "Epoch:1 Train Loss:0.6948 valid Losss:0.1875 Train Accuracy:0.4474 Train F1:0.0000  Test Accuracy:0.1842 Test F1:0.0000\n",
      "Epoch:2 Train Loss:0.6968 valid Losss:0.1875 Train Accuracy:0.4474 Train F1:0.0000  Test Accuracy:0.1842 Test F1:0.0000\n",
      "Epoch:3 Train Loss:0.6934 valid Losss:0.1875 Train Accuracy:0.4474 Train F1:0.0000  Test Accuracy:0.1842 Test F1:0.0000\n",
      "Epoch:4 Train Loss:0.6883 valid Losss:0.1876 Train Accuracy:0.4474 Train F1:0.0000  Test Accuracy:0.1842 Test F1:0.0000\n",
      "Epoch:5 Train Loss:0.6809 valid Losss:0.1876 Train Accuracy:0.4474 Train F1:0.0000  Test Accuracy:0.1842 Test F1:0.0000\n",
      "Epoch:6 Train Loss:0.6944 valid Losss:0.1876 Train Accuracy:0.4474 Train F1:0.0000  Test Accuracy:0.1842 Test F1:0.0000\n",
      "Epoch:7 Train Loss:0.6958 valid Losss:0.1876 Train Accuracy:0.4474 Train F1:0.0000  Test Accuracy:0.1842 Test F1:0.0000\n",
      "Epoch:8 Train Loss:0.6958 valid Losss:0.1876 Train Accuracy:0.4474 Train F1:0.0000  Test Accuracy:0.1842 Test F1:0.0000\n",
      "Epoch:9 Train Loss:0.6837 valid Losss:0.1877 Train Accuracy:0.4474 Train F1:0.0000  Test Accuracy:0.1842 Test F1:0.0000\n",
      "Epoch:10 Train Loss:0.6813 valid Losss:0.1877 Train Accuracy:0.4474 Train F1:0.0000  Test Accuracy:0.1842 Test F1:0.0000\n",
      "Epoch:11 Train Loss:0.6878 valid Losss:0.1877 Train Accuracy:0.4474 Train F1:0.0000  Test Accuracy:0.1842 Test F1:0.0000\n",
      "Epoch:12 Train Loss:0.6825 valid Losss:0.1877 Train Accuracy:0.4474 Train F1:0.0000  Test Accuracy:0.1842 Test F1:0.0000\n",
      "Epoch:13 Train Loss:0.6800 valid Losss:0.1877 Train Accuracy:0.4474 Train F1:0.0000  Test Accuracy:0.1842 Test F1:0.0000\n",
      "Epoch:14 Train Loss:0.6867 valid Losss:0.1878 Train Accuracy:0.4474 Train F1:0.0000  Test Accuracy:0.1842 Test F1:0.0000\n",
      "Epoch:15 Train Loss:0.6871 valid Losss:0.1878 Train Accuracy:0.4474 Train F1:0.0000  Test Accuracy:0.1842 Test F1:0.0000\n",
      "Epoch:16 Train Loss:0.6926 valid Losss:0.1878 Train Accuracy:0.4474 Train F1:0.0000  Test Accuracy:0.1842 Test F1:0.0000\n",
      "Epoch:17 Train Loss:0.6781 valid Losss:0.1878 Train Accuracy:0.4474 Train F1:0.0000  Test Accuracy:0.1842 Test F1:0.0000\n",
      "Epoch:18 Train Loss:0.6924 valid Losss:0.1879 Train Accuracy:0.4474 Train F1:0.0000  Test Accuracy:0.1842 Test F1:0.0000\n",
      "Epoch:19 Train Loss:0.6908 valid Losss:0.1879 Train Accuracy:0.4474 Train F1:0.0000  Test Accuracy:0.1842 Test F1:0.0000\n",
      "Epoch:20 Train Loss:0.6856 valid Losss:0.1879 Train Accuracy:0.4474 Train F1:0.0000  Test Accuracy:0.1842 Test F1:0.0000\n",
      "Epoch:21 Train Loss:0.6825 valid Losss:0.1879 Train Accuracy:0.4474 Train F1:0.0000  Test Accuracy:0.1842 Test F1:0.0000\n",
      "Epoch:22 Train Loss:0.6931 valid Losss:0.1879 Train Accuracy:0.4474 Train F1:0.0000  Test Accuracy:0.1842 Test F1:0.0000\n",
      "Epoch:23 Train Loss:0.6867 valid Losss:0.1879 Train Accuracy:0.4474 Train F1:0.0000  Test Accuracy:0.1842 Test F1:0.0000\n",
      "Epoch:24 Train Loss:0.6899 valid Losss:0.1880 Train Accuracy:0.4474 Train F1:0.0000  Test Accuracy:0.1842 Test F1:0.0000\n",
      "Epoch:25 Train Loss:0.6990 valid Losss:0.1880 Train Accuracy:0.4474 Train F1:0.0000  Test Accuracy:0.1842 Test F1:0.0000\n",
      "Epoch:26 Train Loss:0.6870 valid Losss:0.1880 Train Accuracy:0.4474 Train F1:0.0000  Test Accuracy:0.1842 Test F1:0.0000\n",
      "Epoch:27 Train Loss:0.6890 valid Losss:0.1880 Train Accuracy:0.4474 Train F1:0.0000  Test Accuracy:0.1842 Test F1:0.0000\n",
      "Epoch:28 Train Loss:0.6960 valid Losss:0.1880 Train Accuracy:0.4474 Train F1:0.0000  Test Accuracy:0.1842 Test F1:0.0000\n",
      "Epoch:29 Train Loss:0.6851 valid Losss:0.1880 Train Accuracy:0.4474 Train F1:0.0000  Test Accuracy:0.1842 Test F1:0.0000\n",
      "Epoch:30 Train Loss:0.6911 valid Losss:0.1880 Train Accuracy:0.4474 Train F1:0.0000  Test Accuracy:0.1842 Test F1:0.0000\n",
      "Epoch:31 Train Loss:0.6766 valid Losss:0.1881 Train Accuracy:0.4474 Train F1:0.0000  Test Accuracy:0.1842 Test F1:0.0000\n",
      "Epoch:32 Train Loss:0.6915 valid Losss:0.1881 Train Accuracy:0.4474 Train F1:0.0000  Test Accuracy:0.1842 Test F1:0.0000\n",
      "Epoch:33 Train Loss:0.6873 valid Losss:0.1881 Train Accuracy:0.4474 Train F1:0.0000  Test Accuracy:0.1842 Test F1:0.0000\n",
      "Epoch:34 Train Loss:0.6908 valid Losss:0.1881 Train Accuracy:0.4474 Train F1:0.0000  Test Accuracy:0.1842 Test F1:0.0000\n",
      "Epoch:35 Train Loss:0.6843 valid Losss:0.1881 Train Accuracy:0.4474 Train F1:0.0000  Test Accuracy:0.1842 Test F1:0.0000\n",
      "Epoch:36 Train Loss:0.6913 valid Losss:0.1881 Train Accuracy:0.4474 Train F1:0.0000  Test Accuracy:0.1842 Test F1:0.0000\n",
      "Epoch:37 Train Loss:0.6961 valid Losss:0.1881 Train Accuracy:0.4474 Train F1:0.0000  Test Accuracy:0.1842 Test F1:0.0000\n",
      "Epoch:38 Train Loss:0.6822 valid Losss:0.1881 Train Accuracy:0.4474 Train F1:0.0000  Test Accuracy:0.1842 Test F1:0.0000\n",
      "Epoch:39 Train Loss:0.6880 valid Losss:0.1881 Train Accuracy:0.4474 Train F1:0.0000  Test Accuracy:0.1842 Test F1:0.0000\n",
      "Epoch:40 Train Loss:0.6907 valid Losss:0.1881 Train Accuracy:0.4474 Train F1:0.0000  Test Accuracy:0.1842 Test F1:0.0000\n",
      "Epoch:41 Train Loss:0.6889 valid Losss:0.1882 Train Accuracy:0.4474 Train F1:0.0000  Test Accuracy:0.1842 Test F1:0.0000\n",
      "Epoch:42 Train Loss:0.6915 valid Losss:0.1882 Train Accuracy:0.4474 Train F1:0.0000  Test Accuracy:0.1842 Test F1:0.0000\n",
      "Epoch:43 Train Loss:0.6834 valid Losss:0.1882 Train Accuracy:0.4474 Train F1:0.0000  Test Accuracy:0.1842 Test F1:0.0000\n",
      "Epoch:44 Train Loss:0.6902 valid Losss:0.1882 Train Accuracy:0.4474 Train F1:0.0000  Test Accuracy:0.1842 Test F1:0.0000\n",
      "Epoch:45 Train Loss:0.6880 valid Losss:0.1882 Train Accuracy:0.4474 Train F1:0.0000  Test Accuracy:0.1842 Test F1:0.0000\n",
      "Epoch:46 Train Loss:0.6778 valid Losss:0.1883 Train Accuracy:0.4474 Train F1:0.0000  Test Accuracy:0.1842 Test F1:0.0000\n",
      "Epoch:47 Train Loss:0.6855 valid Losss:0.1883 Train Accuracy:0.4474 Train F1:0.0000  Test Accuracy:0.1842 Test F1:0.0000\n",
      "Epoch:48 Train Loss:0.6978 valid Losss:0.1883 Train Accuracy:0.4474 Train F1:0.0000  Test Accuracy:0.1842 Test F1:0.0000\n",
      "Epoch:49 Train Loss:0.6941 valid Losss:0.1883 Train Accuracy:0.4474 Train F1:0.0000  Test Accuracy:0.1842 Test F1:0.0000\n",
      "Epoch:50 Train Loss:0.6964 valid Losss:0.1883 Train Accuracy:0.4474 Train F1:0.0000  Test Accuracy:0.1842 Test F1:0.0000\n",
      "Epoch:51 Train Loss:0.6982 valid Losss:0.1883 Train Accuracy:0.4474 Train F1:0.0000  Test Accuracy:0.1842 Test F1:0.0000\n",
      "Epoch:52 Train Loss:0.6878 valid Losss:0.1883 Train Accuracy:0.4474 Train F1:0.0000  Test Accuracy:0.1842 Test F1:0.0000\n",
      "Epoch:53 Train Loss:0.6927 valid Losss:0.1883 Train Accuracy:0.4474 Train F1:0.0000  Test Accuracy:0.1842 Test F1:0.0000\n",
      "Epoch:54 Train Loss:0.6989 valid Losss:0.1883 Train Accuracy:0.4474 Train F1:0.0000  Test Accuracy:0.1842 Test F1:0.0000\n",
      "Epoch:55 Train Loss:0.6883 valid Losss:0.1883 Train Accuracy:0.4474 Train F1:0.0000  Test Accuracy:0.1842 Test F1:0.0000\n",
      "Epoch:56 Train Loss:0.6894 valid Losss:0.1883 Train Accuracy:0.4474 Train F1:0.0000  Test Accuracy:0.1842 Test F1:0.0000\n",
      "Epoch:57 Train Loss:0.6976 valid Losss:0.1884 Train Accuracy:0.4474 Train F1:0.0000  Test Accuracy:0.1842 Test F1:0.0000\n",
      "Epoch:58 Train Loss:0.6849 valid Losss:0.1884 Train Accuracy:0.4474 Train F1:0.0000  Test Accuracy:0.1842 Test F1:0.0000\n",
      "Epoch:59 Train Loss:0.6862 valid Losss:0.1884 Train Accuracy:0.4474 Train F1:0.0000  Test Accuracy:0.1842 Test F1:0.0000\n",
      "Epoch:60 Train Loss:0.6830 valid Losss:0.1884 Train Accuracy:0.4474 Train F1:0.0000  Test Accuracy:0.1842 Test F1:0.0000\n",
      "Epoch:61 Train Loss:0.6796 valid Losss:0.1884 Train Accuracy:0.4474 Train F1:0.0000  Test Accuracy:0.1842 Test F1:0.0000\n",
      "Epoch:62 Train Loss:0.6919 valid Losss:0.1884 Train Accuracy:0.4474 Train F1:0.0000  Test Accuracy:0.1842 Test F1:0.0000\n",
      "Epoch:63 Train Loss:0.6881 valid Losss:0.1885 Train Accuracy:0.4474 Train F1:0.0000  Test Accuracy:0.1842 Test F1:0.0000\n",
      "Epoch:64 Train Loss:0.6813 valid Losss:0.1885 Train Accuracy:0.4474 Train F1:0.0000  Test Accuracy:0.1842 Test F1:0.0000\n",
      "Epoch:65 Train Loss:0.6892 valid Losss:0.1885 Train Accuracy:0.4474 Train F1:0.0000  Test Accuracy:0.1842 Test F1:0.0000\n",
      "Epoch:66 Train Loss:0.7024 valid Losss:0.1885 Train Accuracy:0.4474 Train F1:0.0000  Test Accuracy:0.1842 Test F1:0.0000\n",
      "Epoch:67 Train Loss:0.6833 valid Losss:0.1885 Train Accuracy:0.4474 Train F1:0.0000  Test Accuracy:0.1842 Test F1:0.0000\n",
      "Epoch:68 Train Loss:0.6849 valid Losss:0.1885 Train Accuracy:0.4474 Train F1:0.0000  Test Accuracy:0.1842 Test F1:0.0000\n",
      "Epoch:69 Train Loss:0.6931 valid Losss:0.1886 Train Accuracy:0.4474 Train F1:0.0000  Test Accuracy:0.1842 Test F1:0.0000\n",
      "Epoch:70 Train Loss:0.6842 valid Losss:0.1886 Train Accuracy:0.4474 Train F1:0.0000  Test Accuracy:0.1842 Test F1:0.0000\n",
      "Epoch:71 Train Loss:0.6840 valid Losss:0.1886 Train Accuracy:0.4474 Train F1:0.0000  Test Accuracy:0.1842 Test F1:0.0000\n",
      "Epoch:72 Train Loss:0.7020 valid Losss:0.1886 Train Accuracy:0.4474 Train F1:0.0000  Test Accuracy:0.1842 Test F1:0.0000\n",
      "Epoch:73 Train Loss:0.6951 valid Losss:0.1886 Train Accuracy:0.4474 Train F1:0.0000  Test Accuracy:0.1842 Test F1:0.0000\n",
      "Epoch:74 Train Loss:0.6893 valid Losss:0.1886 Train Accuracy:0.4474 Train F1:0.0000  Test Accuracy:0.1842 Test F1:0.0000\n",
      "Epoch:75 Train Loss:0.6893 valid Losss:0.1886 Train Accuracy:0.4474 Train F1:0.0000  Test Accuracy:0.1842 Test F1:0.0000\n",
      "Epoch:76 Train Loss:0.6867 valid Losss:0.1886 Train Accuracy:0.4474 Train F1:0.0000  Test Accuracy:0.1842 Test F1:0.0000\n",
      "Epoch:77 Train Loss:0.6962 valid Losss:0.1886 Train Accuracy:0.4474 Train F1:0.0000  Test Accuracy:0.1842 Test F1:0.0000\n",
      "Epoch:78 Train Loss:0.6907 valid Losss:0.1887 Train Accuracy:0.4474 Train F1:0.0000  Test Accuracy:0.1842 Test F1:0.0000\n",
      "Epoch:79 Train Loss:0.6884 valid Losss:0.1887 Train Accuracy:0.4474 Train F1:0.0000  Test Accuracy:0.1842 Test F1:0.0000\n",
      "Epoch:80 Train Loss:0.6958 valid Losss:0.1887 Train Accuracy:0.4474 Train F1:0.0000  Test Accuracy:0.1842 Test F1:0.0000\n",
      "Epoch:81 Train Loss:0.6904 valid Losss:0.1887 Train Accuracy:0.4474 Train F1:0.0000  Test Accuracy:0.1842 Test F1:0.0000\n",
      "Epoch:82 Train Loss:0.6898 valid Losss:0.1887 Train Accuracy:0.4474 Train F1:0.0000  Test Accuracy:0.1842 Test F1:0.0000\n",
      "Epoch:83 Train Loss:0.6752 valid Losss:0.1887 Train Accuracy:0.4474 Train F1:0.0000  Test Accuracy:0.1842 Test F1:0.0000\n",
      "Epoch:84 Train Loss:0.6861 valid Losss:0.1887 Train Accuracy:0.4474 Train F1:0.0000  Test Accuracy:0.1842 Test F1:0.0000\n",
      "Epoch:85 Train Loss:0.6835 valid Losss:0.1888 Train Accuracy:0.4474 Train F1:0.0000  Test Accuracy:0.1842 Test F1:0.0000\n",
      "Epoch:86 Train Loss:0.6884 valid Losss:0.1888 Train Accuracy:0.4474 Train F1:0.0000  Test Accuracy:0.1842 Test F1:0.0000\n",
      "Epoch:87 Train Loss:0.6825 valid Losss:0.1888 Train Accuracy:0.4474 Train F1:0.0000  Test Accuracy:0.1842 Test F1:0.0000\n",
      "Epoch:88 Train Loss:0.6874 valid Losss:0.1888 Train Accuracy:0.4474 Train F1:0.0000  Test Accuracy:0.1842 Test F1:0.0000\n",
      "Epoch:89 Train Loss:0.6979 valid Losss:0.1888 Train Accuracy:0.4474 Train F1:0.0000  Test Accuracy:0.1842 Test F1:0.0000\n",
      "Epoch:90 Train Loss:0.6844 valid Losss:0.1888 Train Accuracy:0.4474 Train F1:0.0000  Test Accuracy:0.1842 Test F1:0.0000\n",
      "Epoch:91 Train Loss:0.6869 valid Losss:0.1889 Train Accuracy:0.4474 Train F1:0.0000  Test Accuracy:0.1842 Test F1:0.0000\n",
      "Epoch:92 Train Loss:0.6953 valid Losss:0.1889 Train Accuracy:0.4474 Train F1:0.0000  Test Accuracy:0.1842 Test F1:0.0000\n",
      "Epoch:93 Train Loss:0.6837 valid Losss:0.1889 Train Accuracy:0.4474 Train F1:0.0000  Test Accuracy:0.1842 Test F1:0.0000\n",
      "Epoch:94 Train Loss:0.6827 valid Losss:0.1889 Train Accuracy:0.4474 Train F1:0.0000  Test Accuracy:0.1842 Test F1:0.0000\n",
      "Epoch:95 Train Loss:0.6946 valid Losss:0.1889 Train Accuracy:0.4474 Train F1:0.0000  Test Accuracy:0.1842 Test F1:0.0000\n",
      "Epoch:96 Train Loss:0.6953 valid Losss:0.1889 Train Accuracy:0.4474 Train F1:0.0000  Test Accuracy:0.1842 Test F1:0.0000\n",
      "Epoch:97 Train Loss:0.6895 valid Losss:0.1889 Train Accuracy:0.4474 Train F1:0.0000  Test Accuracy:0.1842 Test F1:0.0000\n",
      "Epoch:98 Train Loss:0.6901 valid Losss:0.1889 Train Accuracy:0.4474 Train F1:0.0000  Test Accuracy:0.1842 Test F1:0.0000\n",
      "Epoch:99 Train Loss:0.6858 valid Losss:0.1889 Train Accuracy:0.4474 Train F1:0.0000  Test Accuracy:0.1842 Test F1:0.0000\n",
      "Epoch:100 Train Loss:0.6902 valid Losss:0.1890 Train Accuracy:0.4474 Train F1:0.0000  Test Accuracy:0.1842 Test F1:0.0000\n"
     ]
    }
   ],
   "source": [
    "num_epoch = 100\n",
    "train_losses=[]\n",
    "valid_losses=[]\n",
    "\n",
    "for epoch in range(1,num_epoch+1):\n",
    "  train_loss=0.0\n",
    "  valid_loss=0.0\n",
    "\n",
    "  train_f1 =0.0\n",
    "  train_acc = 0.0\n",
    "\n",
    "  test_acc = 0.0 \n",
    "  test_f1 = 0.0\n",
    "\n",
    "  model.train()\n",
    "  for img,lbl in train_ds_loader:\n",
    "    img=img.cuda()\n",
    "    lbl=lbl.cuda()\n",
    "    #img=img.cpu()\n",
    "    #lbl=lbl.cpu()\n",
    "\n",
    "    optimizer.zero_grad()\n",
    "    predict=model(img)\n",
    "    loss=loss_fn(predict,lbl.flatten())\n",
    "    loss.backward()\n",
    "    optimizer.step()\n",
    "\n",
    "    train_loss+=loss.item()*img.size(0)\n",
    "\n",
    "    label = lbl.flatten().cpu()\n",
    "    prediction = predict.cpu().detach().numpy()\n",
    "    #print(prediction)\n",
    "    train_acc += accuracy_score(label, prediction.round())\n",
    "    train_f1 += 0#f1_score(label, prediction.round())\n",
    "\n",
    "  model.eval()\n",
    "  for img,lbl in test_ds_loader:\n",
    "    img=img.cuda()\n",
    "    lbl=lbl.cuda()\n",
    "    #img=img.cpu()\n",
    "    #lbl=lbl.cpu()\n",
    "\n",
    "    predict=model(img)\n",
    "    loss=loss_fn(predict,lbl.flatten())\n",
    "\n",
    "    valid_loss+=loss.item()*img.size(0)\n",
    "\n",
    "    label = lbl.flatten().cpu()\n",
    "    prediction = predict.cpu().detach().numpy()\n",
    "\n",
    "    test_acc += accuracy_score(label, prediction.round())\n",
    "    test_f1 += 0#f1_score(label, prediction.round())\n",
    "\n",
    "  train_loss=train_loss/len(train_ds_loader.sampler) \n",
    "  valid_loss=valid_loss/len(train_ds_loader.sampler)\n",
    "\n",
    "  train_acc=train_acc/len(train_ds_loader.sampler)\n",
    "  \n",
    "  train_f1=train_f1/len(train_ds_loader.sampler)\n",
    "  train_losses.append(train_loss)\n",
    "  valid_losses.append(valid_loss)\n",
    "\n",
    "  test_acc=test_acc/len(train_ds_loader.sampler)\n",
    "\n",
    "\n",
    "  print('Epoch:{} Train Loss:{:.4f} valid Losss:{:.4f} Train Accuracy:{:.4f} Train F1:{:.4f}  Test Accuracy:{:.4f} Test F1:{:.4f}'.format(epoch,train_loss,valid_loss, train_acc, train_f1,  test_acc, test_f1))    "
   ]
  },
  {
   "attachments": {},
   "cell_type": "markdown",
   "metadata": {},
   "source": [
    "# "
   ]
  },
  {
   "attachments": {},
   "cell_type": "markdown",
   "metadata": {},
   "source": [
    "# SVM"
   ]
  },
  {
   "cell_type": "code",
   "execution_count": 160,
   "metadata": {},
   "outputs": [],
   "source": [
    "from sklearn import svm\n",
    "from sklearn.model_selection import GridSearchCV\n",
    "# param_grid={'C':[0.1,1,10,100],'gamma':[0.0001,0.001,0.1,1],'kernel':['rbf','poly']}\n",
    "\n",
    "\n",
    "param_grid={'C':[1, 10, 100, 1000],'gamma':[0.001,0.0001],'kernel':['rbf','linear']}\n",
    "svc=svm.SVC(probability=True)\n",
    "model=GridSearchCV(svc,param_grid)"
   ]
  },
  {
   "cell_type": "code",
   "execution_count": 161,
   "metadata": {},
   "outputs": [],
   "source": [
    "X_train_svm = X_train.reshape(38, 19*19)\n",
    "\n",
    "X_test_svm = X_test.reshape(10, 19*19)"
   ]
  },
  {
   "cell_type": "code",
   "execution_count": 162,
   "metadata": {},
   "outputs": [
    {
     "data": {
      "text/plain": [
       "GridSearchCV(estimator=SVC(probability=True),\n",
       "             param_grid={'C': [1, 10, 100, 1000], 'gamma': [0.001, 0.0001],\n",
       "                         'kernel': ['rbf', 'linear']})"
      ]
     },
     "execution_count": 162,
     "metadata": {},
     "output_type": "execute_result"
    }
   ],
   "source": [
    "model.fit(X_train_svm,y_train)"
   ]
  },
  {
   "cell_type": "code",
   "execution_count": 173,
   "metadata": {},
   "outputs": [
    {
     "data": {
      "text/plain": [
       "1.0"
      ]
     },
     "execution_count": 173,
     "metadata": {},
     "output_type": "execute_result"
    }
   ],
   "source": [
    "y_pred=model.predict(X_train_svm)\n",
    "\n",
    "accuracy_score(y_train, y_pred)\n"
   ]
  },
  {
   "cell_type": "code",
   "execution_count": 186,
   "metadata": {},
   "outputs": [
    {
     "data": {
      "text/plain": [
       "1.0"
      ]
     },
     "execution_count": 186,
     "metadata": {},
     "output_type": "execute_result"
    }
   ],
   "source": [
    "from sklearn.ensemble import RandomForestClassifier\n",
    "clf = RandomForestClassifier(max_depth=2, random_state=0)\n",
    "clf.fit(X_train_svm,y_train)\n",
    "\n",
    "y_pred = clf.predict(X_train_svm)\n",
    "\n",
    "accuracy_score(y_train, y_pred)\n"
   ]
  },
  {
   "cell_type": "code",
   "execution_count": 167,
   "metadata": {},
   "outputs": [
    {
     "data": {
      "text/plain": [
       "{'AD', 'HC'}"
      ]
     },
     "execution_count": 167,
     "metadata": {},
     "output_type": "execute_result"
    }
   ],
   "source": [
    "labels = set(df[\"label\"])\n",
    "labels"
   ]
  },
  {
   "cell_type": "code",
   "execution_count": 168,
   "metadata": {},
   "outputs": [],
   "source": [
    "tick_labels = labels\n",
    "n_classes = len(labels)\n",
    "def showClassficationReport(y_pred, y_true, top_n = 1):\n",
    "    # Loop on each generator batch and predict\n",
    "\n",
    "    conf_matrix = confusion_matrix(y_true, y_pred, labels=np.arange(n_classes))\n",
    "\n",
    "    conf_matrix = conf_matrix/np.sum(conf_matrix, axis=1)\n",
    "    fig, ax = plt.subplots(figsize=(8,8))\n",
    "    sns.heatmap(conf_matrix, annot=True, fmt=\".2f\", square=True, cbar=False, \n",
    "                cmap=plt.cm.jet, xticklabels=tick_labels, yticklabels=tick_labels,\n",
    "                ax=ax)\n",
    "    ax.set_ylabel('Actual')\n",
    "    ax.set_xlabel('Predicted')\n",
    "    ax.set_title('Confusion Matrix')\n",
    "    plt.show()\n",
    " \n",
    "    class_report = classification_report(y_true, y_pred)\n",
    "    return class_report"
   ]
  },
  {
   "cell_type": "code",
   "execution_count": 169,
   "metadata": {},
   "outputs": [
    {
     "data": {
      "image/png": "[encoded data removed]",
      "text/plain": [
       "<Figure size 800x800 with 1 Axes>"
      ]
     },
     "metadata": {},
     "output_type": "display_data"
    },
    {
     "name": "stdout",
     "output_type": "stream",
     "text": [
      "              precision    recall  f1-score   support\n",
      "\n",
      "         0.0       1.00      1.00      1.00         7\n",
      "         1.0       1.00      1.00      1.00         3\n",
      "\n",
      "    accuracy                           1.00        10\n",
      "   macro avg       1.00      1.00      1.00        10\n",
      "weighted avg       1.00      1.00      1.00        10\n",
      "\n"
     ]
    }
   ],
   "source": [
    "class_report = showClassficationReport(y_pred , y_test)\n",
    "print(class_report)"
   ]
  },
  {
   "cell_type": "code",
   "execution_count": 170,
   "metadata": {},
   "outputs": [
    {
     "data": {
      "text/plain": [
       "tensor([0., 0., 0., 0., 0., 0., 1., 1., 1., 0.])"
      ]
     },
     "execution_count": 170,
     "metadata": {},
     "output_type": "execute_result"
    }
   ],
   "source": [
    "y_test"
   ]
  },
  {
   "cell_type": "code",
   "execution_count": 171,
   "metadata": {},
   "outputs": [
    {
     "data": {
      "text/plain": [
       "array([0., 0., 0., 0., 0., 0., 1., 1., 1., 0.], dtype=float32)"
      ]
     },
     "execution_count": 171,
     "metadata": {},
     "output_type": "execute_result"
    }
   ],
   "source": [
    "y_pred  "
   ]
  }
 ],
 "metadata": {
  "kernelspec": {
   "display_name": "base",
   "language": "python",
   "name": "python3"
  },
  "language_info": {
   "codemirror_mode": {
    "name": "ipython",
    "version": 3
   },
   "file_extension": ".py",
   "mimetype": "text/x-python",
   "name": "python",
   "nbconvert_exporter": "python",
   "pygments_lexer": "ipython3",
   "version": "3.9.13"
  },
  "orig_nbformat": 4,
  "vscode": {
   "interpreter": {
    "hash": "bae67bf5c71ecf72f0aff2dfc780240f3df2ea1c42cb575951f81d27dfb42554"
   }
  }
 },
 "nbformat": 4,
 "nbformat_minor": 2
}
