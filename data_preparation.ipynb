{
 "cells": [
  {
   "cell_type": "code",
   "execution_count": 30,
   "metadata": {},
   "outputs": [],
   "source": [
    "import mne\n",
    "import numpy as np\n",
    "from scipy import stats\n",
    "import seaborn as sns\n",
    "import pandas as pd\n",
    "import os\n",
    "import re\n",
    "\n",
    "# Multiprocessing\n",
    "import deepgraph as dg\n",
    "from multiprocessing import Pool\n",
    "\n",
    "import torch\n"
   ]
  },
  {
   "cell_type": "code",
   "execution_count": 35,
   "metadata": {},
   "outputs": [],
   "source": [
    "%matplotlib inline\n",
    "cmap = sns.cm.rocket_r"
   ]
  },
  {
   "attachments": {},
   "cell_type": "markdown",
   "metadata": {},
   "source": [
    "# Data Preparation"
   ]
  },
  {
   "cell_type": "code",
   "execution_count": 67,
   "metadata": {},
   "outputs": [],
   "source": [
    "# Common functions\n",
    "def get_eeg_file(unique_id): \n",
    "  rootdir = \"./Data\"\n",
    "  sub,  taks = unique_id.split('_')\n",
    "  regex = re.compile('(.*{}.*{}.*edf$)'.format(sub, taks))\n",
    "\n",
    "  for root, dirs, files in os.walk(rootdir):\n",
    "    for file in files:\n",
    "      if regex.match(file):\n",
    "        return file\n",
    "      \n",
    "def split_given_size(a, size):\n",
    "    new_array =  np.array_split(a, np.arange(size,a.shape[1],size), axis=1)\n",
    "    if(new_array[-1].shape[1] < new_array[0].shape[1]):\n",
    "        new_array = new_array[:-1]\n",
    "    return new_array\n",
    "\n",
    "def get_raw_eeg(filename, root_dir = \"./Data/\"):\n",
    "    raw = mne.io.read_raw_edf(root_dir + filename)\n",
    "    return raw\n",
    "#split_given_size(np.arange(1000),7)"
   ]
  },
  {
   "cell_type": "code",
   "execution_count": 75,
   "metadata": {},
   "outputs": [],
   "source": [
    "def graph_corr_matrix(corr, channels):\n",
    "    sns.heatmap(np.average(corr, axis=0), cmap=cmap, vmax=1, vmin=0, xticklabels=channels, yticklabels=channels)"
   ]
  },
  {
   "cell_type": "code",
   "execution_count": 4,
   "metadata": {},
   "outputs": [
    {
     "data": {
      "text/html": [
       "<div>\n",
       "<style scoped>\n",
       "    .dataframe tbody tr th:only-of-type {\n",
       "        vertical-align: middle;\n",
       "    }\n",
       "\n",
       "    .dataframe tbody tr th {\n",
       "        vertical-align: top;\n",
       "    }\n",
       "\n",
       "    .dataframe thead th {\n",
       "        text-align: right;\n",
       "    }\n",
       "</style>\n",
       "<table border=\"1\" class=\"dataframe\">\n",
       "  <thead>\n",
       "    <tr style=\"text-align: right;\">\n",
       "      <th></th>\n",
       "      <th>sub</th>\n",
       "      <th>Age</th>\n",
       "      <th>Gender</th>\n",
       "      <th>Study</th>\n",
       "      <th>count</th>\n",
       "      <th>session</th>\n",
       "      <th>Condition</th>\n",
       "      <th>task</th>\n",
       "      <th>Headset</th>\n",
       "    </tr>\n",
       "  </thead>\n",
       "  <tbody>\n",
       "    <tr>\n",
       "      <th>0</th>\n",
       "      <td>9003</td>\n",
       "      <td>41</td>\n",
       "      <td>F</td>\n",
       "      <td>INSPECDS</td>\n",
       "      <td>286</td>\n",
       "      <td>900301000</td>\n",
       "      <td>HC</td>\n",
       "      <td>RSEC</td>\n",
       "      <td>X24</td>\n",
       "    </tr>\n",
       "    <tr>\n",
       "      <th>1</th>\n",
       "      <td>9003</td>\n",
       "      <td>41</td>\n",
       "      <td>F</td>\n",
       "      <td>INSPECDS</td>\n",
       "      <td>296</td>\n",
       "      <td>900301000</td>\n",
       "      <td>HC</td>\n",
       "      <td>RSEO</td>\n",
       "      <td>X24</td>\n",
       "    </tr>\n",
       "    <tr>\n",
       "      <th>2</th>\n",
       "      <td>9004</td>\n",
       "      <td>66</td>\n",
       "      <td>F</td>\n",
       "      <td>INSPECDS</td>\n",
       "      <td>266</td>\n",
       "      <td>900401000</td>\n",
       "      <td>HC</td>\n",
       "      <td>RSEC</td>\n",
       "      <td>X24</td>\n",
       "    </tr>\n",
       "    <tr>\n",
       "      <th>3</th>\n",
       "      <td>9004</td>\n",
       "      <td>66</td>\n",
       "      <td>F</td>\n",
       "      <td>INSPECDS</td>\n",
       "      <td>285</td>\n",
       "      <td>900401000</td>\n",
       "      <td>HC</td>\n",
       "      <td>RSEO</td>\n",
       "      <td>X24</td>\n",
       "    </tr>\n",
       "    <tr>\n",
       "      <th>4</th>\n",
       "      <td>9006</td>\n",
       "      <td>52</td>\n",
       "      <td>M</td>\n",
       "      <td>INSPECDS</td>\n",
       "      <td>288</td>\n",
       "      <td>900601000</td>\n",
       "      <td>HC</td>\n",
       "      <td>RSEC</td>\n",
       "      <td>X24</td>\n",
       "    </tr>\n",
       "    <tr>\n",
       "      <th>5</th>\n",
       "      <td>9006</td>\n",
       "      <td>52</td>\n",
       "      <td>M</td>\n",
       "      <td>INSPECDS</td>\n",
       "      <td>291</td>\n",
       "      <td>900601000</td>\n",
       "      <td>HC</td>\n",
       "      <td>RSEO</td>\n",
       "      <td>X24</td>\n",
       "    </tr>\n",
       "    <tr>\n",
       "      <th>6</th>\n",
       "      <td>9008</td>\n",
       "      <td>53</td>\n",
       "      <td>F</td>\n",
       "      <td>INSPECDS</td>\n",
       "      <td>291</td>\n",
       "      <td>900801000</td>\n",
       "      <td>HC</td>\n",
       "      <td>RSEC</td>\n",
       "      <td>X24</td>\n",
       "    </tr>\n",
       "    <tr>\n",
       "      <th>7</th>\n",
       "      <td>9008</td>\n",
       "      <td>53</td>\n",
       "      <td>F</td>\n",
       "      <td>INSPECDS</td>\n",
       "      <td>290</td>\n",
       "      <td>900801000</td>\n",
       "      <td>HC</td>\n",
       "      <td>RSEO</td>\n",
       "      <td>X24</td>\n",
       "    </tr>\n",
       "    <tr>\n",
       "      <th>8</th>\n",
       "      <td>9009</td>\n",
       "      <td>48</td>\n",
       "      <td>F</td>\n",
       "      <td>INSPECDS</td>\n",
       "      <td>292</td>\n",
       "      <td>900901000</td>\n",
       "      <td>HC</td>\n",
       "      <td>RSEC</td>\n",
       "      <td>X24</td>\n",
       "    </tr>\n",
       "    <tr>\n",
       "      <th>9</th>\n",
       "      <td>9009</td>\n",
       "      <td>48</td>\n",
       "      <td>F</td>\n",
       "      <td>INSPECDS</td>\n",
       "      <td>279</td>\n",
       "      <td>900901000</td>\n",
       "      <td>HC</td>\n",
       "      <td>RSEO</td>\n",
       "      <td>X24</td>\n",
       "    </tr>\n",
       "  </tbody>\n",
       "</table>\n",
       "</div>"
      ],
      "text/plain": [
       "    sub  Age Gender     Study  count    session Condition  task Headset\n",
       "0  9003   41      F  INSPECDS    286  900301000        HC  RSEC     X24\n",
       "1  9003   41      F  INSPECDS    296  900301000        HC  RSEO     X24\n",
       "2  9004   66      F  INSPECDS    266  900401000        HC  RSEC     X24\n",
       "3  9004   66      F  INSPECDS    285  900401000        HC  RSEO     X24\n",
       "4  9006   52      M  INSPECDS    288  900601000        HC  RSEC     X24\n",
       "5  9006   52      M  INSPECDS    291  900601000        HC  RSEO     X24\n",
       "6  9008   53      F  INSPECDS    291  900801000        HC  RSEC     X24\n",
       "7  9008   53      F  INSPECDS    290  900801000        HC  RSEO     X24\n",
       "8  9009   48      F  INSPECDS    292  900901000        HC  RSEC     X24\n",
       "9  9009   48      F  INSPECDS    279  900901000        HC  RSEO     X24"
      ]
     },
     "execution_count": 4,
     "metadata": {},
     "output_type": "execute_result"
    }
   ],
   "source": [
    "df = pd.read_excel(\"Demographic_List.xlsx\")\n",
    "\n",
    "df.head(10)"
   ]
  },
  {
   "cell_type": "code",
   "execution_count": 5,
   "metadata": {},
   "outputs": [
    {
     "data": {
      "text/html": [
       "<div>\n",
       "<style scoped>\n",
       "    .dataframe tbody tr th:only-of-type {\n",
       "        vertical-align: middle;\n",
       "    }\n",
       "\n",
       "    .dataframe tbody tr th {\n",
       "        vertical-align: top;\n",
       "    }\n",
       "\n",
       "    .dataframe thead th {\n",
       "        text-align: right;\n",
       "    }\n",
       "</style>\n",
       "<table border=\"1\" class=\"dataframe\">\n",
       "  <thead>\n",
       "    <tr style=\"text-align: right;\">\n",
       "      <th></th>\n",
       "      <th>sub</th>\n",
       "      <th>Age</th>\n",
       "      <th>Gender</th>\n",
       "      <th>Study</th>\n",
       "      <th>count</th>\n",
       "      <th>session</th>\n",
       "      <th>task</th>\n",
       "      <th>Headset</th>\n",
       "    </tr>\n",
       "    <tr>\n",
       "      <th>Condition</th>\n",
       "      <th></th>\n",
       "      <th></th>\n",
       "      <th></th>\n",
       "      <th></th>\n",
       "      <th></th>\n",
       "      <th></th>\n",
       "      <th></th>\n",
       "      <th></th>\n",
       "    </tr>\n",
       "  </thead>\n",
       "  <tbody>\n",
       "    <tr>\n",
       "      <th>AD</th>\n",
       "      <td>52</td>\n",
       "      <td>52</td>\n",
       "      <td>52</td>\n",
       "      <td>52</td>\n",
       "      <td>52</td>\n",
       "      <td>52</td>\n",
       "      <td>52</td>\n",
       "      <td>52</td>\n",
       "    </tr>\n",
       "    <tr>\n",
       "      <th>HC</th>\n",
       "      <td>224</td>\n",
       "      <td>224</td>\n",
       "      <td>224</td>\n",
       "      <td>224</td>\n",
       "      <td>224</td>\n",
       "      <td>224</td>\n",
       "      <td>224</td>\n",
       "      <td>224</td>\n",
       "    </tr>\n",
       "    <tr>\n",
       "      <th>MCI</th>\n",
       "      <td>107</td>\n",
       "      <td>107</td>\n",
       "      <td>107</td>\n",
       "      <td>107</td>\n",
       "      <td>107</td>\n",
       "      <td>107</td>\n",
       "      <td>107</td>\n",
       "      <td>107</td>\n",
       "    </tr>\n",
       "  </tbody>\n",
       "</table>\n",
       "</div>"
      ],
      "text/plain": [
       "           sub  Age  Gender  Study  count  session  task  Headset\n",
       "Condition                                                        \n",
       "AD          52   52      52     52     52       52    52       52\n",
       "HC         224  224     224    224    224      224   224      224\n",
       "MCI        107  107     107    107    107      107   107      107"
      ]
     },
     "execution_count": 5,
     "metadata": {},
     "output_type": "execute_result"
    }
   ],
   "source": [
    "df.groupby(\"Condition\").count()"
   ]
  },
  {
   "cell_type": "code",
   "execution_count": 6,
   "metadata": {},
   "outputs": [
    {
     "data": {
      "text/plain": [
       "{'AD', 'HC', 'MCI'}"
      ]
     },
     "execution_count": 6,
     "metadata": {},
     "output_type": "execute_result"
    }
   ],
   "source": [
    "conditions = set(df[\"Condition\"])\n",
    "conditions"
   ]
  },
  {
   "cell_type": "code",
   "execution_count": 70,
   "metadata": {},
   "outputs": [
    {
     "data": {
      "text/html": [
       "<div>\n",
       "<style scoped>\n",
       "    .dataframe tbody tr th:only-of-type {\n",
       "        vertical-align: middle;\n",
       "    }\n",
       "\n",
       "    .dataframe tbody tr th {\n",
       "        vertical-align: top;\n",
       "    }\n",
       "\n",
       "    .dataframe thead th {\n",
       "        text-align: right;\n",
       "    }\n",
       "</style>\n",
       "<table border=\"1\" class=\"dataframe\">\n",
       "  <thead>\n",
       "    <tr style=\"text-align: right;\">\n",
       "      <th></th>\n",
       "      <th>sub</th>\n",
       "      <th>Age</th>\n",
       "      <th>Gender</th>\n",
       "      <th>Study</th>\n",
       "      <th>count</th>\n",
       "      <th>session</th>\n",
       "      <th>Condition</th>\n",
       "      <th>task</th>\n",
       "      <th>Headset</th>\n",
       "      <th>unique_id</th>\n",
       "      <th>filename</th>\n",
       "    </tr>\n",
       "  </thead>\n",
       "  <tbody>\n",
       "    <tr>\n",
       "      <th>0</th>\n",
       "      <td>9003</td>\n",
       "      <td>41</td>\n",
       "      <td>F</td>\n",
       "      <td>INSPECDS</td>\n",
       "      <td>286</td>\n",
       "      <td>900301000</td>\n",
       "      <td>HC</td>\n",
       "      <td>RSEC</td>\n",
       "      <td>X24</td>\n",
       "      <td>9003_RSEC</td>\n",
       "      <td>INSPEC.INIT.900301000.010217.104300.Signals.Ra...</td>\n",
       "    </tr>\n",
       "    <tr>\n",
       "      <th>1</th>\n",
       "      <td>9003</td>\n",
       "      <td>41</td>\n",
       "      <td>F</td>\n",
       "      <td>INSPECDS</td>\n",
       "      <td>296</td>\n",
       "      <td>900301000</td>\n",
       "      <td>HC</td>\n",
       "      <td>RSEO</td>\n",
       "      <td>X24</td>\n",
       "      <td>9003_RSEO</td>\n",
       "      <td>INSPEC.INIT.900301000.010217.104300.Signals.Ra...</td>\n",
       "    </tr>\n",
       "    <tr>\n",
       "      <th>2</th>\n",
       "      <td>9004</td>\n",
       "      <td>66</td>\n",
       "      <td>F</td>\n",
       "      <td>INSPECDS</td>\n",
       "      <td>266</td>\n",
       "      <td>900401000</td>\n",
       "      <td>HC</td>\n",
       "      <td>RSEC</td>\n",
       "      <td>X24</td>\n",
       "      <td>9004_RSEC</td>\n",
       "      <td>INSPEC.INIT.900401000.070217.105622.Signals.Ra...</td>\n",
       "    </tr>\n",
       "    <tr>\n",
       "      <th>3</th>\n",
       "      <td>9004</td>\n",
       "      <td>66</td>\n",
       "      <td>F</td>\n",
       "      <td>INSPECDS</td>\n",
       "      <td>285</td>\n",
       "      <td>900401000</td>\n",
       "      <td>HC</td>\n",
       "      <td>RSEO</td>\n",
       "      <td>X24</td>\n",
       "      <td>9004_RSEO</td>\n",
       "      <td>INSPEC.INIT.900401000.070217.105622.Signals.Ra...</td>\n",
       "    </tr>\n",
       "    <tr>\n",
       "      <th>4</th>\n",
       "      <td>9006</td>\n",
       "      <td>52</td>\n",
       "      <td>M</td>\n",
       "      <td>INSPECDS</td>\n",
       "      <td>288</td>\n",
       "      <td>900601000</td>\n",
       "      <td>HC</td>\n",
       "      <td>RSEC</td>\n",
       "      <td>X24</td>\n",
       "      <td>9006_RSEC</td>\n",
       "      <td>INSPEC.INIT.900601000.130217.115256.Signals.Ra...</td>\n",
       "    </tr>\n",
       "  </tbody>\n",
       "</table>\n",
       "</div>"
      ],
      "text/plain": [
       "    sub  Age Gender     Study  count    session Condition  task Headset  \\\n",
       "0  9003   41      F  INSPECDS    286  900301000        HC  RSEC     X24   \n",
       "1  9003   41      F  INSPECDS    296  900301000        HC  RSEO     X24   \n",
       "2  9004   66      F  INSPECDS    266  900401000        HC  RSEC     X24   \n",
       "3  9004   66      F  INSPECDS    285  900401000        HC  RSEO     X24   \n",
       "4  9006   52      M  INSPECDS    288  900601000        HC  RSEC     X24   \n",
       "\n",
       "   unique_id                                           filename  \n",
       "0  9003_RSEC  INSPEC.INIT.900301000.010217.104300.Signals.Ra...  \n",
       "1  9003_RSEO  INSPEC.INIT.900301000.010217.104300.Signals.Ra...  \n",
       "2  9004_RSEC  INSPEC.INIT.900401000.070217.105622.Signals.Ra...  \n",
       "3  9004_RSEO  INSPEC.INIT.900401000.070217.105622.Signals.Ra...  \n",
       "4  9006_RSEC  INSPEC.INIT.900601000.130217.115256.Signals.Ra...  "
      ]
     },
     "execution_count": 70,
     "metadata": {},
     "output_type": "execute_result"
    }
   ],
   "source": [
    "# Preprocessing\n",
    "df[\"unique_id\"] = df[\"sub\"].astype(str) + \"_\" + df[\"task\"]\n",
    "df[\"filename\"] = df[\"unique_id\"].apply(get_eeg_file)\n",
    "df = df[df[\"Condition\"] != \"MCI\"]\n",
    "\n",
    "#df.to_csv(\"dataframe.csv\")\n",
    "df.head()"
   ]
  },
  {
   "cell_type": "code",
   "execution_count": null,
   "metadata": {},
   "outputs": [],
   "source": [
    "# Read EEG raw files and save them in a dict for later use \n",
    "raw_files = {} \n",
    "eeg_min_size = 308224\n",
    "for _, s in df.iterrows(): \n",
    "    raw_files[s[\"unique_id\"]] = get_raw_eeg(s[\"filename\"])\n",
    "    shape = raw_files[s[\"unique_id\"]].get_data().shape[1] \n",
    "    eeg_min_size = shape if shape < eeg_min_size else eeg_min_size\n",
    "\n",
    "eeg_min_size"
   ]
  },
  {
   "cell_type": "code",
   "execution_count": 26,
   "metadata": {},
   "outputs": [],
   "source": [
    "eeg_max_size = 1024\n",
    "n_features = 20\n",
    "n_samples = len(raw_files) \n",
    "channels = raw_files[\"9003_RSEC\"].ch_names[:20]\n"
   ]
  },
  {
   "cell_type": "code",
   "execution_count": 44,
   "metadata": {},
   "outputs": [],
   "source": [
    "new_df = []\n",
    "X = np.zeros((n_samples, n_features, eeg_max_size))\n",
    "X.shape\n",
    "# Fill matrix X with data \n",
    "for i, s in df.iterrows(): \n",
    "    raw = raw_files[s[\"unique_id\"]]\n",
    "    shape = raw.get_data().shape[1]\n",
    "    data = raw.get_data(channels) \n",
    "    #data = np.pad(data, [(0,0),(0, eeg_max_size-shape )], 'wrap')\n",
    "    #print(data.shape)\n",
    "    data = split_given_size(data, 1024*5)\n",
    "    #print(len(data))\n",
    "    for i, d in enumerate(data): \n",
    "        raw = torch.Tensor(d)\n",
    "        corr = torch.corrcoef(raw)\n",
    "        object = {\n",
    "            \"UID\" : s[\"unique_id\"] + \"_{}\".format(i), \n",
    "            \"Condition\" : s[\"Condition\"],\n",
    "            \"Correlation\" : corr.numpy()\n",
    "        }\n",
    "        new_df.append(object)"
   ]
  },
  {
   "cell_type": "code",
   "execution_count": 54,
   "metadata": {},
   "outputs": [],
   "source": [
    "new_df = []\n",
    "X = np.zeros((n_samples, n_features, eeg_max_size))\n",
    "X.shape\n",
    "# Fill matrix X with data \n",
    "for i, s in df.iterrows(): \n",
    "    raw = raw_files[s[\"unique_id\"]]\n",
    "    shape = raw.get_data().shape[1]\n",
    "    data = raw.get_data(channels) \n",
    "    #data = np.pad(data, [(0,0),(0, eeg_max_size-shape )], 'wrap')\n",
    "    #print(data.shape)\n",
    "    data = split_given_size(data, 1024*5)\n",
    "    #print(len(data))\n",
    "    corr = np.zeros((20,20))\n",
    "    for i, d in enumerate(data): \n",
    "        raw = torch.Tensor(d)\n",
    "        corr += torch.corrcoef(raw).numpy()\n",
    "\n",
    "    corr = corr/len(data)\n",
    "    object = {\n",
    "        \"UID\" : s[\"unique_id\"],\n",
    "        \"Condition\" : s[\"Condition\"],\n",
    "        \"Correlation\" : corr\n",
    "    }   \n",
    "    new_df.append(object)"
   ]
  },
  {
   "cell_type": "code",
   "execution_count": 55,
   "metadata": {},
   "outputs": [
    {
     "data": {
      "text/html": [
       "<div>\n",
       "<style scoped>\n",
       "    .dataframe tbody tr th:only-of-type {\n",
       "        vertical-align: middle;\n",
       "    }\n",
       "\n",
       "    .dataframe tbody tr th {\n",
       "        vertical-align: top;\n",
       "    }\n",
       "\n",
       "    .dataframe thead th {\n",
       "        text-align: right;\n",
       "    }\n",
       "</style>\n",
       "<table border=\"1\" class=\"dataframe\">\n",
       "  <thead>\n",
       "    <tr style=\"text-align: right;\">\n",
       "      <th></th>\n",
       "      <th>UID</th>\n",
       "      <th>Condition</th>\n",
       "      <th>Correlation</th>\n",
       "    </tr>\n",
       "  </thead>\n",
       "  <tbody>\n",
       "    <tr>\n",
       "      <th>0</th>\n",
       "      <td>9003_RSEC</td>\n",
       "      <td>HC</td>\n",
       "      <td>[[0.999999980131785, 0.8600083947181701, 0.501...</td>\n",
       "    </tr>\n",
       "    <tr>\n",
       "      <th>1</th>\n",
       "      <td>9003_RSEO</td>\n",
       "      <td>HC</td>\n",
       "      <td>[[0.9999999870856603, 0.8786274378498395, 0.81...</td>\n",
       "    </tr>\n",
       "    <tr>\n",
       "      <th>2</th>\n",
       "      <td>9004_RSEC</td>\n",
       "      <td>HC</td>\n",
       "      <td>[[0.9999999821186065, 0.8172817707061768, 0.70...</td>\n",
       "    </tr>\n",
       "    <tr>\n",
       "      <th>3</th>\n",
       "      <td>9004_RSEO</td>\n",
       "      <td>HC</td>\n",
       "      <td>[[0.9999999811251958, 0.9762072493632634, 0.94...</td>\n",
       "    </tr>\n",
       "    <tr>\n",
       "      <th>4</th>\n",
       "      <td>9006_RSEC</td>\n",
       "      <td>HC</td>\n",
       "      <td>[[0.9999999721844991, 0.9290434256196022, 0.59...</td>\n",
       "    </tr>\n",
       "  </tbody>\n",
       "</table>\n",
       "</div>"
      ],
      "text/plain": [
       "         UID Condition                                        Correlation\n",
       "0  9003_RSEC        HC  [[0.999999980131785, 0.8600083947181701, 0.501...\n",
       "1  9003_RSEO        HC  [[0.9999999870856603, 0.8786274378498395, 0.81...\n",
       "2  9004_RSEC        HC  [[0.9999999821186065, 0.8172817707061768, 0.70...\n",
       "3  9004_RSEO        HC  [[0.9999999811251958, 0.9762072493632634, 0.94...\n",
       "4  9006_RSEC        HC  [[0.9999999721844991, 0.9290434256196022, 0.59..."
      ]
     },
     "execution_count": 55,
     "metadata": {},
     "output_type": "execute_result"
    }
   ],
   "source": [
    "new_df = pd.DataFrame(new_df)\n",
    "new_df.head()"
   ]
  },
  {
   "cell_type": "code",
   "execution_count": 63,
   "metadata": {},
   "outputs": [],
   "source": [
    "new_df.to_pickle(\"Results/corr_dataset_5_seconds_avg.pkl\")"
   ]
  },
  {
   "cell_type": "code",
   "execution_count": null,
   "metadata": {},
   "outputs": [],
   "source": [
    "pd.read_pickle(\"corr_dataset.pkl\")"
   ]
  },
  {
   "cell_type": "code",
   "execution_count": 57,
   "metadata": {},
   "outputs": [],
   "source": [
    "hc_idx = list(np.where(new_df[\"Condition\"] == \"HC\")[0])\n",
    "ad_idx = list(np.where(new_df[\"Condition\"] == \"AD\")[0])\n",
    "corr_hc = np.zeros((20,20))\n",
    "corr_ad = np.zeros((20,20))"
   ]
  },
  {
   "cell_type": "code",
   "execution_count": 58,
   "metadata": {},
   "outputs": [],
   "source": [
    "for i in hc_idx: \n",
    "    corr_hc += new_df.loc[i][\"Correlation\"]\n",
    "corr_hc = corr_hc/len(hc_idx)\n",
    "for i in ad_idx: \n",
    "    corr_ad += new_df.loc[i][\"Correlation\"]\n",
    "\n",
    "corr_ad = corr_ad/len(ad_idx)"
   ]
  },
  {
   "cell_type": "code",
   "execution_count": 59,
   "metadata": {},
   "outputs": [
    {
     "data": {
      "text/plain": [
       "<AxesSubplot:>"
      ]
     },
     "execution_count": 59,
     "metadata": {},
     "output_type": "execute_result"
    },
    {
     "data": {
      "image/png": "[encoded data removed]",
      "text/plain": [
       "<Figure size 640x480 with 2 Axes>"
      ]
     },
     "metadata": {},
     "output_type": "display_data"
    }
   ],
   "source": [
    "\n",
    "\n",
    "sns.heatmap(corr_hc**2, cmap=cmap, vmax=1, vmin=0, xticklabels=channels, yticklabels=channels)"
   ]
  },
  {
   "cell_type": "code",
   "execution_count": 60,
   "metadata": {},
   "outputs": [
    {
     "data": {
      "text/plain": [
       "<AxesSubplot:>"
      ]
     },
     "execution_count": 60,
     "metadata": {},
     "output_type": "execute_result"
    },
    {
     "data": {
      "image/png": "[encoded data removed]",
      "text/plain": [
       "<Figure size 640x480 with 2 Axes>"
      ]
     },
     "metadata": {},
     "output_type": "display_data"
    }
   ],
   "source": [
    "sns.heatmap(corr_ad**2, cmap=cmap, vmax=1, vmin=0, xticklabels=channels, yticklabels=channels)"
   ]
  },
  {
   "cell_type": "code",
   "execution_count": 62,
   "metadata": {},
   "outputs": [
    {
     "data": {
      "text/plain": [
       "<AxesSubplot:>"
      ]
     },
     "execution_count": 62,
     "metadata": {},
     "output_type": "execute_result"
    },
    {
     "data": {
      "image/png": "[encoded data removed]",
      "text/plain": [
       "<Figure size 640x480 with 2 Axes>"
      ]
     },
     "metadata": {},
     "output_type": "display_data"
    }
   ],
   "source": [
    "sns.heatmap((corr_hc**2-corr_ad**2)**2, cmap=cmap, xticklabels=channels, yticklabels=channels)"
   ]
  },
  {
   "cell_type": "code",
   "execution_count": 34,
   "metadata": {},
   "outputs": [],
   "source": [
    "np.save('samples_corr', X_corr)\n",
    "np.save('p_values', p_corr)"
   ]
  },
  {
   "attachments": {},
   "cell_type": "markdown",
   "metadata": {},
   "source": [
    "# Paper Dataset"
   ]
  },
  {
   "cell_type": "code",
   "execution_count": null,
   "metadata": {},
   "outputs": [],
   "source": []
  }
 ],
 "metadata": {
  "kernelspec": {
   "display_name": "base",
   "language": "python",
   "name": "python3"
  },
  "language_info": {
   "codemirror_mode": {
    "name": "ipython",
    "version": 3
   },
   "file_extension": ".py",
   "mimetype": "text/x-python",
   "name": "python",
   "nbconvert_exporter": "python",
   "pygments_lexer": "ipython3",
   "version": "3.9.13"
  },
  "orig_nbformat": 4,
  "vscode": {
   "interpreter": {
    "hash": "bae67bf5c71ecf72f0aff2dfc780240f3df2ea1c42cb575951f81d27dfb42554"
   }
  }
 },
 "nbformat": 4,
 "nbformat_minor": 2
}
