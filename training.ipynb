{
 "cells": [
  {
   "cell_type": "code",
   "execution_count": 23,
   "metadata": {},
   "outputs": [],
   "source": [
    "import numpy as np\n",
    "import seaborn as sns\n",
    "import pandas as pd \n",
    "\n",
    "import torch\n",
    "from torch.autograd import Variable\n",
    "import torch.nn as nn\n",
    "import torch.utils.data as data\n",
    "import torch.nn.functional as F\n",
    "\n",
    "from sklearn.preprocessing import LabelEncoder\n",
    "from sklearn.preprocessing import OneHotEncoder\n",
    "\n"
   ]
  },
  {
   "cell_type": "code",
   "execution_count": 4,
   "metadata": {},
   "outputs": [
    {
     "data": {
      "text/plain": [
       "True"
      ]
     },
     "execution_count": 4,
     "metadata": {},
     "output_type": "execute_result"
    }
   ],
   "source": [
    "torch.cuda.is_available()"
   ]
  },
  {
   "cell_type": "code",
   "execution_count": 17,
   "metadata": {},
   "outputs": [],
   "source": [
    "df = pd.read_excel(\"Demographic_List.xlsx\")\n",
    "X = np.load('samples_correlation.npy')"
   ]
  },
  {
   "cell_type": "code",
   "execution_count": 47,
   "metadata": {},
   "outputs": [
    {
     "name": "stdout",
     "output_type": "stream",
     "text": [
      "[1 1 1 1 1 1 1 1 1 1 1 1 1 1 1 1 1 1 1 1 1 1 1 1 1 1 1 1 1 1 1 1 1 1 1 1 1\n",
      " 1 1 1 1 1 1 1 1 1 1 1 1 1 1 1 1 1 1 1 1 1 1 1 1 1 1 1 1 1 1 1 1 1 1 1 1 1\n",
      " 1 1 1 1 1 1 1 1 1 1 1 1 1 1 1 1 1 1 1 1 1 1 1 1 1 1 1 1 1 1 1 1 1 1 1 1 1\n",
      " 1 1 1 1 1 1 1 1 1 1 1 1 1 1 1 1 1 1 1 1 1 1 1 1 1 1 1 1 1 1 1 1 1 1 1 1 1\n",
      " 1 1 1 1 1 1 1 1 1 1 1 1 1 1 1 1 1 1 1 1 1 1 1 1 1 1 1 1 1 1 1 1 1 1 1 1 1\n",
      " 1 1 1 1 1 1 1 1 1 1 1 1 1 2 2 0 0 2 2 2 2 0 0 0 0 2 2 2 2 0 0 0 0 0 0 0 0\n",
      " 0 0 0 0 0 0 2 2 0 0 0 0 2 2 2 2 0 0 0 0 0 0 2 2 0 0 2 2 0 0 0 0 2 2 2 2 0\n",
      " 0 0 0 0 0 2 2 2 2 2 2 2 2 2 2 0 0 2 2 2 2 2 2 0 0 2 2 2 2 0 0 0 0 0 0 2 2\n",
      " 2 2 2 2 2 2 2 2 2 2 2 2 2 2 2 2 1 1 1 1 2 2 1 1 2 2 2 2 2 2 2 1 1 1 1 2 2\n",
      " 1 1 2 2 1 1 1 1 2 2 2 2 2 2 2 2 2 2 1 1 1 1 2 2 2 2 1 1 1 1 2 2 1 1 2 2 2\n",
      " 2 2 2 2 2 2 2 2 2 2 2 2 2]\n"
     ]
    }
   ],
   "source": [
    "# Binary enconding \n",
    "Y = df[\"Condition\"].to_numpy()\n",
    "\n",
    "l_encoder = LabelEncoder()\n",
    "i_encoded = l_encoder.fit_transform(Y)\n",
    "print(i_encoded)"
   ]
  },
  {
   "cell_type": "code",
   "execution_count": 51,
   "metadata": {},
   "outputs": [
    {
     "name": "stdout",
     "output_type": "stream",
     "text": [
      "[[0. 1. 0.]\n",
      " [0. 1. 0.]\n",
      " [0. 1. 0.]\n",
      " ...\n",
      " [0. 0. 1.]\n",
      " [0. 0. 1.]\n",
      " [0. 0. 1.]]\n"
     ]
    }
   ],
   "source": [
    "# Onehot enconding \n",
    "o_encoder = OneHotEncoder(sparse=False)\n",
    "i_encoded = i_encoded.reshape(len(i_encoded), 1)\n",
    "o_encoded = o_encoder.fit_transform(i_encoded)\n",
    "print(o_encoded)\n",
    "\n",
    "Y = o_encoded"
   ]
  },
  {
   "cell_type": "code",
   "execution_count": 52,
   "metadata": {},
   "outputs": [],
   "source": [
    "X = Variable(torch.from_numpy(X), requires_grad=False)\n",
    "Y = Variable(torch.from_numpy(Y), requires_grad=False)"
   ]
  },
  {
   "cell_type": "code",
   "execution_count": 53,
   "metadata": {},
   "outputs": [
    {
     "data": {
      "text/plain": [
       "tensor([[0., 1., 0.],\n",
       "        [0., 1., 0.],\n",
       "        [0., 1., 0.],\n",
       "        ...,\n",
       "        [0., 0., 1.],\n",
       "        [0., 0., 1.],\n",
       "        [0., 0., 1.]], dtype=torch.float64)"
      ]
     },
     "execution_count": 53,
     "metadata": {},
     "output_type": "execute_result"
    }
   ],
   "source": [
    "Y"
   ]
  },
  {
   "cell_type": "code",
   "execution_count": 62,
   "metadata": {},
   "outputs": [],
   "source": [
    "from torchsummary import summary"
   ]
  },
  {
   "cell_type": "code",
   "execution_count": 123,
   "metadata": {},
   "outputs": [
    {
     "name": "stdout",
     "output_type": "stream",
     "text": [
      "----------------------------------------------------------------\n",
      "        Layer (type)               Output Shape         Param #\n",
      "================================================================\n",
      "            Conv2d-1           [-1, 16, 18, 18]             160\n",
      "            Conv2d-2           [-1, 16, 16, 16]           2,320\n",
      "         MaxPool2d-3             [-1, 16, 8, 8]               0\n",
      "           Dropout-4             [-1, 16, 8, 8]               0\n",
      "            Conv2d-5             [-1, 32, 6, 6]           4,640\n",
      "            Conv2d-6             [-1, 32, 4, 4]           9,248\n",
      "         MaxPool2d-7             [-1, 32, 1, 1]               0\n",
      "           Dropout-8             [-1, 32, 1, 1]               0\n",
      "           Flatten-9                   [-1, 32]               0\n",
      "           Linear-10                  [-1, 160]           5,280\n",
      "          Dropout-11                  [-1, 160]               0\n",
      "           Linear-12                    [-1, 3]             483\n",
      "================================================================\n",
      "Total params: 22,131\n",
      "Trainable params: 22,131\n",
      "Non-trainable params: 0\n",
      "----------------------------------------------------------------\n",
      "Input size (MB): 0.00\n",
      "Forward/backward pass size (MB): 0.10\n",
      "Params size (MB): 0.08\n",
      "Estimated Total Size (MB): 0.19\n",
      "----------------------------------------------------------------\n"
     ]
    }
   ],
   "source": [
    "# Network Initialization \n",
    "\n",
    "model = nn.Sequential(\n",
    "          nn.Conv2d(1,16,3),\n",
    "          nn.Conv2d(16,16,3),\n",
    "          nn.MaxPool2d(2),\n",
    "          nn.Dropout(),\n",
    "          nn.Conv2d(16,32,3),\n",
    "          nn.Conv2d(32,32,3),\n",
    "          nn.MaxPool2d(3),\n",
    "          nn.Dropout(),\n",
    "          nn.Flatten(),\n",
    "          nn.Linear(32, 160),\n",
    "          nn.Dropout(),\n",
    "          nn.Linear(160, 3)\n",
    "        )\n",
    "model.to(\"cuda\")\n",
    "\n",
    "summary(model, (1,20,20))"
   ]
  }
 ],
 "metadata": {
  "kernelspec": {
   "display_name": "base",
   "language": "python",
   "name": "python3"
  },
  "language_info": {
   "codemirror_mode": {
    "name": "ipython",
    "version": 3
   },
   "file_extension": ".py",
   "mimetype": "text/x-python",
   "name": "python",
   "nbconvert_exporter": "python",
   "pygments_lexer": "ipython3",
   "version": "3.9.13"
  },
  "orig_nbformat": 4,
  "vscode": {
   "interpreter": {
    "hash": "bae67bf5c71ecf72f0aff2dfc780240f3df2ea1c42cb575951f81d27dfb42554"
   }
  }
 },
 "nbformat": 4,
 "nbformat_minor": 2
}
