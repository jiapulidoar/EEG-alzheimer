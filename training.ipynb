{
 "cells": [
  {
   "cell_type": "code",
   "execution_count": 104,
   "metadata": {},
   "outputs": [],
   "source": [
    "# Libraries\n",
    "import numpy as np\n",
    "import seaborn as sns\n",
    "import pandas as pd \n",
    "import matplotlib.pyplot as plt\n",
    "\n",
    "#Torch imports \n",
    "import torch\n",
    "from torch.autograd import Variable\n",
    "import torch.nn as nn\n",
    "import torch.utils.data as data\n",
    "import torch.nn.functional as F\n",
    "from torch.utils.data import Dataset\n",
    "\n",
    "from sklearn.preprocessing import LabelEncoder\n",
    "from sklearn.preprocessing import OneHotEncoder\n",
    "from sklearn.model_selection import train_test_split\n",
    "from sklearn.metrics import f1_score, recall_score, accuracy_score, confusion_matrix, classification_report\n"
   ]
  },
  {
   "cell_type": "code",
   "execution_count": 105,
   "metadata": {},
   "outputs": [],
   "source": [
    "# Common functions\n",
    "%matplotlib inline\n",
    "cmap = sns.cm.rocket_r\n",
    "\n",
    "## Graph correlation matrix\n",
    "def graph_corr_matrix(corr, channels):\n",
    "    sns.heatmap(np.average(corr, axis=0), cmap=cmap, vmax=1, vmin=0, xticklabels=channels, yticklabels=channels)\n",
    "\n",
    "def under_sampling(df, column): \n",
    "    g = df.groupby(column)\n",
    "    df_usampling = g.apply(lambda x: x.sample(g.size().min())).reset_index(drop=True)\n",
    "    return df_usampling\n",
    "\n",
    "def showClassficationReport(y_pred, y_true, tick_labels,  top_n = 1):\n",
    "    # Loop on each generator batch and predict\n",
    "\n",
    "    conf_matrix = confusion_matrix(y_true, y_pred, labels=np.arange(len(tick_labels)))\n",
    "\n",
    "    conf_matrix = conf_matrix/np.sum(conf_matrix, axis=1)\n",
    "    fig, ax = plt.subplots(figsize=(5,5))\n",
    "    sns.heatmap(conf_matrix, annot=True, fmt=\".2f\", square=True, cbar=False, \n",
    "                cmap=plt.cm.jet, xticklabels=tick_labels, yticklabels=tick_labels,\n",
    "                ax=ax)\n",
    "    ax.set_ylabel('Actual')\n",
    "    ax.set_xlabel('Predicted')\n",
    "    ax.set_title('Confusion Matrix')\n",
    "    plt.show()\n",
    " \n",
    "    class_report = classification_report(y_true, y_pred)\n",
    "    return class_report, fig"
   ]
  },
  {
   "cell_type": "code",
   "execution_count": 106,
   "metadata": {},
   "outputs": [],
   "source": [
    "# Constants\n",
    "channels = ['Fp1','F7','F8','T4','T6','T5','T3','Fp2','O1','P3','Pz','F3','Fz','F4','C4','P4','POz','C3','Cz','O2']"
   ]
  },
  {
   "cell_type": "code",
   "execution_count": 187,
   "metadata": {},
   "outputs": [
    {
     "data": {
      "text/html": [
       "<div>\n",
       "<style scoped>\n",
       "    .dataframe tbody tr th:only-of-type {\n",
       "        vertical-align: middle;\n",
       "    }\n",
       "\n",
       "    .dataframe tbody tr th {\n",
       "        vertical-align: top;\n",
       "    }\n",
       "\n",
       "    .dataframe thead th {\n",
       "        text-align: right;\n",
       "    }\n",
       "</style>\n",
       "<table border=\"1\" class=\"dataframe\">\n",
       "  <thead>\n",
       "    <tr style=\"text-align: right;\">\n",
       "      <th></th>\n",
       "      <th>UID</th>\n",
       "      <th>Condition</th>\n",
       "      <th>Correlation</th>\n",
       "    </tr>\n",
       "  </thead>\n",
       "  <tbody>\n",
       "    <tr>\n",
       "      <th>0</th>\n",
       "      <td>9003_RSEC_0</td>\n",
       "      <td>HC</td>\n",
       "      <td>[[1.0, 0.9585196, 0.93820804, 0.8715865, 0.844...</td>\n",
       "    </tr>\n",
       "    <tr>\n",
       "      <th>1</th>\n",
       "      <td>9003_RSEC_1</td>\n",
       "      <td>HC</td>\n",
       "      <td>[[1.0, 0.92713577, 0.8629101, 0.74655974, 0.61...</td>\n",
       "    </tr>\n",
       "    <tr>\n",
       "      <th>2</th>\n",
       "      <td>9003_RSEC_2</td>\n",
       "      <td>HC</td>\n",
       "      <td>[[1.0, 0.922027, 0.8385028, 0.74926996, 0.6286...</td>\n",
       "    </tr>\n",
       "    <tr>\n",
       "      <th>3</th>\n",
       "      <td>9003_RSEC_3</td>\n",
       "      <td>HC</td>\n",
       "      <td>[[1.0, 0.92454684, 0.8485801, 0.7549646, 0.622...</td>\n",
       "    </tr>\n",
       "    <tr>\n",
       "      <th>4</th>\n",
       "      <td>9003_RSEC_4</td>\n",
       "      <td>HC</td>\n",
       "      <td>[[1.0, 0.9874712, 0.97519207, 0.9614993, 0.943...</td>\n",
       "    </tr>\n",
       "  </tbody>\n",
       "</table>\n",
       "</div>"
      ],
      "text/plain": [
       "           UID Condition                                        Correlation\n",
       "0  9003_RSEC_0        HC  [[1.0, 0.9585196, 0.93820804, 0.8715865, 0.844...\n",
       "1  9003_RSEC_1        HC  [[1.0, 0.92713577, 0.8629101, 0.74655974, 0.61...\n",
       "2  9003_RSEC_2        HC  [[1.0, 0.922027, 0.8385028, 0.74926996, 0.6286...\n",
       "3  9003_RSEC_3        HC  [[1.0, 0.92454684, 0.8485801, 0.7549646, 0.622...\n",
       "4  9003_RSEC_4        HC  [[1.0, 0.9874712, 0.97519207, 0.9614993, 0.943..."
      ]
     },
     "execution_count": 187,
     "metadata": {},
     "output_type": "execute_result"
    }
   ],
   "source": [
    "df = pd.read_pickle('Results/corr_dataset_1_minute_ASR.pkl')\n",
    "df.head(5)"
   ]
  },
  {
   "cell_type": "code",
   "execution_count": 188,
   "metadata": {},
   "outputs": [
    {
     "data": {
      "text/html": [
       "<div>\n",
       "<style scoped>\n",
       "    .dataframe tbody tr th:only-of-type {\n",
       "        vertical-align: middle;\n",
       "    }\n",
       "\n",
       "    .dataframe tbody tr th {\n",
       "        vertical-align: top;\n",
       "    }\n",
       "\n",
       "    .dataframe thead th {\n",
       "        text-align: right;\n",
       "    }\n",
       "</style>\n",
       "<table border=\"1\" class=\"dataframe\">\n",
       "  <thead>\n",
       "    <tr style=\"text-align: right;\">\n",
       "      <th></th>\n",
       "      <th>UID</th>\n",
       "      <th>Condition</th>\n",
       "      <th>Correlation</th>\n",
       "    </tr>\n",
       "  </thead>\n",
       "  <tbody>\n",
       "    <tr>\n",
       "      <th>0</th>\n",
       "      <td>9272_RSEC_4</td>\n",
       "      <td>AD</td>\n",
       "      <td>[[1.0, 0.9623021, 0.9466661, 0.9161017, 0.9031...</td>\n",
       "    </tr>\n",
       "    <tr>\n",
       "      <th>1</th>\n",
       "      <td>9231_RSEC_1</td>\n",
       "      <td>AD</td>\n",
       "      <td>[[1.0, 0.85222995, 0.7721689, 0.77530247, 0.72...</td>\n",
       "    </tr>\n",
       "    <tr>\n",
       "      <th>2</th>\n",
       "      <td>9219_RSEC_4</td>\n",
       "      <td>AD</td>\n",
       "      <td>[[1.0, 0.98761785, 0.98175293, 0.97711724, 0.9...</td>\n",
       "    </tr>\n",
       "    <tr>\n",
       "      <th>3</th>\n",
       "      <td>9272_RSEC_0</td>\n",
       "      <td>AD</td>\n",
       "      <td>[[1.0, 0.945582, 0.9220656, 0.8702943, 0.84839...</td>\n",
       "    </tr>\n",
       "    <tr>\n",
       "      <th>4</th>\n",
       "      <td>9206_RSEO_2</td>\n",
       "      <td>AD</td>\n",
       "      <td>[[1.0, 0.8800449, 0.8252788, 0.50173783, 0.416...</td>\n",
       "    </tr>\n",
       "  </tbody>\n",
       "</table>\n",
       "</div>"
      ],
      "text/plain": [
       "           UID Condition                                        Correlation\n",
       "0  9272_RSEC_4        AD  [[1.0, 0.9623021, 0.9466661, 0.9161017, 0.9031...\n",
       "1  9231_RSEC_1        AD  [[1.0, 0.85222995, 0.7721689, 0.77530247, 0.72...\n",
       "2  9219_RSEC_4        AD  [[1.0, 0.98761785, 0.98175293, 0.97711724, 0.9...\n",
       "3  9272_RSEC_0        AD  [[1.0, 0.945582, 0.9220656, 0.8702943, 0.84839...\n",
       "4  9206_RSEO_2        AD  [[1.0, 0.8800449, 0.8252788, 0.50173783, 0.416..."
      ]
     },
     "execution_count": 188,
     "metadata": {},
     "output_type": "execute_result"
    }
   ],
   "source": [
    "# Undersampling \n",
    "df_usampling = under_sampling(df, 'Condition')\n",
    "\n",
    "df_usampling.head()"
   ]
  },
  {
   "cell_type": "code",
   "execution_count": 189,
   "metadata": {},
   "outputs": [
    {
     "data": {
      "text/plain": [
       "(520, 20, 20)"
      ]
     },
     "execution_count": 189,
     "metadata": {},
     "output_type": "execute_result"
    }
   ],
   "source": [
    "X = np.stack(df_usampling[\"Correlation\"].ravel())\n",
    "X.shape"
   ]
  },
  {
   "cell_type": "code",
   "execution_count": 190,
   "metadata": {},
   "outputs": [
    {
     "name": "stderr",
     "output_type": "stream",
     "text": [
      "c:\\Users\\jimmy\\Anaconda3\\lib\\site-packages\\seaborn\\_decorators.py:36: FutureWarning: Pass the following variable as a keyword arg: x. From version 0.12, the only valid positional argument will be `data`, and passing other arguments without an explicit keyword will result in an error or misinterpretation.\n",
      "  warnings.warn(\n"
     ]
    },
    {
     "data": {
      "text/plain": [
       "<AxesSubplot:xlabel='Condition', ylabel='count'>"
      ]
     },
     "execution_count": 190,
     "metadata": {},
     "output_type": "execute_result"
    },
    {
     "data": {
      "image/png": "[encoded data removed]",
      "text/plain": [
       "<Figure size 640x480 with 1 Axes>"
      ]
     },
     "metadata": {},
     "output_type": "display_data"
    }
   ],
   "source": [
    "sns.countplot(df_usampling[\"Condition\"])"
   ]
  },
  {
   "cell_type": "code",
   "execution_count": 191,
   "metadata": {},
   "outputs": [
    {
     "data": {
      "text/plain": [
       "array([[0],\n",
       "       [0],\n",
       "       [0],\n",
       "       [0],\n",
       "       [0],\n",
       "       [0],\n",
       "       [0],\n",
       "       [0],\n",
       "       [0],\n",
       "       [0],\n",
       "       [0],\n",
       "       [0],\n",
       "       [0],\n",
       "       [0],\n",
       "       [0],\n",
       "       [0],\n",
       "       [0],\n",
       "       [0],\n",
       "       [0],\n",
       "       [0],\n",
       "       [0],\n",
       "       [0],\n",
       "       [0],\n",
       "       [0],\n",
       "       [0],\n",
       "       [0],\n",
       "       [0],\n",
       "       [0],\n",
       "       [0],\n",
       "       [0],\n",
       "       [0],\n",
       "       [0],\n",
       "       [0],\n",
       "       [0],\n",
       "       [0],\n",
       "       [0],\n",
       "       [0],\n",
       "       [0],\n",
       "       [0],\n",
       "       [0],\n",
       "       [0],\n",
       "       [0],\n",
       "       [0],\n",
       "       [0],\n",
       "       [0],\n",
       "       [0],\n",
       "       [0],\n",
       "       [0],\n",
       "       [0],\n",
       "       [0],\n",
       "       [0],\n",
       "       [0],\n",
       "       [0],\n",
       "       [0],\n",
       "       [0],\n",
       "       [0],\n",
       "       [0],\n",
       "       [0],\n",
       "       [0],\n",
       "       [0],\n",
       "       [0],\n",
       "       [0],\n",
       "       [0],\n",
       "       [0],\n",
       "       [0],\n",
       "       [0],\n",
       "       [0],\n",
       "       [0],\n",
       "       [0],\n",
       "       [0],\n",
       "       [0],\n",
       "       [0],\n",
       "       [0],\n",
       "       [0],\n",
       "       [0],\n",
       "       [0],\n",
       "       [0],\n",
       "       [0],\n",
       "       [0],\n",
       "       [0],\n",
       "       [0],\n",
       "       [0],\n",
       "       [0],\n",
       "       [0],\n",
       "       [0],\n",
       "       [0],\n",
       "       [0],\n",
       "       [0],\n",
       "       [0],\n",
       "       [0],\n",
       "       [0],\n",
       "       [0],\n",
       "       [0],\n",
       "       [0],\n",
       "       [0],\n",
       "       [0],\n",
       "       [0],\n",
       "       [0],\n",
       "       [0],\n",
       "       [0],\n",
       "       [0],\n",
       "       [0],\n",
       "       [0],\n",
       "       [0],\n",
       "       [0],\n",
       "       [0],\n",
       "       [0],\n",
       "       [0],\n",
       "       [0],\n",
       "       [0],\n",
       "       [0],\n",
       "       [0],\n",
       "       [0],\n",
       "       [0],\n",
       "       [0],\n",
       "       [0],\n",
       "       [0],\n",
       "       [0],\n",
       "       [0],\n",
       "       [0],\n",
       "       [0],\n",
       "       [0],\n",
       "       [0],\n",
       "       [0],\n",
       "       [0],\n",
       "       [0],\n",
       "       [0],\n",
       "       [0],\n",
       "       [0],\n",
       "       [0],\n",
       "       [0],\n",
       "       [0],\n",
       "       [0],\n",
       "       [0],\n",
       "       [0],\n",
       "       [0],\n",
       "       [0],\n",
       "       [0],\n",
       "       [0],\n",
       "       [0],\n",
       "       [0],\n",
       "       [0],\n",
       "       [0],\n",
       "       [0],\n",
       "       [0],\n",
       "       [0],\n",
       "       [0],\n",
       "       [0],\n",
       "       [0],\n",
       "       [0],\n",
       "       [0],\n",
       "       [0],\n",
       "       [0],\n",
       "       [0],\n",
       "       [0],\n",
       "       [0],\n",
       "       [0],\n",
       "       [0],\n",
       "       [0],\n",
       "       [0],\n",
       "       [0],\n",
       "       [0],\n",
       "       [0],\n",
       "       [0],\n",
       "       [0],\n",
       "       [0],\n",
       "       [0],\n",
       "       [0],\n",
       "       [0],\n",
       "       [0],\n",
       "       [0],\n",
       "       [0],\n",
       "       [0],\n",
       "       [0],\n",
       "       [0],\n",
       "       [0],\n",
       "       [0],\n",
       "       [0],\n",
       "       [0],\n",
       "       [0],\n",
       "       [0],\n",
       "       [0],\n",
       "       [0],\n",
       "       [0],\n",
       "       [0],\n",
       "       [0],\n",
       "       [0],\n",
       "       [0],\n",
       "       [0],\n",
       "       [0],\n",
       "       [0],\n",
       "       [0],\n",
       "       [0],\n",
       "       [0],\n",
       "       [0],\n",
       "       [0],\n",
       "       [0],\n",
       "       [0],\n",
       "       [0],\n",
       "       [0],\n",
       "       [0],\n",
       "       [0],\n",
       "       [0],\n",
       "       [0],\n",
       "       [0],\n",
       "       [0],\n",
       "       [0],\n",
       "       [0],\n",
       "       [0],\n",
       "       [0],\n",
       "       [0],\n",
       "       [0],\n",
       "       [0],\n",
       "       [0],\n",
       "       [0],\n",
       "       [0],\n",
       "       [0],\n",
       "       [0],\n",
       "       [0],\n",
       "       [0],\n",
       "       [0],\n",
       "       [0],\n",
       "       [0],\n",
       "       [0],\n",
       "       [0],\n",
       "       [0],\n",
       "       [0],\n",
       "       [0],\n",
       "       [0],\n",
       "       [0],\n",
       "       [0],\n",
       "       [0],\n",
       "       [0],\n",
       "       [0],\n",
       "       [0],\n",
       "       [0],\n",
       "       [0],\n",
       "       [0],\n",
       "       [0],\n",
       "       [0],\n",
       "       [0],\n",
       "       [0],\n",
       "       [0],\n",
       "       [0],\n",
       "       [0],\n",
       "       [0],\n",
       "       [0],\n",
       "       [0],\n",
       "       [0],\n",
       "       [0],\n",
       "       [0],\n",
       "       [0],\n",
       "       [0],\n",
       "       [0],\n",
       "       [0],\n",
       "       [0],\n",
       "       [0],\n",
       "       [0],\n",
       "       [0],\n",
       "       [0],\n",
       "       [1],\n",
       "       [1],\n",
       "       [1],\n",
       "       [1],\n",
       "       [1],\n",
       "       [1],\n",
       "       [1],\n",
       "       [1],\n",
       "       [1],\n",
       "       [1],\n",
       "       [1],\n",
       "       [1],\n",
       "       [1],\n",
       "       [1],\n",
       "       [1],\n",
       "       [1],\n",
       "       [1],\n",
       "       [1],\n",
       "       [1],\n",
       "       [1],\n",
       "       [1],\n",
       "       [1],\n",
       "       [1],\n",
       "       [1],\n",
       "       [1],\n",
       "       [1],\n",
       "       [1],\n",
       "       [1],\n",
       "       [1],\n",
       "       [1],\n",
       "       [1],\n",
       "       [1],\n",
       "       [1],\n",
       "       [1],\n",
       "       [1],\n",
       "       [1],\n",
       "       [1],\n",
       "       [1],\n",
       "       [1],\n",
       "       [1],\n",
       "       [1],\n",
       "       [1],\n",
       "       [1],\n",
       "       [1],\n",
       "       [1],\n",
       "       [1],\n",
       "       [1],\n",
       "       [1],\n",
       "       [1],\n",
       "       [1],\n",
       "       [1],\n",
       "       [1],\n",
       "       [1],\n",
       "       [1],\n",
       "       [1],\n",
       "       [1],\n",
       "       [1],\n",
       "       [1],\n",
       "       [1],\n",
       "       [1],\n",
       "       [1],\n",
       "       [1],\n",
       "       [1],\n",
       "       [1],\n",
       "       [1],\n",
       "       [1],\n",
       "       [1],\n",
       "       [1],\n",
       "       [1],\n",
       "       [1],\n",
       "       [1],\n",
       "       [1],\n",
       "       [1],\n",
       "       [1],\n",
       "       [1],\n",
       "       [1],\n",
       "       [1],\n",
       "       [1],\n",
       "       [1],\n",
       "       [1],\n",
       "       [1],\n",
       "       [1],\n",
       "       [1],\n",
       "       [1],\n",
       "       [1],\n",
       "       [1],\n",
       "       [1],\n",
       "       [1],\n",
       "       [1],\n",
       "       [1],\n",
       "       [1],\n",
       "       [1],\n",
       "       [1],\n",
       "       [1],\n",
       "       [1],\n",
       "       [1],\n",
       "       [1],\n",
       "       [1],\n",
       "       [1],\n",
       "       [1],\n",
       "       [1],\n",
       "       [1],\n",
       "       [1],\n",
       "       [1],\n",
       "       [1],\n",
       "       [1],\n",
       "       [1],\n",
       "       [1],\n",
       "       [1],\n",
       "       [1],\n",
       "       [1],\n",
       "       [1],\n",
       "       [1],\n",
       "       [1],\n",
       "       [1],\n",
       "       [1],\n",
       "       [1],\n",
       "       [1],\n",
       "       [1],\n",
       "       [1],\n",
       "       [1],\n",
       "       [1],\n",
       "       [1],\n",
       "       [1],\n",
       "       [1],\n",
       "       [1],\n",
       "       [1],\n",
       "       [1],\n",
       "       [1],\n",
       "       [1],\n",
       "       [1],\n",
       "       [1],\n",
       "       [1],\n",
       "       [1],\n",
       "       [1],\n",
       "       [1],\n",
       "       [1],\n",
       "       [1],\n",
       "       [1],\n",
       "       [1],\n",
       "       [1],\n",
       "       [1],\n",
       "       [1],\n",
       "       [1],\n",
       "       [1],\n",
       "       [1],\n",
       "       [1],\n",
       "       [1],\n",
       "       [1],\n",
       "       [1],\n",
       "       [1],\n",
       "       [1],\n",
       "       [1],\n",
       "       [1],\n",
       "       [1],\n",
       "       [1],\n",
       "       [1],\n",
       "       [1],\n",
       "       [1],\n",
       "       [1],\n",
       "       [1],\n",
       "       [1],\n",
       "       [1],\n",
       "       [1],\n",
       "       [1],\n",
       "       [1],\n",
       "       [1],\n",
       "       [1],\n",
       "       [1],\n",
       "       [1],\n",
       "       [1],\n",
       "       [1],\n",
       "       [1],\n",
       "       [1],\n",
       "       [1],\n",
       "       [1],\n",
       "       [1],\n",
       "       [1],\n",
       "       [1],\n",
       "       [1],\n",
       "       [1],\n",
       "       [1],\n",
       "       [1],\n",
       "       [1],\n",
       "       [1],\n",
       "       [1],\n",
       "       [1],\n",
       "       [1],\n",
       "       [1],\n",
       "       [1],\n",
       "       [1],\n",
       "       [1],\n",
       "       [1],\n",
       "       [1],\n",
       "       [1],\n",
       "       [1],\n",
       "       [1],\n",
       "       [1],\n",
       "       [1],\n",
       "       [1],\n",
       "       [1],\n",
       "       [1],\n",
       "       [1],\n",
       "       [1],\n",
       "       [1],\n",
       "       [1],\n",
       "       [1],\n",
       "       [1],\n",
       "       [1],\n",
       "       [1],\n",
       "       [1],\n",
       "       [1],\n",
       "       [1],\n",
       "       [1],\n",
       "       [1],\n",
       "       [1],\n",
       "       [1],\n",
       "       [1],\n",
       "       [1],\n",
       "       [1],\n",
       "       [1],\n",
       "       [1],\n",
       "       [1],\n",
       "       [1],\n",
       "       [1],\n",
       "       [1],\n",
       "       [1],\n",
       "       [1],\n",
       "       [1],\n",
       "       [1],\n",
       "       [1],\n",
       "       [1],\n",
       "       [1],\n",
       "       [1],\n",
       "       [1],\n",
       "       [1],\n",
       "       [1],\n",
       "       [1],\n",
       "       [1],\n",
       "       [1],\n",
       "       [1],\n",
       "       [1],\n",
       "       [1],\n",
       "       [1],\n",
       "       [1],\n",
       "       [1],\n",
       "       [1],\n",
       "       [1],\n",
       "       [1],\n",
       "       [1],\n",
       "       [1],\n",
       "       [1],\n",
       "       [1],\n",
       "       [1],\n",
       "       [1],\n",
       "       [1],\n",
       "       [1],\n",
       "       [1],\n",
       "       [1],\n",
       "       [1]])"
      ]
     },
     "execution_count": 191,
     "metadata": {},
     "output_type": "execute_result"
    }
   ],
   "source": [
    "# Binary enconding \n",
    "Y = df_usampling[\"Condition\"].to_numpy()\n",
    "\n",
    "l_encoder = LabelEncoder()\n",
    "i_encoded = l_encoder.fit_transform(Y)\n",
    "\n",
    "Y = i_encoded.reshape(1, -1).T\n",
    "Y"
   ]
  },
  {
   "cell_type": "code",
   "execution_count": 192,
   "metadata": {},
   "outputs": [],
   "source": [
    "# Train and Test splitting \n",
    "X_train, X_test, y_train, y_test = train_test_split(   \n",
    "     X, Y, test_size=0.2, random_state=42)\n",
    "\n",
    "#X_train, X_val, y_train, y_val = train_test_split(   \n",
    "#     X_train, y_train, test_size=0.1, random_state=42)"
   ]
  },
  {
   "cell_type": "code",
   "execution_count": 193,
   "metadata": {},
   "outputs": [
    {
     "name": "stderr",
     "output_type": "stream",
     "text": [
      "c:\\Users\\jimmy\\Anaconda3\\lib\\site-packages\\seaborn\\_decorators.py:36: FutureWarning: Pass the following variable as a keyword arg: x. From version 0.12, the only valid positional argument will be `data`, and passing other arguments without an explicit keyword will result in an error or misinterpretation.\n",
      "  warnings.warn(\n",
      "c:\\Users\\jimmy\\Anaconda3\\lib\\site-packages\\seaborn\\_decorators.py:36: FutureWarning: Pass the following variable as a keyword arg: x. From version 0.12, the only valid positional argument will be `data`, and passing other arguments without an explicit keyword will result in an error or misinterpretation.\n",
      "  warnings.warn(\n"
     ]
    },
    {
     "data": {
      "image/png": "[encoded data removed]",
      "text/plain": [
       "<Figure size 2000x500 with 2 Axes>"
      ]
     },
     "metadata": {},
     "output_type": "display_data"
    }
   ],
   "source": [
    "colors = sns.color_palette('Spectral', 3)\n",
    "palette = {mode: color for mode, color in zip([\"HC\", \"AD\"], colors)}\n",
    "\n",
    "fig, ax = plt.subplots(1,2,figsize=(20,5))\n",
    "\n",
    "\n",
    "sns.countplot(l_encoder.inverse_transform(y_train.ravel()), ax=ax[0], palette=palette)\n",
    "ax[0].set_title(\"Train data\")\n",
    "\n",
    "sns.countplot(l_encoder.inverse_transform(y_test.ravel()), ax=ax[1], palette=palette);\n",
    "ax[1].set_title(\"Test data\");"
   ]
  },
  {
   "attachments": {},
   "cell_type": "markdown",
   "metadata": {},
   "source": [
    "# Models\n",
    "\n",
    "## Support Vector Machine "
   ]
  },
  {
   "cell_type": "code",
   "execution_count": 194,
   "metadata": {},
   "outputs": [],
   "source": [
    "X_train_reshape = X_train.reshape(X_train.shape[0],400)\n",
    "X_test_reshape = X_test.reshape(X_test.shape[0],400)"
   ]
  },
  {
   "cell_type": "code",
   "execution_count": 195,
   "metadata": {},
   "outputs": [
    {
     "data": {
      "text/plain": [
       "GridSearchCV(estimator=SVC(random_state=125),\n",
       "             param_grid={'C': [1, 10, 100, 1000],\n",
       "                         'gamma': [0.01, 0.001, 0.0001], 'kernel': ['rbf']},\n",
       "             return_train_score=True)"
      ]
     },
     "execution_count": 195,
     "metadata": {},
     "output_type": "execute_result"
    }
   ],
   "source": [
    "from sklearn.svm import SVC  \n",
    "from sklearn.model_selection import GridSearchCV\n",
    "\n",
    "param_grid =  {'C': [1,10,100,1000], 'gamma': [0.01, 0.001, 0.0001],'kernel': ['rbf']}\n",
    "\n",
    "grid = GridSearchCV(SVC(random_state=125),param_grid,refit=True, return_train_score=True)\n",
    "grid.fit(X_train_reshape,y_train.ravel())"
   ]
  },
  {
   "cell_type": "code",
   "execution_count": 196,
   "metadata": {},
   "outputs": [
    {
     "data": {
      "text/plain": [
       "{'C': 1000, 'gamma': 0.01, 'kernel': 'rbf'}"
      ]
     },
     "execution_count": 196,
     "metadata": {},
     "output_type": "execute_result"
    }
   ],
   "source": [
    "grid.best_params_"
   ]
  },
  {
   "cell_type": "code",
   "execution_count": 199,
   "metadata": {},
   "outputs": [
    {
     "name": "stdout",
     "output_type": "stream",
     "text": [
      "0.8365384615384616\n"
     ]
    },
    {
     "data": {
      "image/png": "[encoded data removed]",
      "text/plain": [
       "<Figure size 500x500 with 1 Axes>"
      ]
     },
     "metadata": {},
     "output_type": "display_data"
    },
    {
     "name": "stdout",
     "output_type": "stream",
     "text": [
      "              precision    recall  f1-score   support\n",
      "\n",
      "           0       0.90      0.79      0.84        56\n",
      "           1       0.78      0.90      0.83        48\n",
      "\n",
      "    accuracy                           0.84       104\n",
      "   macro avg       0.84      0.84      0.84       104\n",
      "weighted avg       0.84      0.84      0.84       104\n",
      "\n"
     ]
    }
   ],
   "source": [
    "y_pred=grid.predict(X_test_reshape)\n",
    "\n",
    "print(accuracy_score(y_test, y_pred))\n",
    "\n",
    "class_report, fig = showClassficationReport(y_pred , y_test.T[0], [\"AD\", \"HC\"])\n",
    "print(class_report)\n",
    "\n",
    "fig.savefig(\"./Results/images/1minute_512_SVM_test.png\")\n"
   ]
  },
  {
   "cell_type": "code",
   "execution_count": 200,
   "metadata": {},
   "outputs": [
    {
     "name": "stdout",
     "output_type": "stream",
     "text": [
      "0.9519230769230769\n"
     ]
    },
    {
     "data": {
      "image/png": "[encoded data removed]",
      "text/plain": [
       "<Figure size 500x500 with 1 Axes>"
      ]
     },
     "metadata": {},
     "output_type": "display_data"
    },
    {
     "name": "stdout",
     "output_type": "stream",
     "text": [
      "              precision    recall  f1-score   support\n",
      "\n",
      "           0       0.99      0.91      0.95       204\n",
      "           1       0.92      0.99      0.95       212\n",
      "\n",
      "    accuracy                           0.95       416\n",
      "   macro avg       0.96      0.95      0.95       416\n",
      "weighted avg       0.95      0.95      0.95       416\n",
      "\n"
     ]
    }
   ],
   "source": [
    "y_pred=grid.predict(X_train_reshape)\n",
    "\n",
    "print(accuracy_score(y_train, y_pred))\n",
    "\n",
    "class_report, fig = showClassficationReport(y_pred , y_train.T[0], [\"AD\", \"HC\"])\n",
    "print(class_report)\n",
    "\n",
    "fig.savefig(\"./Results/images/1minute_512_SVM_train.png\")"
   ]
  },
  {
   "attachments": {},
   "cell_type": "markdown",
   "metadata": {},
   "source": [
    "## Random Forest"
   ]
  },
  {
   "cell_type": "code",
   "execution_count": 180,
   "metadata": {},
   "outputs": [
    {
     "ename": "KeyboardInterrupt",
     "evalue": "",
     "output_type": "error",
     "traceback": [
      "\u001b[1;31m---------------------------------------------------------------------------\u001b[0m",
      "\u001b[1;31mKeyboardInterrupt\u001b[0m                         Traceback (most recent call last)",
      "\u001b[1;32m~\\AppData\\Local\\Temp\\ipykernel_21144\\1456299258.py\u001b[0m in \u001b[0;36m<module>\u001b[1;34m\u001b[0m\n\u001b[0;32m      5\u001b[0m \u001b[1;33m\u001b[0m\u001b[0m\n\u001b[0;32m      6\u001b[0m \u001b[0mgrid_rf\u001b[0m \u001b[1;33m=\u001b[0m \u001b[0mGridSearchCV\u001b[0m\u001b[1;33m(\u001b[0m\u001b[0mRandomForestClassifier\u001b[0m\u001b[1;33m(\u001b[0m\u001b[0mrandom_state\u001b[0m\u001b[1;33m=\u001b[0m\u001b[1;36m125\u001b[0m\u001b[1;33m)\u001b[0m\u001b[1;33m,\u001b[0m\u001b[0mparam_grid\u001b[0m\u001b[1;33m,\u001b[0m\u001b[0mrefit\u001b[0m\u001b[1;33m=\u001b[0m\u001b[1;32mTrue\u001b[0m\u001b[1;33m,\u001b[0m \u001b[0mreturn_train_score\u001b[0m\u001b[1;33m=\u001b[0m\u001b[1;32mTrue\u001b[0m\u001b[1;33m)\u001b[0m\u001b[1;33m\u001b[0m\u001b[1;33m\u001b[0m\u001b[0m\n\u001b[1;32m----> 7\u001b[1;33m \u001b[0mgrid_rf\u001b[0m\u001b[1;33m.\u001b[0m\u001b[0mfit\u001b[0m\u001b[1;33m(\u001b[0m\u001b[0mX_train_reshape\u001b[0m\u001b[1;33m,\u001b[0m\u001b[0my_train\u001b[0m\u001b[1;33m.\u001b[0m\u001b[0mravel\u001b[0m\u001b[1;33m(\u001b[0m\u001b[1;33m)\u001b[0m\u001b[1;33m)\u001b[0m\u001b[1;33m\u001b[0m\u001b[1;33m\u001b[0m\u001b[0m\n\u001b[0m",
      "\u001b[1;32mc:\\Users\\jimmy\\Anaconda3\\lib\\site-packages\\sklearn\\model_selection\\_search.py\u001b[0m in \u001b[0;36mfit\u001b[1;34m(self, X, y, groups, **fit_params)\u001b[0m\n\u001b[0;32m    889\u001b[0m                 \u001b[1;32mreturn\u001b[0m \u001b[0mresults\u001b[0m\u001b[1;33m\u001b[0m\u001b[1;33m\u001b[0m\u001b[0m\n\u001b[0;32m    890\u001b[0m \u001b[1;33m\u001b[0m\u001b[0m\n\u001b[1;32m--> 891\u001b[1;33m             \u001b[0mself\u001b[0m\u001b[1;33m.\u001b[0m\u001b[0m_run_search\u001b[0m\u001b[1;33m(\u001b[0m\u001b[0mevaluate_candidates\u001b[0m\u001b[1;33m)\u001b[0m\u001b[1;33m\u001b[0m\u001b[1;33m\u001b[0m\u001b[0m\n\u001b[0m\u001b[0;32m    892\u001b[0m \u001b[1;33m\u001b[0m\u001b[0m\n\u001b[0;32m    893\u001b[0m             \u001b[1;31m# multimetric is determined here because in the case of a callable\u001b[0m\u001b[1;33m\u001b[0m\u001b[1;33m\u001b[0m\u001b[0m\n",
      "\u001b[1;32mc:\\Users\\jimmy\\Anaconda3\\lib\\site-packages\\sklearn\\model_selection\\_search.py\u001b[0m in \u001b[0;36m_run_search\u001b[1;34m(self, evaluate_candidates)\u001b[0m\n\u001b[0;32m   1390\u001b[0m     \u001b[1;32mdef\u001b[0m \u001b[0m_run_search\u001b[0m\u001b[1;33m(\u001b[0m\u001b[0mself\u001b[0m\u001b[1;33m,\u001b[0m \u001b[0mevaluate_candidates\u001b[0m\u001b[1;33m)\u001b[0m\u001b[1;33m:\u001b[0m\u001b[1;33m\u001b[0m\u001b[1;33m\u001b[0m\u001b[0m\n\u001b[0;32m   1391\u001b[0m         \u001b[1;34m\"\"\"Search all candidates in param_grid\"\"\"\u001b[0m\u001b[1;33m\u001b[0m\u001b[1;33m\u001b[0m\u001b[0m\n\u001b[1;32m-> 1392\u001b[1;33m         \u001b[0mevaluate_candidates\u001b[0m\u001b[1;33m(\u001b[0m\u001b[0mParameterGrid\u001b[0m\u001b[1;33m(\u001b[0m\u001b[0mself\u001b[0m\u001b[1;33m.\u001b[0m\u001b[0mparam_grid\u001b[0m\u001b[1;33m)\u001b[0m\u001b[1;33m)\u001b[0m\u001b[1;33m\u001b[0m\u001b[1;33m\u001b[0m\u001b[0m\n\u001b[0m\u001b[0;32m   1393\u001b[0m \u001b[1;33m\u001b[0m\u001b[0m\n\u001b[0;32m   1394\u001b[0m \u001b[1;33m\u001b[0m\u001b[0m\n",
      "\u001b[1;32mc:\\Users\\jimmy\\Anaconda3\\lib\\site-packages\\sklearn\\model_selection\\_search.py\u001b[0m in \u001b[0;36mevaluate_candidates\u001b[1;34m(candidate_params, cv, more_results)\u001b[0m\n\u001b[0;32m    836\u001b[0m                     )\n\u001b[0;32m    837\u001b[0m \u001b[1;33m\u001b[0m\u001b[0m\n\u001b[1;32m--> 838\u001b[1;33m                 out = parallel(\n\u001b[0m\u001b[0;32m    839\u001b[0m                     delayed(_fit_and_score)(\n\u001b[0;32m    840\u001b[0m                         \u001b[0mclone\u001b[0m\u001b[1;33m(\u001b[0m\u001b[0mbase_estimator\u001b[0m\u001b[1;33m)\u001b[0m\u001b[1;33m,\u001b[0m\u001b[1;33m\u001b[0m\u001b[1;33m\u001b[0m\u001b[0m\n",
      "\u001b[1;32mc:\\Users\\jimmy\\Anaconda3\\lib\\site-packages\\joblib\\parallel.py\u001b[0m in \u001b[0;36m__call__\u001b[1;34m(self, iterable)\u001b[0m\n\u001b[0;32m   1044\u001b[0m                 \u001b[0mself\u001b[0m\u001b[1;33m.\u001b[0m\u001b[0m_iterating\u001b[0m \u001b[1;33m=\u001b[0m \u001b[0mself\u001b[0m\u001b[1;33m.\u001b[0m\u001b[0m_original_iterator\u001b[0m \u001b[1;32mis\u001b[0m \u001b[1;32mnot\u001b[0m \u001b[1;32mNone\u001b[0m\u001b[1;33m\u001b[0m\u001b[1;33m\u001b[0m\u001b[0m\n\u001b[0;32m   1045\u001b[0m \u001b[1;33m\u001b[0m\u001b[0m\n\u001b[1;32m-> 1046\u001b[1;33m             \u001b[1;32mwhile\u001b[0m \u001b[0mself\u001b[0m\u001b[1;33m.\u001b[0m\u001b[0mdispatch_one_batch\u001b[0m\u001b[1;33m(\u001b[0m\u001b[0miterator\u001b[0m\u001b[1;33m)\u001b[0m\u001b[1;33m:\u001b[0m\u001b[1;33m\u001b[0m\u001b[1;33m\u001b[0m\u001b[0m\n\u001b[0m\u001b[0;32m   1047\u001b[0m                 \u001b[1;32mpass\u001b[0m\u001b[1;33m\u001b[0m\u001b[1;33m\u001b[0m\u001b[0m\n\u001b[0;32m   1048\u001b[0m \u001b[1;33m\u001b[0m\u001b[0m\n",
      "\u001b[1;32mc:\\Users\\jimmy\\Anaconda3\\lib\\site-packages\\joblib\\parallel.py\u001b[0m in \u001b[0;36mdispatch_one_batch\u001b[1;34m(self, iterator)\u001b[0m\n\u001b[0;32m    859\u001b[0m                 \u001b[1;32mreturn\u001b[0m \u001b[1;32mFalse\u001b[0m\u001b[1;33m\u001b[0m\u001b[1;33m\u001b[0m\u001b[0m\n\u001b[0;32m    860\u001b[0m             \u001b[1;32melse\u001b[0m\u001b[1;33m:\u001b[0m\u001b[1;33m\u001b[0m\u001b[1;33m\u001b[0m\u001b[0m\n\u001b[1;32m--> 861\u001b[1;33m                 \u001b[0mself\u001b[0m\u001b[1;33m.\u001b[0m\u001b[0m_dispatch\u001b[0m\u001b[1;33m(\u001b[0m\u001b[0mtasks\u001b[0m\u001b[1;33m)\u001b[0m\u001b[1;33m\u001b[0m\u001b[1;33m\u001b[0m\u001b[0m\n\u001b[0m\u001b[0;32m    862\u001b[0m                 \u001b[1;32mreturn\u001b[0m \u001b[1;32mTrue\u001b[0m\u001b[1;33m\u001b[0m\u001b[1;33m\u001b[0m\u001b[0m\n\u001b[0;32m    863\u001b[0m \u001b[1;33m\u001b[0m\u001b[0m\n",
      "\u001b[1;32mc:\\Users\\jimmy\\Anaconda3\\lib\\site-packages\\joblib\\parallel.py\u001b[0m in \u001b[0;36m_dispatch\u001b[1;34m(self, batch)\u001b[0m\n\u001b[0;32m    777\u001b[0m         \u001b[1;32mwith\u001b[0m \u001b[0mself\u001b[0m\u001b[1;33m.\u001b[0m\u001b[0m_lock\u001b[0m\u001b[1;33m:\u001b[0m\u001b[1;33m\u001b[0m\u001b[1;33m\u001b[0m\u001b[0m\n\u001b[0;32m    778\u001b[0m             \u001b[0mjob_idx\u001b[0m \u001b[1;33m=\u001b[0m \u001b[0mlen\u001b[0m\u001b[1;33m(\u001b[0m\u001b[0mself\u001b[0m\u001b[1;33m.\u001b[0m\u001b[0m_jobs\u001b[0m\u001b[1;33m)\u001b[0m\u001b[1;33m\u001b[0m\u001b[1;33m\u001b[0m\u001b[0m\n\u001b[1;32m--> 779\u001b[1;33m             \u001b[0mjob\u001b[0m \u001b[1;33m=\u001b[0m \u001b[0mself\u001b[0m\u001b[1;33m.\u001b[0m\u001b[0m_backend\u001b[0m\u001b[1;33m.\u001b[0m\u001b[0mapply_async\u001b[0m\u001b[1;33m(\u001b[0m\u001b[0mbatch\u001b[0m\u001b[1;33m,\u001b[0m \u001b[0mcallback\u001b[0m\u001b[1;33m=\u001b[0m\u001b[0mcb\u001b[0m\u001b[1;33m)\u001b[0m\u001b[1;33m\u001b[0m\u001b[1;33m\u001b[0m\u001b[0m\n\u001b[0m\u001b[0;32m    780\u001b[0m             \u001b[1;31m# A job can complete so quickly than its callback is\u001b[0m\u001b[1;33m\u001b[0m\u001b[1;33m\u001b[0m\u001b[0m\n\u001b[0;32m    781\u001b[0m             \u001b[1;31m# called before we get here, causing self._jobs to\u001b[0m\u001b[1;33m\u001b[0m\u001b[1;33m\u001b[0m\u001b[0m\n",
      "\u001b[1;32mc:\\Users\\jimmy\\Anaconda3\\lib\\site-packages\\joblib\\_parallel_backends.py\u001b[0m in \u001b[0;36mapply_async\u001b[1;34m(self, func, callback)\u001b[0m\n\u001b[0;32m    206\u001b[0m     \u001b[1;32mdef\u001b[0m \u001b[0mapply_async\u001b[0m\u001b[1;33m(\u001b[0m\u001b[0mself\u001b[0m\u001b[1;33m,\u001b[0m \u001b[0mfunc\u001b[0m\u001b[1;33m,\u001b[0m \u001b[0mcallback\u001b[0m\u001b[1;33m=\u001b[0m\u001b[1;32mNone\u001b[0m\u001b[1;33m)\u001b[0m\u001b[1;33m:\u001b[0m\u001b[1;33m\u001b[0m\u001b[1;33m\u001b[0m\u001b[0m\n\u001b[0;32m    207\u001b[0m         \u001b[1;34m\"\"\"Schedule a func to be run\"\"\"\u001b[0m\u001b[1;33m\u001b[0m\u001b[1;33m\u001b[0m\u001b[0m\n\u001b[1;32m--> 208\u001b[1;33m         \u001b[0mresult\u001b[0m \u001b[1;33m=\u001b[0m \u001b[0mImmediateResult\u001b[0m\u001b[1;33m(\u001b[0m\u001b[0mfunc\u001b[0m\u001b[1;33m)\u001b[0m\u001b[1;33m\u001b[0m\u001b[1;33m\u001b[0m\u001b[0m\n\u001b[0m\u001b[0;32m    209\u001b[0m         \u001b[1;32mif\u001b[0m \u001b[0mcallback\u001b[0m\u001b[1;33m:\u001b[0m\u001b[1;33m\u001b[0m\u001b[1;33m\u001b[0m\u001b[0m\n\u001b[0;32m    210\u001b[0m             \u001b[0mcallback\u001b[0m\u001b[1;33m(\u001b[0m\u001b[0mresult\u001b[0m\u001b[1;33m)\u001b[0m\u001b[1;33m\u001b[0m\u001b[1;33m\u001b[0m\u001b[0m\n",
      "\u001b[1;32mc:\\Users\\jimmy\\Anaconda3\\lib\\site-packages\\joblib\\_parallel_backends.py\u001b[0m in \u001b[0;36m__init__\u001b[1;34m(self, batch)\u001b[0m\n\u001b[0;32m    570\u001b[0m         \u001b[1;31m# Don't delay the application, to avoid keeping the input\u001b[0m\u001b[1;33m\u001b[0m\u001b[1;33m\u001b[0m\u001b[0m\n\u001b[0;32m    571\u001b[0m         \u001b[1;31m# arguments in memory\u001b[0m\u001b[1;33m\u001b[0m\u001b[1;33m\u001b[0m\u001b[0m\n\u001b[1;32m--> 572\u001b[1;33m         \u001b[0mself\u001b[0m\u001b[1;33m.\u001b[0m\u001b[0mresults\u001b[0m \u001b[1;33m=\u001b[0m \u001b[0mbatch\u001b[0m\u001b[1;33m(\u001b[0m\u001b[1;33m)\u001b[0m\u001b[1;33m\u001b[0m\u001b[1;33m\u001b[0m\u001b[0m\n\u001b[0m\u001b[0;32m    573\u001b[0m \u001b[1;33m\u001b[0m\u001b[0m\n\u001b[0;32m    574\u001b[0m     \u001b[1;32mdef\u001b[0m \u001b[0mget\u001b[0m\u001b[1;33m(\u001b[0m\u001b[0mself\u001b[0m\u001b[1;33m)\u001b[0m\u001b[1;33m:\u001b[0m\u001b[1;33m\u001b[0m\u001b[1;33m\u001b[0m\u001b[0m\n",
      "\u001b[1;32mc:\\Users\\jimmy\\Anaconda3\\lib\\site-packages\\joblib\\parallel.py\u001b[0m in \u001b[0;36m__call__\u001b[1;34m(self)\u001b[0m\n\u001b[0;32m    260\u001b[0m         \u001b[1;31m# change the default number of processes to -1\u001b[0m\u001b[1;33m\u001b[0m\u001b[1;33m\u001b[0m\u001b[0m\n\u001b[0;32m    261\u001b[0m         \u001b[1;32mwith\u001b[0m \u001b[0mparallel_backend\u001b[0m\u001b[1;33m(\u001b[0m\u001b[0mself\u001b[0m\u001b[1;33m.\u001b[0m\u001b[0m_backend\u001b[0m\u001b[1;33m,\u001b[0m \u001b[0mn_jobs\u001b[0m\u001b[1;33m=\u001b[0m\u001b[0mself\u001b[0m\u001b[1;33m.\u001b[0m\u001b[0m_n_jobs\u001b[0m\u001b[1;33m)\u001b[0m\u001b[1;33m:\u001b[0m\u001b[1;33m\u001b[0m\u001b[1;33m\u001b[0m\u001b[0m\n\u001b[1;32m--> 262\u001b[1;33m             return [func(*args, **kwargs)\n\u001b[0m\u001b[0;32m    263\u001b[0m                     for func, args, kwargs in self.items]\n\u001b[0;32m    264\u001b[0m \u001b[1;33m\u001b[0m\u001b[0m\n",
      "\u001b[1;32mc:\\Users\\jimmy\\Anaconda3\\lib\\site-packages\\joblib\\parallel.py\u001b[0m in \u001b[0;36m<listcomp>\u001b[1;34m(.0)\u001b[0m\n\u001b[0;32m    260\u001b[0m         \u001b[1;31m# change the default number of processes to -1\u001b[0m\u001b[1;33m\u001b[0m\u001b[1;33m\u001b[0m\u001b[0m\n\u001b[0;32m    261\u001b[0m         \u001b[1;32mwith\u001b[0m \u001b[0mparallel_backend\u001b[0m\u001b[1;33m(\u001b[0m\u001b[0mself\u001b[0m\u001b[1;33m.\u001b[0m\u001b[0m_backend\u001b[0m\u001b[1;33m,\u001b[0m \u001b[0mn_jobs\u001b[0m\u001b[1;33m=\u001b[0m\u001b[0mself\u001b[0m\u001b[1;33m.\u001b[0m\u001b[0m_n_jobs\u001b[0m\u001b[1;33m)\u001b[0m\u001b[1;33m:\u001b[0m\u001b[1;33m\u001b[0m\u001b[1;33m\u001b[0m\u001b[0m\n\u001b[1;32m--> 262\u001b[1;33m             return [func(*args, **kwargs)\n\u001b[0m\u001b[0;32m    263\u001b[0m                     for func, args, kwargs in self.items]\n\u001b[0;32m    264\u001b[0m \u001b[1;33m\u001b[0m\u001b[0m\n",
      "\u001b[1;32mc:\\Users\\jimmy\\Anaconda3\\lib\\site-packages\\sklearn\\utils\\fixes.py\u001b[0m in \u001b[0;36m__call__\u001b[1;34m(self, *args, **kwargs)\u001b[0m\n\u001b[0;32m    214\u001b[0m     \u001b[1;32mdef\u001b[0m \u001b[0m__call__\u001b[0m\u001b[1;33m(\u001b[0m\u001b[0mself\u001b[0m\u001b[1;33m,\u001b[0m \u001b[1;33m*\u001b[0m\u001b[0margs\u001b[0m\u001b[1;33m,\u001b[0m \u001b[1;33m**\u001b[0m\u001b[0mkwargs\u001b[0m\u001b[1;33m)\u001b[0m\u001b[1;33m:\u001b[0m\u001b[1;33m\u001b[0m\u001b[1;33m\u001b[0m\u001b[0m\n\u001b[0;32m    215\u001b[0m         \u001b[1;32mwith\u001b[0m \u001b[0mconfig_context\u001b[0m\u001b[1;33m(\u001b[0m\u001b[1;33m**\u001b[0m\u001b[0mself\u001b[0m\u001b[1;33m.\u001b[0m\u001b[0mconfig\u001b[0m\u001b[1;33m)\u001b[0m\u001b[1;33m:\u001b[0m\u001b[1;33m\u001b[0m\u001b[1;33m\u001b[0m\u001b[0m\n\u001b[1;32m--> 216\u001b[1;33m             \u001b[1;32mreturn\u001b[0m \u001b[0mself\u001b[0m\u001b[1;33m.\u001b[0m\u001b[0mfunction\u001b[0m\u001b[1;33m(\u001b[0m\u001b[1;33m*\u001b[0m\u001b[0margs\u001b[0m\u001b[1;33m,\u001b[0m \u001b[1;33m**\u001b[0m\u001b[0mkwargs\u001b[0m\u001b[1;33m)\u001b[0m\u001b[1;33m\u001b[0m\u001b[1;33m\u001b[0m\u001b[0m\n\u001b[0m\u001b[0;32m    217\u001b[0m \u001b[1;33m\u001b[0m\u001b[0m\n\u001b[0;32m    218\u001b[0m \u001b[1;33m\u001b[0m\u001b[0m\n",
      "\u001b[1;32mc:\\Users\\jimmy\\Anaconda3\\lib\\site-packages\\sklearn\\model_selection\\_validation.py\u001b[0m in \u001b[0;36m_fit_and_score\u001b[1;34m(estimator, X, y, scorer, train, test, verbose, parameters, fit_params, return_train_score, return_parameters, return_n_test_samples, return_times, return_estimator, split_progress, candidate_progress, error_score)\u001b[0m\n\u001b[0;32m    678\u001b[0m             \u001b[0mestimator\u001b[0m\u001b[1;33m.\u001b[0m\u001b[0mfit\u001b[0m\u001b[1;33m(\u001b[0m\u001b[0mX_train\u001b[0m\u001b[1;33m,\u001b[0m \u001b[1;33m**\u001b[0m\u001b[0mfit_params\u001b[0m\u001b[1;33m)\u001b[0m\u001b[1;33m\u001b[0m\u001b[1;33m\u001b[0m\u001b[0m\n\u001b[0;32m    679\u001b[0m         \u001b[1;32melse\u001b[0m\u001b[1;33m:\u001b[0m\u001b[1;33m\u001b[0m\u001b[1;33m\u001b[0m\u001b[0m\n\u001b[1;32m--> 680\u001b[1;33m             \u001b[0mestimator\u001b[0m\u001b[1;33m.\u001b[0m\u001b[0mfit\u001b[0m\u001b[1;33m(\u001b[0m\u001b[0mX_train\u001b[0m\u001b[1;33m,\u001b[0m \u001b[0my_train\u001b[0m\u001b[1;33m,\u001b[0m \u001b[1;33m**\u001b[0m\u001b[0mfit_params\u001b[0m\u001b[1;33m)\u001b[0m\u001b[1;33m\u001b[0m\u001b[1;33m\u001b[0m\u001b[0m\n\u001b[0m\u001b[0;32m    681\u001b[0m \u001b[1;33m\u001b[0m\u001b[0m\n\u001b[0;32m    682\u001b[0m     \u001b[1;32mexcept\u001b[0m \u001b[0mException\u001b[0m\u001b[1;33m:\u001b[0m\u001b[1;33m\u001b[0m\u001b[1;33m\u001b[0m\u001b[0m\n",
      "\u001b[1;32mc:\\Users\\jimmy\\Anaconda3\\lib\\site-packages\\sklearn\\ensemble\\_forest.py\u001b[0m in \u001b[0;36mfit\u001b[1;34m(self, X, y, sample_weight)\u001b[0m\n\u001b[0;32m    448\u001b[0m             \u001b[1;31m# parallel_backend contexts set at a higher level,\u001b[0m\u001b[1;33m\u001b[0m\u001b[1;33m\u001b[0m\u001b[0m\n\u001b[0;32m    449\u001b[0m             \u001b[1;31m# since correctness does not rely on using threads.\u001b[0m\u001b[1;33m\u001b[0m\u001b[1;33m\u001b[0m\u001b[0m\n\u001b[1;32m--> 450\u001b[1;33m             trees = Parallel(\n\u001b[0m\u001b[0;32m    451\u001b[0m                 \u001b[0mn_jobs\u001b[0m\u001b[1;33m=\u001b[0m\u001b[0mself\u001b[0m\u001b[1;33m.\u001b[0m\u001b[0mn_jobs\u001b[0m\u001b[1;33m,\u001b[0m\u001b[1;33m\u001b[0m\u001b[1;33m\u001b[0m\u001b[0m\n\u001b[0;32m    452\u001b[0m                 \u001b[0mverbose\u001b[0m\u001b[1;33m=\u001b[0m\u001b[0mself\u001b[0m\u001b[1;33m.\u001b[0m\u001b[0mverbose\u001b[0m\u001b[1;33m,\u001b[0m\u001b[1;33m\u001b[0m\u001b[1;33m\u001b[0m\u001b[0m\n",
      "\u001b[1;32mc:\\Users\\jimmy\\Anaconda3\\lib\\site-packages\\joblib\\parallel.py\u001b[0m in \u001b[0;36m__call__\u001b[1;34m(self, iterable)\u001b[0m\n\u001b[0;32m   1044\u001b[0m                 \u001b[0mself\u001b[0m\u001b[1;33m.\u001b[0m\u001b[0m_iterating\u001b[0m \u001b[1;33m=\u001b[0m \u001b[0mself\u001b[0m\u001b[1;33m.\u001b[0m\u001b[0m_original_iterator\u001b[0m \u001b[1;32mis\u001b[0m \u001b[1;32mnot\u001b[0m \u001b[1;32mNone\u001b[0m\u001b[1;33m\u001b[0m\u001b[1;33m\u001b[0m\u001b[0m\n\u001b[0;32m   1045\u001b[0m \u001b[1;33m\u001b[0m\u001b[0m\n\u001b[1;32m-> 1046\u001b[1;33m             \u001b[1;32mwhile\u001b[0m \u001b[0mself\u001b[0m\u001b[1;33m.\u001b[0m\u001b[0mdispatch_one_batch\u001b[0m\u001b[1;33m(\u001b[0m\u001b[0miterator\u001b[0m\u001b[1;33m)\u001b[0m\u001b[1;33m:\u001b[0m\u001b[1;33m\u001b[0m\u001b[1;33m\u001b[0m\u001b[0m\n\u001b[0m\u001b[0;32m   1047\u001b[0m                 \u001b[1;32mpass\u001b[0m\u001b[1;33m\u001b[0m\u001b[1;33m\u001b[0m\u001b[0m\n\u001b[0;32m   1048\u001b[0m \u001b[1;33m\u001b[0m\u001b[0m\n",
      "\u001b[1;32mc:\\Users\\jimmy\\Anaconda3\\lib\\site-packages\\joblib\\parallel.py\u001b[0m in \u001b[0;36mdispatch_one_batch\u001b[1;34m(self, iterator)\u001b[0m\n\u001b[0;32m    859\u001b[0m                 \u001b[1;32mreturn\u001b[0m \u001b[1;32mFalse\u001b[0m\u001b[1;33m\u001b[0m\u001b[1;33m\u001b[0m\u001b[0m\n\u001b[0;32m    860\u001b[0m             \u001b[1;32melse\u001b[0m\u001b[1;33m:\u001b[0m\u001b[1;33m\u001b[0m\u001b[1;33m\u001b[0m\u001b[0m\n\u001b[1;32m--> 861\u001b[1;33m                 \u001b[0mself\u001b[0m\u001b[1;33m.\u001b[0m\u001b[0m_dispatch\u001b[0m\u001b[1;33m(\u001b[0m\u001b[0mtasks\u001b[0m\u001b[1;33m)\u001b[0m\u001b[1;33m\u001b[0m\u001b[1;33m\u001b[0m\u001b[0m\n\u001b[0m\u001b[0;32m    862\u001b[0m                 \u001b[1;32mreturn\u001b[0m \u001b[1;32mTrue\u001b[0m\u001b[1;33m\u001b[0m\u001b[1;33m\u001b[0m\u001b[0m\n\u001b[0;32m    863\u001b[0m \u001b[1;33m\u001b[0m\u001b[0m\n",
      "\u001b[1;32mc:\\Users\\jimmy\\Anaconda3\\lib\\site-packages\\joblib\\parallel.py\u001b[0m in \u001b[0;36m_dispatch\u001b[1;34m(self, batch)\u001b[0m\n\u001b[0;32m    777\u001b[0m         \u001b[1;32mwith\u001b[0m \u001b[0mself\u001b[0m\u001b[1;33m.\u001b[0m\u001b[0m_lock\u001b[0m\u001b[1;33m:\u001b[0m\u001b[1;33m\u001b[0m\u001b[1;33m\u001b[0m\u001b[0m\n\u001b[0;32m    778\u001b[0m             \u001b[0mjob_idx\u001b[0m \u001b[1;33m=\u001b[0m \u001b[0mlen\u001b[0m\u001b[1;33m(\u001b[0m\u001b[0mself\u001b[0m\u001b[1;33m.\u001b[0m\u001b[0m_jobs\u001b[0m\u001b[1;33m)\u001b[0m\u001b[1;33m\u001b[0m\u001b[1;33m\u001b[0m\u001b[0m\n\u001b[1;32m--> 779\u001b[1;33m             \u001b[0mjob\u001b[0m \u001b[1;33m=\u001b[0m \u001b[0mself\u001b[0m\u001b[1;33m.\u001b[0m\u001b[0m_backend\u001b[0m\u001b[1;33m.\u001b[0m\u001b[0mapply_async\u001b[0m\u001b[1;33m(\u001b[0m\u001b[0mbatch\u001b[0m\u001b[1;33m,\u001b[0m \u001b[0mcallback\u001b[0m\u001b[1;33m=\u001b[0m\u001b[0mcb\u001b[0m\u001b[1;33m)\u001b[0m\u001b[1;33m\u001b[0m\u001b[1;33m\u001b[0m\u001b[0m\n\u001b[0m\u001b[0;32m    780\u001b[0m             \u001b[1;31m# A job can complete so quickly than its callback is\u001b[0m\u001b[1;33m\u001b[0m\u001b[1;33m\u001b[0m\u001b[0m\n\u001b[0;32m    781\u001b[0m             \u001b[1;31m# called before we get here, causing self._jobs to\u001b[0m\u001b[1;33m\u001b[0m\u001b[1;33m\u001b[0m\u001b[0m\n",
      "\u001b[1;32mc:\\Users\\jimmy\\Anaconda3\\lib\\site-packages\\joblib\\_parallel_backends.py\u001b[0m in \u001b[0;36mapply_async\u001b[1;34m(self, func, callback)\u001b[0m\n\u001b[0;32m    206\u001b[0m     \u001b[1;32mdef\u001b[0m \u001b[0mapply_async\u001b[0m\u001b[1;33m(\u001b[0m\u001b[0mself\u001b[0m\u001b[1;33m,\u001b[0m \u001b[0mfunc\u001b[0m\u001b[1;33m,\u001b[0m \u001b[0mcallback\u001b[0m\u001b[1;33m=\u001b[0m\u001b[1;32mNone\u001b[0m\u001b[1;33m)\u001b[0m\u001b[1;33m:\u001b[0m\u001b[1;33m\u001b[0m\u001b[1;33m\u001b[0m\u001b[0m\n\u001b[0;32m    207\u001b[0m         \u001b[1;34m\"\"\"Schedule a func to be run\"\"\"\u001b[0m\u001b[1;33m\u001b[0m\u001b[1;33m\u001b[0m\u001b[0m\n\u001b[1;32m--> 208\u001b[1;33m         \u001b[0mresult\u001b[0m \u001b[1;33m=\u001b[0m \u001b[0mImmediateResult\u001b[0m\u001b[1;33m(\u001b[0m\u001b[0mfunc\u001b[0m\u001b[1;33m)\u001b[0m\u001b[1;33m\u001b[0m\u001b[1;33m\u001b[0m\u001b[0m\n\u001b[0m\u001b[0;32m    209\u001b[0m         \u001b[1;32mif\u001b[0m \u001b[0mcallback\u001b[0m\u001b[1;33m:\u001b[0m\u001b[1;33m\u001b[0m\u001b[1;33m\u001b[0m\u001b[0m\n\u001b[0;32m    210\u001b[0m             \u001b[0mcallback\u001b[0m\u001b[1;33m(\u001b[0m\u001b[0mresult\u001b[0m\u001b[1;33m)\u001b[0m\u001b[1;33m\u001b[0m\u001b[1;33m\u001b[0m\u001b[0m\n",
      "\u001b[1;32mc:\\Users\\jimmy\\Anaconda3\\lib\\site-packages\\joblib\\_parallel_backends.py\u001b[0m in \u001b[0;36m__init__\u001b[1;34m(self, batch)\u001b[0m\n\u001b[0;32m    570\u001b[0m         \u001b[1;31m# Don't delay the application, to avoid keeping the input\u001b[0m\u001b[1;33m\u001b[0m\u001b[1;33m\u001b[0m\u001b[0m\n\u001b[0;32m    571\u001b[0m         \u001b[1;31m# arguments in memory\u001b[0m\u001b[1;33m\u001b[0m\u001b[1;33m\u001b[0m\u001b[0m\n\u001b[1;32m--> 572\u001b[1;33m         \u001b[0mself\u001b[0m\u001b[1;33m.\u001b[0m\u001b[0mresults\u001b[0m \u001b[1;33m=\u001b[0m \u001b[0mbatch\u001b[0m\u001b[1;33m(\u001b[0m\u001b[1;33m)\u001b[0m\u001b[1;33m\u001b[0m\u001b[1;33m\u001b[0m\u001b[0m\n\u001b[0m\u001b[0;32m    573\u001b[0m \u001b[1;33m\u001b[0m\u001b[0m\n\u001b[0;32m    574\u001b[0m     \u001b[1;32mdef\u001b[0m \u001b[0mget\u001b[0m\u001b[1;33m(\u001b[0m\u001b[0mself\u001b[0m\u001b[1;33m)\u001b[0m\u001b[1;33m:\u001b[0m\u001b[1;33m\u001b[0m\u001b[1;33m\u001b[0m\u001b[0m\n",
      "\u001b[1;32mc:\\Users\\jimmy\\Anaconda3\\lib\\site-packages\\joblib\\parallel.py\u001b[0m in \u001b[0;36m__call__\u001b[1;34m(self)\u001b[0m\n\u001b[0;32m    260\u001b[0m         \u001b[1;31m# change the default number of processes to -1\u001b[0m\u001b[1;33m\u001b[0m\u001b[1;33m\u001b[0m\u001b[0m\n\u001b[0;32m    261\u001b[0m         \u001b[1;32mwith\u001b[0m \u001b[0mparallel_backend\u001b[0m\u001b[1;33m(\u001b[0m\u001b[0mself\u001b[0m\u001b[1;33m.\u001b[0m\u001b[0m_backend\u001b[0m\u001b[1;33m,\u001b[0m \u001b[0mn_jobs\u001b[0m\u001b[1;33m=\u001b[0m\u001b[0mself\u001b[0m\u001b[1;33m.\u001b[0m\u001b[0m_n_jobs\u001b[0m\u001b[1;33m)\u001b[0m\u001b[1;33m:\u001b[0m\u001b[1;33m\u001b[0m\u001b[1;33m\u001b[0m\u001b[0m\n\u001b[1;32m--> 262\u001b[1;33m             return [func(*args, **kwargs)\n\u001b[0m\u001b[0;32m    263\u001b[0m                     for func, args, kwargs in self.items]\n\u001b[0;32m    264\u001b[0m \u001b[1;33m\u001b[0m\u001b[0m\n",
      "\u001b[1;32mc:\\Users\\jimmy\\Anaconda3\\lib\\site-packages\\joblib\\parallel.py\u001b[0m in \u001b[0;36m<listcomp>\u001b[1;34m(.0)\u001b[0m\n\u001b[0;32m    260\u001b[0m         \u001b[1;31m# change the default number of processes to -1\u001b[0m\u001b[1;33m\u001b[0m\u001b[1;33m\u001b[0m\u001b[0m\n\u001b[0;32m    261\u001b[0m         \u001b[1;32mwith\u001b[0m \u001b[0mparallel_backend\u001b[0m\u001b[1;33m(\u001b[0m\u001b[0mself\u001b[0m\u001b[1;33m.\u001b[0m\u001b[0m_backend\u001b[0m\u001b[1;33m,\u001b[0m \u001b[0mn_jobs\u001b[0m\u001b[1;33m=\u001b[0m\u001b[0mself\u001b[0m\u001b[1;33m.\u001b[0m\u001b[0m_n_jobs\u001b[0m\u001b[1;33m)\u001b[0m\u001b[1;33m:\u001b[0m\u001b[1;33m\u001b[0m\u001b[1;33m\u001b[0m\u001b[0m\n\u001b[1;32m--> 262\u001b[1;33m             return [func(*args, **kwargs)\n\u001b[0m\u001b[0;32m    263\u001b[0m                     for func, args, kwargs in self.items]\n\u001b[0;32m    264\u001b[0m \u001b[1;33m\u001b[0m\u001b[0m\n",
      "\u001b[1;32mc:\\Users\\jimmy\\Anaconda3\\lib\\site-packages\\sklearn\\utils\\fixes.py\u001b[0m in \u001b[0;36m__call__\u001b[1;34m(self, *args, **kwargs)\u001b[0m\n\u001b[0;32m    214\u001b[0m     \u001b[1;32mdef\u001b[0m \u001b[0m__call__\u001b[0m\u001b[1;33m(\u001b[0m\u001b[0mself\u001b[0m\u001b[1;33m,\u001b[0m \u001b[1;33m*\u001b[0m\u001b[0margs\u001b[0m\u001b[1;33m,\u001b[0m \u001b[1;33m**\u001b[0m\u001b[0mkwargs\u001b[0m\u001b[1;33m)\u001b[0m\u001b[1;33m:\u001b[0m\u001b[1;33m\u001b[0m\u001b[1;33m\u001b[0m\u001b[0m\n\u001b[0;32m    215\u001b[0m         \u001b[1;32mwith\u001b[0m \u001b[0mconfig_context\u001b[0m\u001b[1;33m(\u001b[0m\u001b[1;33m**\u001b[0m\u001b[0mself\u001b[0m\u001b[1;33m.\u001b[0m\u001b[0mconfig\u001b[0m\u001b[1;33m)\u001b[0m\u001b[1;33m:\u001b[0m\u001b[1;33m\u001b[0m\u001b[1;33m\u001b[0m\u001b[0m\n\u001b[1;32m--> 216\u001b[1;33m             \u001b[1;32mreturn\u001b[0m \u001b[0mself\u001b[0m\u001b[1;33m.\u001b[0m\u001b[0mfunction\u001b[0m\u001b[1;33m(\u001b[0m\u001b[1;33m*\u001b[0m\u001b[0margs\u001b[0m\u001b[1;33m,\u001b[0m \u001b[1;33m**\u001b[0m\u001b[0mkwargs\u001b[0m\u001b[1;33m)\u001b[0m\u001b[1;33m\u001b[0m\u001b[1;33m\u001b[0m\u001b[0m\n\u001b[0m\u001b[0;32m    217\u001b[0m \u001b[1;33m\u001b[0m\u001b[0m\n\u001b[0;32m    218\u001b[0m \u001b[1;33m\u001b[0m\u001b[0m\n",
      "\u001b[1;32mc:\\Users\\jimmy\\Anaconda3\\lib\\site-packages\\sklearn\\ensemble\\_forest.py\u001b[0m in \u001b[0;36m_parallel_build_trees\u001b[1;34m(tree, forest, X, y, sample_weight, tree_idx, n_trees, verbose, class_weight, n_samples_bootstrap)\u001b[0m\n\u001b[0;32m    183\u001b[0m             \u001b[0mcurr_sample_weight\u001b[0m \u001b[1;33m*=\u001b[0m \u001b[0mcompute_sample_weight\u001b[0m\u001b[1;33m(\u001b[0m\u001b[1;34m\"balanced\"\u001b[0m\u001b[1;33m,\u001b[0m \u001b[0my\u001b[0m\u001b[1;33m,\u001b[0m \u001b[0mindices\u001b[0m\u001b[1;33m=\u001b[0m\u001b[0mindices\u001b[0m\u001b[1;33m)\u001b[0m\u001b[1;33m\u001b[0m\u001b[1;33m\u001b[0m\u001b[0m\n\u001b[0;32m    184\u001b[0m \u001b[1;33m\u001b[0m\u001b[0m\n\u001b[1;32m--> 185\u001b[1;33m         \u001b[0mtree\u001b[0m\u001b[1;33m.\u001b[0m\u001b[0mfit\u001b[0m\u001b[1;33m(\u001b[0m\u001b[0mX\u001b[0m\u001b[1;33m,\u001b[0m \u001b[0my\u001b[0m\u001b[1;33m,\u001b[0m \u001b[0msample_weight\u001b[0m\u001b[1;33m=\u001b[0m\u001b[0mcurr_sample_weight\u001b[0m\u001b[1;33m,\u001b[0m \u001b[0mcheck_input\u001b[0m\u001b[1;33m=\u001b[0m\u001b[1;32mFalse\u001b[0m\u001b[1;33m)\u001b[0m\u001b[1;33m\u001b[0m\u001b[1;33m\u001b[0m\u001b[0m\n\u001b[0m\u001b[0;32m    186\u001b[0m     \u001b[1;32melse\u001b[0m\u001b[1;33m:\u001b[0m\u001b[1;33m\u001b[0m\u001b[1;33m\u001b[0m\u001b[0m\n\u001b[0;32m    187\u001b[0m         \u001b[0mtree\u001b[0m\u001b[1;33m.\u001b[0m\u001b[0mfit\u001b[0m\u001b[1;33m(\u001b[0m\u001b[0mX\u001b[0m\u001b[1;33m,\u001b[0m \u001b[0my\u001b[0m\u001b[1;33m,\u001b[0m \u001b[0msample_weight\u001b[0m\u001b[1;33m=\u001b[0m\u001b[0msample_weight\u001b[0m\u001b[1;33m,\u001b[0m \u001b[0mcheck_input\u001b[0m\u001b[1;33m=\u001b[0m\u001b[1;32mFalse\u001b[0m\u001b[1;33m)\u001b[0m\u001b[1;33m\u001b[0m\u001b[1;33m\u001b[0m\u001b[0m\n",
      "\u001b[1;32mc:\\Users\\jimmy\\Anaconda3\\lib\\site-packages\\sklearn\\tree\\_classes.py\u001b[0m in \u001b[0;36mfit\u001b[1;34m(self, X, y, sample_weight, check_input, X_idx_sorted)\u001b[0m\n\u001b[0;32m    935\u001b[0m         \"\"\"\n\u001b[0;32m    936\u001b[0m \u001b[1;33m\u001b[0m\u001b[0m\n\u001b[1;32m--> 937\u001b[1;33m         super().fit(\n\u001b[0m\u001b[0;32m    938\u001b[0m             \u001b[0mX\u001b[0m\u001b[1;33m,\u001b[0m\u001b[1;33m\u001b[0m\u001b[1;33m\u001b[0m\u001b[0m\n\u001b[0;32m    939\u001b[0m             \u001b[0my\u001b[0m\u001b[1;33m,\u001b[0m\u001b[1;33m\u001b[0m\u001b[1;33m\u001b[0m\u001b[0m\n",
      "\u001b[1;32mc:\\Users\\jimmy\\Anaconda3\\lib\\site-packages\\sklearn\\tree\\_classes.py\u001b[0m in \u001b[0;36mfit\u001b[1;34m(self, X, y, sample_weight, check_input, X_idx_sorted)\u001b[0m\n\u001b[0;32m    418\u001b[0m             )\n\u001b[0;32m    419\u001b[0m \u001b[1;33m\u001b[0m\u001b[0m\n\u001b[1;32m--> 420\u001b[1;33m         \u001b[0mbuilder\u001b[0m\u001b[1;33m.\u001b[0m\u001b[0mbuild\u001b[0m\u001b[1;33m(\u001b[0m\u001b[0mself\u001b[0m\u001b[1;33m.\u001b[0m\u001b[0mtree_\u001b[0m\u001b[1;33m,\u001b[0m \u001b[0mX\u001b[0m\u001b[1;33m,\u001b[0m \u001b[0my\u001b[0m\u001b[1;33m,\u001b[0m \u001b[0msample_weight\u001b[0m\u001b[1;33m)\u001b[0m\u001b[1;33m\u001b[0m\u001b[1;33m\u001b[0m\u001b[0m\n\u001b[0m\u001b[0;32m    421\u001b[0m \u001b[1;33m\u001b[0m\u001b[0m\n\u001b[0;32m    422\u001b[0m         \u001b[1;32mif\u001b[0m \u001b[0mself\u001b[0m\u001b[1;33m.\u001b[0m\u001b[0mn_outputs_\u001b[0m \u001b[1;33m==\u001b[0m \u001b[1;36m1\u001b[0m \u001b[1;32mand\u001b[0m \u001b[0mis_classifier\u001b[0m\u001b[1;33m(\u001b[0m\u001b[0mself\u001b[0m\u001b[1;33m)\u001b[0m\u001b[1;33m:\u001b[0m\u001b[1;33m\u001b[0m\u001b[1;33m\u001b[0m\u001b[0m\n",
      "\u001b[1;31mKeyboardInterrupt\u001b[0m: "
     ]
    }
   ],
   "source": [
    "# Random forest \n",
    "from sklearn.ensemble import RandomForestClassifier\n",
    "\n",
    "param_grid = {'max_depth': [1, 2, 5, 10, 20, 80], 'max_features': [2, 3, 5, 10],'n_estimators': [1, 2, 3, 5, 10, 30, 50, 100, 200, 300, 500]}\n",
    "\n",
    "grid_rf = GridSearchCV(RandomForestClassifier(random_state=125),param_grid,refit=True, return_train_score=True)\n",
    "grid_rf.fit(X_train_reshape,y_train.ravel())"
   ]
  },
  {
   "cell_type": "code",
   "execution_count": 174,
   "metadata": {},
   "outputs": [
    {
     "data": {
      "text/plain": [
       "{'max_depth': 80, 'max_features': 10, 'n_estimators': 500}"
      ]
     },
     "execution_count": 174,
     "metadata": {},
     "output_type": "execute_result"
    }
   ],
   "source": [
    "grid_rf.best_params_"
   ]
  },
  {
   "cell_type": "code",
   "execution_count": 172,
   "metadata": {},
   "outputs": [
    {
     "name": "stdout",
     "output_type": "stream",
     "text": [
      "0.8942307692307693\n"
     ]
    },
    {
     "data": {
      "image/png": "[encoded data removed]",
      "text/plain": [
       "<Figure size 500x500 with 1 Axes>"
      ]
     },
     "metadata": {},
     "output_type": "display_data"
    },
    {
     "name": "stdout",
     "output_type": "stream",
     "text": [
      "              precision    recall  f1-score   support\n",
      "\n",
      "           0       0.91      0.88      0.90       320\n",
      "           1       0.88      0.90      0.89       304\n",
      "\n",
      "    accuracy                           0.89       624\n",
      "   macro avg       0.89      0.89      0.89       624\n",
      "weighted avg       0.89      0.89      0.89       624\n",
      "\n"
     ]
    }
   ],
   "source": [
    "y_pred=grid_rf.predict(X_test_reshape)\n",
    "\n",
    "print(accuracy_score(y_test, y_pred))\n",
    "\n",
    "class_report, fig = showClassficationReport(y_pred , y_test.T[0], [\"AD\", \"HC\"])\n",
    "print(class_report)\n",
    "\n",
    "fig.savefig(\"./Results/images/10sec_512_SVM_test.png\")\n"
   ]
  },
  {
   "cell_type": "code",
   "execution_count": 173,
   "metadata": {},
   "outputs": [
    {
     "name": "stdout",
     "output_type": "stream",
     "text": [
      "1.0\n"
     ]
    },
    {
     "data": {
      "image/png": "[encoded data removed]",
      "text/plain": [
       "<Figure size 500x500 with 1 Axes>"
      ]
     },
     "metadata": {},
     "output_type": "display_data"
    },
    {
     "name": "stdout",
     "output_type": "stream",
     "text": [
      "              precision    recall  f1-score   support\n",
      "\n",
      "           0       1.00      1.00      1.00      1240\n",
      "           1       1.00      1.00      1.00      1256\n",
      "\n",
      "    accuracy                           1.00      2496\n",
      "   macro avg       1.00      1.00      1.00      2496\n",
      "weighted avg       1.00      1.00      1.00      2496\n",
      "\n"
     ]
    }
   ],
   "source": [
    "y_pred=grid_rf.predict(X_train_reshape)\n",
    "\n",
    "print(accuracy_score(y_train, y_pred))\n",
    "\n",
    "class_report, fig = showClassficationReport(y_pred , y_train.T[0], [\"AD\", \"HC\"])\n",
    "print(class_report)\n",
    "\n",
    "fig.savefig(\"./Results/images/10sec_512_SVM_train.png\")"
   ]
  },
  {
   "attachments": {},
   "cell_type": "markdown",
   "metadata": {},
   "source": [
    "## MLP "
   ]
  },
  {
   "cell_type": "code",
   "execution_count": 175,
   "metadata": {},
   "outputs": [
    {
     "name": "stderr",
     "output_type": "stream",
     "text": [
      "c:\\Users\\jimmy\\Anaconda3\\lib\\site-packages\\sklearn\\neural_network\\_multilayer_perceptron.py:1109: DataConversionWarning: A column-vector y was passed when a 1d array was expected. Please change the shape of y to (n_samples, ), for example using ravel().\n",
      "  y = column_or_1d(y, warn=True)\n",
      "c:\\Users\\jimmy\\Anaconda3\\lib\\site-packages\\sklearn\\neural_network\\_multilayer_perceptron.py:549: ConvergenceWarning: lbfgs failed to converge (status=1):\n",
      "STOP: TOTAL NO. of ITERATIONS REACHED LIMIT.\n",
      "\n",
      "Increase the number of iterations (max_iter) or scale the data as shown in:\n",
      "    https://scikit-learn.org/stable/modules/preprocessing.html\n",
      "  self.n_iter_ = _check_optimize_result(\"lbfgs\", opt_res, self.max_iter)\n"
     ]
    },
    {
     "data": {
      "text/plain": [
       "GridSearchCV(cv=5, estimator=MLPClassifier(), n_jobs=-1,\n",
       "             param_grid={'activation': ['relu'], 'alpha': [0.0001],\n",
       "                         'hidden_layer_sizes': [(128, 128, 64)],\n",
       "                         'learning_rate': ['adaptive'],\n",
       "                         'learning_rate_init': [0.01], 'solver': ['lbfgs']})"
      ]
     },
     "execution_count": 175,
     "metadata": {},
     "output_type": "execute_result"
    }
   ],
   "source": [
    "from sklearn.neural_network import MLPClassifier\n",
    "\n",
    "parameter_space = {\n",
    "    'hidden_layer_sizes': [(128,128,64)],\n",
    "    'activation': ['relu'],\n",
    "    'solver': ['lbfgs',],\n",
    "    'alpha': [0.0001],\n",
    "    'learning_rate': ['adaptive'],\n",
    "    'learning_rate_init' : [ 0.01]}\n",
    "\n",
    "clf = GridSearchCV(MLPClassifier(), parameter_space, n_jobs=-1, cv=5)\n",
    "clf.fit(X_train_reshape, y_train) # X is train samples and y is the corresponding labels"
   ]
  },
  {
   "cell_type": "code",
   "execution_count": 176,
   "metadata": {},
   "outputs": [
    {
     "name": "stdout",
     "output_type": "stream",
     "text": [
      "0.8717948717948718\n"
     ]
    },
    {
     "data": {
      "image/png": "[encoded data removed]",
      "text/plain": [
       "<Figure size 500x500 with 1 Axes>"
      ]
     },
     "metadata": {},
     "output_type": "display_data"
    },
    {
     "name": "stdout",
     "output_type": "stream",
     "text": [
      "('              precision    recall  f1-score   support\\n\\n           0       0.87      0.88      0.87       318\\n           1       0.87      0.87      0.87       306\\n\\n    accuracy                           0.87       624\\n   macro avg       0.87      0.87      0.87       624\\nweighted avg       0.87      0.87      0.87       624\\n', <Figure size 500x500 with 1 Axes>)\n"
     ]
    }
   ],
   "source": [
    "y_pred = clf.predict(X_test_reshape)\n",
    "\n",
    "print(accuracy_score(y_test, y_pred))\n",
    "print(showClassficationReport(y_test, y_pred, [\"AD\", \"HC\"]))"
   ]
  },
  {
   "attachments": {},
   "cell_type": "markdown",
   "metadata": {},
   "source": [
    "# KNN"
   ]
  },
  {
   "cell_type": "code",
   "execution_count": 154,
   "metadata": {},
   "outputs": [],
   "source": [
    "from sklearn.neighbors import KNeighborsClassifier\n",
    "neigh = KNeighborsClassifier(n_neighbors=5)\n"
   ]
  },
  {
   "cell_type": "code",
   "execution_count": 155,
   "metadata": {},
   "outputs": [
    {
     "data": {
      "text/plain": [
       "KNeighborsClassifier()"
      ]
     },
     "execution_count": 155,
     "metadata": {},
     "output_type": "execute_result"
    }
   ],
   "source": [
    "neigh.fit(X_train_reshape,y_train.ravel())"
   ]
  },
  {
   "cell_type": "code",
   "execution_count": 156,
   "metadata": {},
   "outputs": [
    {
     "name": "stdout",
     "output_type": "stream",
     "text": [
      "0.905448717948718\n"
     ]
    },
    {
     "name": "stderr",
     "output_type": "stream",
     "text": [
      "c:\\Users\\jimmy\\Anaconda3\\lib\\site-packages\\sklearn\\neighbors\\_classification.py:228: FutureWarning: Unlike other reduction functions (e.g. `skew`, `kurtosis`), the default behavior of `mode` typically preserves the axis it acts along. In SciPy 1.11.0, this behavior will change: the default value of `keepdims` will become False, the `axis` over which the statistic is taken will be eliminated, and the value None will no longer be accepted. Set `keepdims` to True or False to avoid this warning.\n",
      "  mode, _ = stats.mode(_y[neigh_ind, k], axis=1)\n"
     ]
    },
    {
     "data": {
      "image/png": "[encoded data removed]",
      "text/plain": [
       "<Figure size 500x500 with 1 Axes>"
      ]
     },
     "metadata": {},
     "output_type": "display_data"
    },
    {
     "name": "stdout",
     "output_type": "stream",
     "text": [
      "('              precision    recall  f1-score   support\\n\\n           0       0.90      0.92      0.91       320\\n           1       0.92      0.89      0.90       304\\n\\n    accuracy                           0.91       624\\n   macro avg       0.91      0.91      0.91       624\\nweighted avg       0.91      0.91      0.91       624\\n', <Figure size 500x500 with 1 Axes>)\n"
     ]
    }
   ],
   "source": [
    "y_pred=neigh.predict(X_test_reshape)\n",
    "\n",
    "print(accuracy_score(y_test, y_pred))\n",
    "\n",
    "class_report = showClassficationReport(y_pred , y_test.T[0], [\"AD\", \"HC\"] )\n",
    "print(class_report)"
   ]
  },
  {
   "attachments": {},
   "cell_type": "markdown",
   "metadata": {},
   "source": [
    "## Deep Neural Network"
   ]
  },
  {
   "cell_type": "code",
   "execution_count": 141,
   "metadata": {},
   "outputs": [],
   "source": [
    "X = Variable(torch.from_numpy(X.astype(np.float32)), requires_grad=False)\n",
    "Y = Variable(torch.from_numpy(Y.astype(np.float32)), requires_grad=False)"
   ]
  },
  {
   "cell_type": "code",
   "execution_count": 142,
   "metadata": {},
   "outputs": [],
   "source": [
    "X_train, X_test, y_train, y_test = train_test_split(   \n",
    "     X, Y, test_size=0.3, random_state=42)\n",
    "\n",
    "#X_train, X_val, y_train, y_val = train_test_split(   \n",
    "#     X_train, y_train, test_size=0.1, random_state=42)"
   ]
  },
  {
   "cell_type": "code",
   "execution_count": 143,
   "metadata": {},
   "outputs": [
    {
     "data": {
      "text/plain": [
       "{'train': 2184, 'test': 936}"
      ]
     },
     "execution_count": 143,
     "metadata": {},
     "output_type": "execute_result"
    }
   ],
   "source": [
    "data_dist = {\"train\" : len(X_train), \"test\" : len(X_test) } #, \"val\" : len(X_val)}\n",
    "data_dist"
   ]
  },
  {
   "cell_type": "code",
   "execution_count": 144,
   "metadata": {},
   "outputs": [
    {
     "data": {
      "text/plain": [
       "Sequential(\n",
       "  (0): Conv2d(1, 16, kernel_size=(3, 3), stride=(1, 1))\n",
       "  (1): Conv2d(16, 16, kernel_size=(3, 3), stride=(1, 1))\n",
       "  (2): MaxPool2d(kernel_size=2, stride=2, padding=0, dilation=1, ceil_mode=False)\n",
       "  (3): Dropout(p=0.5, inplace=False)\n",
       "  (4): Conv2d(16, 32, kernel_size=(3, 3), stride=(1, 1))\n",
       "  (5): Conv2d(32, 32, kernel_size=(3, 3), stride=(1, 1))\n",
       "  (6): MaxPool2d(kernel_size=3, stride=3, padding=0, dilation=1, ceil_mode=False)\n",
       "  (7): Dropout(p=0.5, inplace=False)\n",
       "  (8): Flatten(start_dim=1, end_dim=-1)\n",
       "  (9): Linear(in_features=32, out_features=160, bias=True)\n",
       "  (10): Dropout(p=0.5, inplace=False)\n",
       "  (11): Linear(in_features=160, out_features=1, bias=True)\n",
       "  (12): Sigmoid()\n",
       ")"
      ]
     },
     "execution_count": 144,
     "metadata": {},
     "output_type": "execute_result"
    }
   ],
   "source": [
    "# Network Initialization \n",
    "\n",
    "model = nn.Sequential(\n",
    "          nn.Conv2d(1,16,3),\n",
    "          nn.Conv2d(16,16,3),\n",
    "          nn.MaxPool2d(2),\n",
    "          nn.Dropout(),\n",
    "          nn.Conv2d(16,32,3),\n",
    "          nn.Conv2d(32,32,3),\n",
    "          nn.MaxPool2d(3),\n",
    "          nn.Dropout(),\n",
    "          nn.Flatten(),\n",
    "          nn.Linear(32, 160),\n",
    "          nn.Dropout(),\n",
    "          nn.Linear(160, 1),\n",
    "          nn.Sigmoid()\n",
    "        )\n",
    "model.to(\"cuda\")\n",
    "\n",
    "#summary(model, (1,20,20))"
   ]
  },
  {
   "cell_type": "code",
   "execution_count": 145,
   "metadata": {},
   "outputs": [],
   "source": [
    "batch_size = 64\n",
    "train_ds = torch.utils.data.TensorDataset(X_train, y_train)\n",
    "validation_ds = torch.utils.data.TensorDataset(X_test, y_test)\n",
    "\n",
    "\n",
    "train_ds_loader = torch.utils.data.DataLoader(train_ds,shuffle=True, batch_size=64)\n",
    "val_ds_loader = torch.utils.data.DataLoader(validation_ds,shuffle=True, batch_size=936)"
   ]
  },
  {
   "cell_type": "code",
   "execution_count": 146,
   "metadata": {},
   "outputs": [
    {
     "name": "stdout",
     "output_type": "stream",
     "text": [
      "torch.Size([936, 1])\n"
     ]
    }
   ],
   "source": [
    "for d1, l1 in val_ds_loader:\n",
    "    print(l1.shape)\n",
    "\n"
   ]
  },
  {
   "cell_type": "code",
   "execution_count": 147,
   "metadata": {},
   "outputs": [],
   "source": [
    "import torch.optim as optim\n",
    "import copy\n",
    "\n",
    "\n",
    "\n",
    "loss_fn=nn.BCELoss()\n",
    "optimizer=optim.Adam(model.parameters(), lr=0.001)"
   ]
  },
  {
   "cell_type": "code",
   "execution_count": 148,
   "metadata": {},
   "outputs": [],
   "source": [
    "num_epoch = 300 \n",
    "train_losses=[]\n",
    "valid_losses=[]\n",
    "\n",
    "# Hold the best model\n",
    "best_acc = - np.inf   # init to negative infinity\n",
    "best_weights = None"
   ]
  },
  {
   "cell_type": "code",
   "execution_count": 162,
   "metadata": {},
   "outputs": [
    {
     "name": "stdout",
     "output_type": "stream",
     "text": [
      "Epoch:1 Train Loss:0.2750 valid Losss:221.9669 Train Accuracy:0.8812 Train F1:0.8790 Valid Accuracy:0.9241 Valid F1:0.9224 best_acc 1.8507\n",
      "Epoch:2 Train Loss:0.2749 valid Losss:224.8324 Train Accuracy:0.8804 Train F1:0.8788 Valid Accuracy:0.9103 Valid F1:0.9112 best_acc 1.8507\n",
      "Epoch:3 Train Loss:0.2704 valid Losss:227.3504 Train Accuracy:0.8853 Train F1:0.8851 Valid Accuracy:0.9124 Valid F1:0.9126 best_acc 1.8507\n",
      "Epoch:4 Train Loss:0.2832 valid Losss:223.8393 Train Accuracy:0.8786 Train F1:0.8780 Valid Accuracy:0.9145 Valid F1:0.9153 best_acc 1.8507\n",
      "Epoch:5 Train Loss:0.2536 valid Losss:228.3556 Train Accuracy:0.8911 Train F1:0.8908 Valid Accuracy:0.9167 Valid F1:0.9179 best_acc 1.8507\n",
      "Epoch:6 Train Loss:0.2652 valid Losss:223.6368 Train Accuracy:0.8750 Train F1:0.8735 Valid Accuracy:0.9177 Valid F1:0.9182 best_acc 1.8507\n",
      "Epoch:7 Train Loss:0.2630 valid Losss:227.1754 Train Accuracy:0.8772 Train F1:0.8796 Valid Accuracy:0.9103 Valid F1:0.9093 best_acc 1.8507\n",
      "Epoch:8 Train Loss:0.2732 valid Losss:238.6961 Train Accuracy:0.8857 Train F1:0.8832 Valid Accuracy:0.9113 Valid F1:0.9114 best_acc 1.8507\n",
      "Epoch:9 Train Loss:0.2779 valid Losss:226.7203 Train Accuracy:0.8821 Train F1:0.8823 Valid Accuracy:0.9124 Valid F1:0.9118 best_acc 1.8507\n",
      "Epoch:10 Train Loss:0.2806 valid Losss:225.5505 Train Accuracy:0.8728 Train F1:0.8774 Valid Accuracy:0.9145 Valid F1:0.9145 best_acc 1.8507\n",
      "Epoch:11 Train Loss:0.2644 valid Losss:227.8142 Train Accuracy:0.8871 Train F1:0.8859 Valid Accuracy:0.9199 Valid F1:0.9191 best_acc 1.8507\n",
      "Epoch:12 Train Loss:0.2614 valid Losss:224.2378 Train Accuracy:0.8871 Train F1:0.8846 Valid Accuracy:0.9167 Valid F1:0.9167 best_acc 1.8507\n",
      "Epoch:13 Train Loss:0.2570 valid Losss:223.1585 Train Accuracy:0.8844 Train F1:0.8850 Valid Accuracy:0.9252 Valid F1:0.9239 best_acc 1.8507\n",
      "Epoch:14 Train Loss:0.2681 valid Losss:226.2376 Train Accuracy:0.8804 Train F1:0.8782 Valid Accuracy:0.9220 Valid F1:0.9224 best_acc 1.8507\n",
      "Epoch:15 Train Loss:0.2763 valid Losss:228.8537 Train Accuracy:0.8826 Train F1:0.8580 Valid Accuracy:0.9252 Valid F1:0.9229 best_acc 1.8507\n",
      "Epoch:16 Train Loss:0.2672 valid Losss:226.4321 Train Accuracy:0.8906 Train F1:0.8916 Valid Accuracy:0.9209 Valid F1:0.9201 best_acc 1.8507\n",
      "Epoch:17 Train Loss:0.2676 valid Losss:229.1378 Train Accuracy:0.8884 Train F1:0.8879 Valid Accuracy:0.9199 Valid F1:0.9182 best_acc 1.8507\n",
      "Epoch:18 Train Loss:0.2706 valid Losss:223.0913 Train Accuracy:0.8857 Train F1:0.8832 Valid Accuracy:0.9177 Valid F1:0.9187 best_acc 1.8507\n",
      "Epoch:19 Train Loss:0.2565 valid Losss:229.9007 Train Accuracy:0.8871 Train F1:0.8855 Valid Accuracy:0.9124 Valid F1:0.9116 best_acc 1.8507\n",
      "Epoch:20 Train Loss:0.2432 valid Losss:226.2330 Train Accuracy:0.8924 Train F1:0.8936 Valid Accuracy:0.9177 Valid F1:0.9176 best_acc 1.8507\n",
      "Epoch:21 Train Loss:0.2861 valid Losss:222.2578 Train Accuracy:0.8790 Train F1:0.8779 Valid Accuracy:0.9231 Valid F1:0.9205 best_acc 1.8507\n",
      "Epoch:22 Train Loss:0.2905 valid Losss:230.8264 Train Accuracy:0.8688 Train F1:0.8698 Valid Accuracy:0.9113 Valid F1:0.9116 best_acc 1.8507\n",
      "Epoch:23 Train Loss:0.2635 valid Losss:222.7202 Train Accuracy:0.8853 Train F1:0.8840 Valid Accuracy:0.9199 Valid F1:0.9187 best_acc 1.8507\n",
      "Epoch:24 Train Loss:0.2634 valid Losss:226.4252 Train Accuracy:0.8902 Train F1:0.8880 Valid Accuracy:0.9124 Valid F1:0.9131 best_acc 1.8507\n",
      "Epoch:25 Train Loss:0.2656 valid Losss:238.9465 Train Accuracy:0.8795 Train F1:0.8808 Valid Accuracy:0.9145 Valid F1:0.9156 best_acc 1.8507\n",
      "Epoch:26 Train Loss:0.2654 valid Losss:229.7192 Train Accuracy:0.8853 Train F1:0.8840 Valid Accuracy:0.9135 Valid F1:0.9119 best_acc 1.8507\n",
      "Epoch:27 Train Loss:0.2777 valid Losss:226.8081 Train Accuracy:0.8821 Train F1:0.8809 Valid Accuracy:0.9188 Valid F1:0.9179 best_acc 1.8507\n",
      "Epoch:28 Train Loss:0.2822 valid Losss:228.1281 Train Accuracy:0.8826 Train F1:0.8820 Valid Accuracy:0.9092 Valid F1:0.9089 best_acc 1.8507\n",
      "Epoch:29 Train Loss:0.2666 valid Losss:220.5221 Train Accuracy:0.8848 Train F1:0.8852 Valid Accuracy:0.9199 Valid F1:0.9177 best_acc 1.8507\n",
      "Epoch:30 Train Loss:0.2752 valid Losss:222.6170 Train Accuracy:0.8804 Train F1:0.8830 Valid Accuracy:0.9209 Valid F1:0.9206 best_acc 1.8507\n",
      "Epoch:31 Train Loss:0.2594 valid Losss:220.2401 Train Accuracy:0.8808 Train F1:0.8779 Valid Accuracy:0.9241 Valid F1:0.9217 best_acc 1.8507\n",
      "Epoch:32 Train Loss:0.2647 valid Losss:227.8569 Train Accuracy:0.8857 Train F1:0.8825 Valid Accuracy:0.9135 Valid F1:0.9137 best_acc 1.8507\n",
      "Epoch:33 Train Loss:0.2535 valid Losss:225.4408 Train Accuracy:0.8862 Train F1:0.8861 Valid Accuracy:0.9092 Valid F1:0.9095 best_acc 1.8507\n",
      "Epoch:34 Train Loss:0.2752 valid Losss:225.6869 Train Accuracy:0.8808 Train F1:0.8807 Valid Accuracy:0.9167 Valid F1:0.9165 best_acc 1.8507\n",
      "Epoch:35 Train Loss:0.2614 valid Losss:221.9623 Train Accuracy:0.8911 Train F1:0.8902 Valid Accuracy:0.9199 Valid F1:0.9182 best_acc 1.8507\n",
      "Epoch:36 Train Loss:0.2544 valid Losss:234.8683 Train Accuracy:0.8884 Train F1:0.8877 Valid Accuracy:0.9177 Valid F1:0.9180 best_acc 1.8507\n",
      "Epoch:37 Train Loss:0.2416 valid Losss:224.8123 Train Accuracy:0.8942 Train F1:0.8937 Valid Accuracy:0.9113 Valid F1:0.9105 best_acc 1.8507\n",
      "Epoch:38 Train Loss:0.2616 valid Losss:232.6235 Train Accuracy:0.8964 Train F1:0.8970 Valid Accuracy:0.9092 Valid F1:0.9108 best_acc 1.8507\n",
      "Epoch:39 Train Loss:0.2822 valid Losss:226.1279 Train Accuracy:0.8817 Train F1:0.8813 Valid Accuracy:0.9220 Valid F1:0.9206 best_acc 1.8507\n",
      "Epoch:40 Train Loss:0.2763 valid Losss:230.5665 Train Accuracy:0.8862 Train F1:0.8858 Valid Accuracy:0.9092 Valid F1:0.9079 best_acc 1.8507\n",
      "Epoch:41 Train Loss:0.2624 valid Losss:231.2041 Train Accuracy:0.8746 Train F1:0.8756 Valid Accuracy:0.9103 Valid F1:0.9091 best_acc 1.8507\n",
      "Epoch:42 Train Loss:0.2649 valid Losss:230.0250 Train Accuracy:0.8759 Train F1:0.8777 Valid Accuracy:0.9167 Valid F1:0.9165 best_acc 1.8507\n",
      "Epoch:43 Train Loss:0.2512 valid Losss:239.3199 Train Accuracy:0.9018 Train F1:0.9022 Valid Accuracy:0.9135 Valid F1:0.9143 best_acc 1.8507\n",
      "Epoch:44 Train Loss:0.3016 valid Losss:223.8945 Train Accuracy:0.8772 Train F1:0.8762 Valid Accuracy:0.9135 Valid F1:0.9137 best_acc 1.8507\n",
      "Epoch:45 Train Loss:0.2680 valid Losss:220.5835 Train Accuracy:0.8906 Train F1:0.8909 Valid Accuracy:0.9231 Valid F1:0.9216 best_acc 1.8507\n",
      "Epoch:46 Train Loss:0.2558 valid Losss:223.9928 Train Accuracy:0.8969 Train F1:0.8971 Valid Accuracy:0.9167 Valid F1:0.9167 best_acc 1.8507\n",
      "Epoch:47 Train Loss:0.2402 valid Losss:225.0461 Train Accuracy:0.8973 Train F1:0.8977 Valid Accuracy:0.9103 Valid F1:0.9106 best_acc 1.8507\n",
      "Epoch:48 Train Loss:0.2661 valid Losss:237.8668 Train Accuracy:0.8763 Train F1:0.8773 Valid Accuracy:0.9071 Valid F1:0.9028 best_acc 1.8507\n",
      "Epoch:49 Train Loss:0.2516 valid Losss:225.7156 Train Accuracy:0.8879 Train F1:0.8911 Valid Accuracy:0.9220 Valid F1:0.9200 best_acc 1.8507\n",
      "Epoch:50 Train Loss:0.2726 valid Losss:226.6274 Train Accuracy:0.8875 Train F1:0.8878 Valid Accuracy:0.9167 Valid F1:0.9161 best_acc 1.8507\n",
      "Epoch:51 Train Loss:0.2616 valid Losss:237.2139 Train Accuracy:0.8812 Train F1:0.8814 Valid Accuracy:0.9113 Valid F1:0.9095 best_acc 1.8507\n",
      "Epoch:52 Train Loss:0.2627 valid Losss:223.5771 Train Accuracy:0.8817 Train F1:0.8808 Valid Accuracy:0.9156 Valid F1:0.9157 best_acc 1.8507\n",
      "Epoch:53 Train Loss:0.2535 valid Losss:235.1690 Train Accuracy:0.8906 Train F1:0.8902 Valid Accuracy:0.9156 Valid F1:0.9166 best_acc 1.8507\n",
      "Epoch:54 Train Loss:0.2573 valid Losss:226.0604 Train Accuracy:0.8839 Train F1:0.8850 Valid Accuracy:0.9124 Valid F1:0.9114 best_acc 1.8507\n",
      "Epoch:55 Train Loss:0.2670 valid Losss:230.2859 Train Accuracy:0.8897 Train F1:0.8894 Valid Accuracy:0.9177 Valid F1:0.9171 best_acc 1.8507\n",
      "Epoch:56 Train Loss:0.2438 valid Losss:229.0809 Train Accuracy:0.8942 Train F1:0.8958 Valid Accuracy:0.9113 Valid F1:0.9116 best_acc 1.8507\n",
      "Epoch:57 Train Loss:0.2501 valid Losss:226.0912 Train Accuracy:0.8821 Train F1:0.8838 Valid Accuracy:0.9103 Valid F1:0.9106 best_acc 1.8507\n",
      "Epoch:58 Train Loss:0.2653 valid Losss:226.3733 Train Accuracy:0.8835 Train F1:0.8775 Valid Accuracy:0.9167 Valid F1:0.9182 best_acc 1.8507\n",
      "Epoch:59 Train Loss:0.2634 valid Losss:226.8642 Train Accuracy:0.8857 Train F1:0.8810 Valid Accuracy:0.9167 Valid F1:0.9175 best_acc 1.8507\n",
      "Epoch:60 Train Loss:0.2532 valid Losss:212.8983 Train Accuracy:0.8938 Train F1:0.8953 Valid Accuracy:0.9188 Valid F1:0.9181 best_acc 1.8507\n",
      "Epoch:61 Train Loss:0.2578 valid Losss:223.8589 Train Accuracy:0.8781 Train F1:0.8791 Valid Accuracy:0.9145 Valid F1:0.9156 best_acc 1.8507\n",
      "Epoch:62 Train Loss:0.2698 valid Losss:217.9399 Train Accuracy:0.8754 Train F1:0.8742 Valid Accuracy:0.9274 Valid F1:0.9248 best_acc 1.8521\n",
      "Epoch:63 Train Loss:0.2719 valid Losss:221.3884 Train Accuracy:0.8804 Train F1:0.8784 Valid Accuracy:0.9092 Valid F1:0.9102 best_acc 1.8521\n",
      "Epoch:64 Train Loss:0.2683 valid Losss:234.1762 Train Accuracy:0.8920 Train F1:0.8934 Valid Accuracy:0.9103 Valid F1:0.9106 best_acc 1.8521\n",
      "Epoch:65 Train Loss:0.2753 valid Losss:217.1183 Train Accuracy:0.8915 Train F1:0.8896 Valid Accuracy:0.9167 Valid F1:0.9165 best_acc 1.8521\n",
      "Epoch:66 Train Loss:0.2544 valid Losss:214.6663 Train Accuracy:0.8915 Train F1:0.8921 Valid Accuracy:0.9241 Valid F1:0.9217 best_acc 1.8521\n",
      "Epoch:67 Train Loss:0.2626 valid Losss:221.9668 Train Accuracy:0.8781 Train F1:0.8803 Valid Accuracy:0.9241 Valid F1:0.9207 best_acc 1.8521\n",
      "Epoch:68 Train Loss:0.2647 valid Losss:215.3240 Train Accuracy:0.8826 Train F1:0.8821 Valid Accuracy:0.9209 Valid F1:0.9201 best_acc 1.8521\n",
      "Epoch:69 Train Loss:0.2661 valid Losss:220.8527 Train Accuracy:0.8879 Train F1:0.8886 Valid Accuracy:0.9188 Valid F1:0.9165 best_acc 1.8521\n",
      "Epoch:70 Train Loss:0.2660 valid Losss:216.8398 Train Accuracy:0.8857 Train F1:0.8856 Valid Accuracy:0.9220 Valid F1:0.9214 best_acc 1.8521\n",
      "Epoch:71 Train Loss:0.2710 valid Losss:221.8845 Train Accuracy:0.8723 Train F1:0.8734 Valid Accuracy:0.9209 Valid F1:0.9181 best_acc 1.8521\n",
      "Epoch:72 Train Loss:0.2593 valid Losss:223.0923 Train Accuracy:0.8933 Train F1:0.8920 Valid Accuracy:0.9156 Valid F1:0.9160 best_acc 1.8521\n",
      "Epoch:73 Train Loss:0.2581 valid Losss:223.8348 Train Accuracy:0.8875 Train F1:0.8887 Valid Accuracy:0.9220 Valid F1:0.9181 best_acc 1.8521\n",
      "Epoch:74 Train Loss:0.2554 valid Losss:221.9799 Train Accuracy:0.8871 Train F1:0.8836 Valid Accuracy:0.9177 Valid F1:0.9169 best_acc 1.8521\n",
      "Epoch:75 Train Loss:0.2756 valid Losss:216.5902 Train Accuracy:0.8737 Train F1:0.8755 Valid Accuracy:0.9252 Valid F1:0.9234 best_acc 1.8521\n",
      "Epoch:76 Train Loss:0.2714 valid Losss:221.9339 Train Accuracy:0.8888 Train F1:0.8863 Valid Accuracy:0.9188 Valid F1:0.9176 best_acc 1.8521\n",
      "Epoch:77 Train Loss:0.2850 valid Losss:216.6044 Train Accuracy:0.8746 Train F1:0.8731 Valid Accuracy:0.9220 Valid F1:0.9213 best_acc 1.8521\n",
      "Epoch:78 Train Loss:0.2640 valid Losss:226.3762 Train Accuracy:0.8875 Train F1:0.8876 Valid Accuracy:0.9241 Valid F1:0.9205 best_acc 1.8521\n",
      "Epoch:79 Train Loss:0.2688 valid Losss:215.5932 Train Accuracy:0.8795 Train F1:0.8806 Valid Accuracy:0.9199 Valid F1:0.9193 best_acc 1.8521\n",
      "Epoch:80 Train Loss:0.2659 valid Losss:242.0954 Train Accuracy:0.8888 Train F1:0.8880 Valid Accuracy:0.9038 Valid F1:0.9082 best_acc 1.8521\n",
      "Epoch:81 Train Loss:0.2764 valid Losss:219.0168 Train Accuracy:0.8772 Train F1:0.8784 Valid Accuracy:0.9188 Valid F1:0.9167 best_acc 1.8521\n",
      "Epoch:82 Train Loss:0.2767 valid Losss:218.9685 Train Accuracy:0.8799 Train F1:0.8775 Valid Accuracy:0.9252 Valid F1:0.9215 best_acc 1.8521\n",
      "Epoch:83 Train Loss:0.2772 valid Losss:211.7852 Train Accuracy:0.8862 Train F1:0.8862 Valid Accuracy:0.9220 Valid F1:0.9204 best_acc 1.8521\n",
      "Epoch:84 Train Loss:0.2552 valid Losss:209.8111 Train Accuracy:0.8812 Train F1:0.8792 Valid Accuracy:0.9263 Valid F1:0.9252 best_acc 1.8521\n",
      "Epoch:85 Train Loss:0.2757 valid Losss:213.0886 Train Accuracy:0.8808 Train F1:0.8787 Valid Accuracy:0.9231 Valid F1:0.9214 best_acc 1.8521\n",
      "Epoch:86 Train Loss:0.2754 valid Losss:214.3996 Train Accuracy:0.8795 Train F1:0.8752 Valid Accuracy:0.9188 Valid F1:0.9188 best_acc 1.8521\n",
      "Epoch:87 Train Loss:0.2713 valid Losss:217.1274 Train Accuracy:0.8741 Train F1:0.8777 Valid Accuracy:0.9220 Valid F1:0.9197 best_acc 1.8521\n",
      "Epoch:88 Train Loss:0.2637 valid Losss:216.9971 Train Accuracy:0.8804 Train F1:0.8726 Valid Accuracy:0.9188 Valid F1:0.9191 best_acc 1.8521\n",
      "Epoch:89 Train Loss:0.2735 valid Losss:214.5905 Train Accuracy:0.8777 Train F1:0.8826 Valid Accuracy:0.9241 Valid F1:0.9219 best_acc 1.8521\n",
      "Epoch:90 Train Loss:0.2578 valid Losss:227.5428 Train Accuracy:0.8942 Train F1:0.8917 Valid Accuracy:0.9156 Valid F1:0.9176 best_acc 1.8521\n",
      "Epoch:91 Train Loss:0.2641 valid Losss:216.0973 Train Accuracy:0.8938 Train F1:0.8946 Valid Accuracy:0.9209 Valid F1:0.9190 best_acc 1.8521\n",
      "Epoch:92 Train Loss:0.2500 valid Losss:225.0631 Train Accuracy:0.9022 Train F1:0.9007 Valid Accuracy:0.9188 Valid F1:0.9197 best_acc 1.8521\n",
      "Epoch:93 Train Loss:0.2636 valid Losss:208.2546 Train Accuracy:0.8875 Train F1:0.8864 Valid Accuracy:0.9241 Valid F1:0.9232 best_acc 1.8521\n",
      "Epoch:94 Train Loss:0.2628 valid Losss:209.1255 Train Accuracy:0.8915 Train F1:0.8899 Valid Accuracy:0.9274 Valid F1:0.9251 best_acc 1.8525\n",
      "Epoch:95 Train Loss:0.2564 valid Losss:219.0432 Train Accuracy:0.8875 Train F1:0.8851 Valid Accuracy:0.9177 Valid F1:0.9175 best_acc 1.8525\n",
      "Epoch:96 Train Loss:0.2506 valid Losss:211.1291 Train Accuracy:0.8857 Train F1:0.8843 Valid Accuracy:0.9252 Valid F1:0.9226 best_acc 1.8525\n",
      "Epoch:97 Train Loss:0.2638 valid Losss:211.7131 Train Accuracy:0.8853 Train F1:0.8861 Valid Accuracy:0.9231 Valid F1:0.9214 best_acc 1.8525\n",
      "Epoch:98 Train Loss:0.2625 valid Losss:210.1713 Train Accuracy:0.8848 Train F1:0.8785 Valid Accuracy:0.9209 Valid F1:0.9187 best_acc 1.8525\n",
      "Epoch:99 Train Loss:0.2794 valid Losss:212.3712 Train Accuracy:0.8817 Train F1:0.8801 Valid Accuracy:0.9209 Valid F1:0.9208 best_acc 1.8525\n",
      "Epoch:100 Train Loss:0.2468 valid Losss:221.8753 Train Accuracy:0.8893 Train F1:0.8915 Valid Accuracy:0.9167 Valid F1:0.9170 best_acc 1.8525\n",
      "Epoch:101 Train Loss:0.2421 valid Losss:204.9843 Train Accuracy:0.9004 Train F1:0.8985 Valid Accuracy:0.9231 Valid F1:0.9231 best_acc 1.8525\n",
      "Epoch:102 Train Loss:0.2583 valid Losss:209.3516 Train Accuracy:0.8897 Train F1:0.8910 Valid Accuracy:0.9220 Valid F1:0.9209 best_acc 1.8525\n",
      "Epoch:103 Train Loss:0.2401 valid Losss:207.2224 Train Accuracy:0.8991 Train F1:0.8989 Valid Accuracy:0.9209 Valid F1:0.9201 best_acc 1.8525\n",
      "Epoch:104 Train Loss:0.2468 valid Losss:209.4203 Train Accuracy:0.8911 Train F1:0.8914 Valid Accuracy:0.9220 Valid F1:0.9221 best_acc 1.8525\n",
      "Epoch:105 Train Loss:0.2690 valid Losss:217.5300 Train Accuracy:0.8808 Train F1:0.8784 Valid Accuracy:0.9156 Valid F1:0.9157 best_acc 1.8525\n",
      "Epoch:106 Train Loss:0.2521 valid Losss:211.4416 Train Accuracy:0.8844 Train F1:0.8834 Valid Accuracy:0.9241 Valid F1:0.9226 best_acc 1.8525\n",
      "Epoch:107 Train Loss:0.2703 valid Losss:220.0132 Train Accuracy:0.8795 Train F1:0.8732 Valid Accuracy:0.9156 Valid F1:0.9155 best_acc 1.8525\n",
      "Epoch:108 Train Loss:0.2485 valid Losss:212.3173 Train Accuracy:0.8844 Train F1:0.8823 Valid Accuracy:0.9252 Valid F1:0.9246 best_acc 1.8525\n",
      "Epoch:109 Train Loss:0.2701 valid Losss:208.6881 Train Accuracy:0.8826 Train F1:0.8818 Valid Accuracy:0.9220 Valid F1:0.9219 best_acc 1.8525\n",
      "Epoch:110 Train Loss:0.2468 valid Losss:210.2851 Train Accuracy:0.8790 Train F1:0.8802 Valid Accuracy:0.9241 Valid F1:0.9241 best_acc 1.8525\n",
      "Epoch:111 Train Loss:0.2546 valid Losss:209.4697 Train Accuracy:0.8915 Train F1:0.8854 Valid Accuracy:0.9263 Valid F1:0.9239 best_acc 1.8525\n",
      "Epoch:112 Train Loss:0.2607 valid Losss:207.0295 Train Accuracy:0.8902 Train F1:0.8905 Valid Accuracy:0.9263 Valid F1:0.9244 best_acc 1.8525\n",
      "Epoch:113 Train Loss:0.2633 valid Losss:212.8937 Train Accuracy:0.8906 Train F1:0.8907 Valid Accuracy:0.9241 Valid F1:0.9232 best_acc 1.8525\n",
      "Epoch:114 Train Loss:0.2486 valid Losss:220.0761 Train Accuracy:0.8902 Train F1:0.8845 Valid Accuracy:0.9220 Valid F1:0.9214 best_acc 1.8525\n",
      "Epoch:115 Train Loss:0.2736 valid Losss:213.5032 Train Accuracy:0.8777 Train F1:0.8749 Valid Accuracy:0.9177 Valid F1:0.9164 best_acc 1.8525\n",
      "Epoch:116 Train Loss:0.2603 valid Losss:214.0944 Train Accuracy:0.8915 Train F1:0.8931 Valid Accuracy:0.9220 Valid F1:0.9213 best_acc 1.8525\n",
      "Epoch:117 Train Loss:0.2521 valid Losss:224.3674 Train Accuracy:0.8978 Train F1:0.8958 Valid Accuracy:0.9177 Valid F1:0.9185 best_acc 1.8525\n",
      "Epoch:118 Train Loss:0.2646 valid Losss:220.7611 Train Accuracy:0.8946 Train F1:0.8962 Valid Accuracy:0.9220 Valid F1:0.9188 best_acc 1.8525\n",
      "Epoch:119 Train Loss:0.2412 valid Losss:220.1553 Train Accuracy:0.8915 Train F1:0.8894 Valid Accuracy:0.9177 Valid F1:0.9178 best_acc 1.8525\n",
      "Epoch:120 Train Loss:0.2558 valid Losss:214.1599 Train Accuracy:0.8808 Train F1:0.8820 Valid Accuracy:0.9199 Valid F1:0.9191 best_acc 1.8525\n",
      "Epoch:121 Train Loss:0.2529 valid Losss:214.2573 Train Accuracy:0.8853 Train F1:0.8818 Valid Accuracy:0.9199 Valid F1:0.9186 best_acc 1.8525\n",
      "Epoch:122 Train Loss:0.2407 valid Losss:224.7027 Train Accuracy:0.8964 Train F1:0.8950 Valid Accuracy:0.9167 Valid F1:0.9158 best_acc 1.8525\n",
      "Epoch:123 Train Loss:0.2648 valid Losss:215.8039 Train Accuracy:0.8946 Train F1:0.8945 Valid Accuracy:0.9145 Valid F1:0.9132 best_acc 1.8525\n",
      "Epoch:124 Train Loss:0.2622 valid Losss:213.6407 Train Accuracy:0.8938 Train F1:0.8937 Valid Accuracy:0.9188 Valid F1:0.9186 best_acc 1.8525\n",
      "Epoch:125 Train Loss:0.2694 valid Losss:211.5734 Train Accuracy:0.8804 Train F1:0.8775 Valid Accuracy:0.9199 Valid F1:0.9189 best_acc 1.8525\n",
      "Epoch:126 Train Loss:0.2631 valid Losss:213.4670 Train Accuracy:0.8929 Train F1:0.8923 Valid Accuracy:0.9199 Valid F1:0.9182 best_acc 1.8525\n",
      "Epoch:127 Train Loss:0.2629 valid Losss:211.1054 Train Accuracy:0.8777 Train F1:0.8785 Valid Accuracy:0.9199 Valid F1:0.9184 best_acc 1.8525\n",
      "Epoch:128 Train Loss:0.2786 valid Losss:215.4639 Train Accuracy:0.8920 Train F1:0.8903 Valid Accuracy:0.9188 Valid F1:0.9176 best_acc 1.8525\n",
      "Epoch:129 Train Loss:0.2581 valid Losss:214.3123 Train Accuracy:0.8929 Train F1:0.8916 Valid Accuracy:0.9209 Valid F1:0.9201 best_acc 1.8525\n",
      "Epoch:130 Train Loss:0.2518 valid Losss:211.2021 Train Accuracy:0.8969 Train F1:0.8961 Valid Accuracy:0.9220 Valid F1:0.9204 best_acc 1.8525\n",
      "Epoch:131 Train Loss:0.2421 valid Losss:212.8618 Train Accuracy:0.8924 Train F1:0.8942 Valid Accuracy:0.9209 Valid F1:0.9201 best_acc 1.8525\n",
      "Epoch:132 Train Loss:0.2740 valid Losss:210.8308 Train Accuracy:0.8812 Train F1:0.8824 Valid Accuracy:0.9241 Valid F1:0.9234 best_acc 1.8525\n",
      "Epoch:133 Train Loss:0.2546 valid Losss:210.6442 Train Accuracy:0.8938 Train F1:0.8960 Valid Accuracy:0.9209 Valid F1:0.9194 best_acc 1.8525\n",
      "Epoch:134 Train Loss:0.2312 valid Losss:218.3206 Train Accuracy:0.9062 Train F1:0.9044 Valid Accuracy:0.9145 Valid F1:0.9153 best_acc 1.8525\n",
      "Epoch:135 Train Loss:0.2449 valid Losss:207.7846 Train Accuracy:0.8987 Train F1:0.8993 Valid Accuracy:0.9220 Valid F1:0.9204 best_acc 1.8525\n",
      "Epoch:136 Train Loss:0.2452 valid Losss:217.6125 Train Accuracy:0.8911 Train F1:0.8898 Valid Accuracy:0.9231 Valid F1:0.9219 best_acc 1.8525\n",
      "Epoch:137 Train Loss:0.2488 valid Losss:216.1878 Train Accuracy:0.8996 Train F1:0.8996 Valid Accuracy:0.9199 Valid F1:0.9186 best_acc 1.8525\n",
      "Epoch:138 Train Loss:0.2619 valid Losss:216.3536 Train Accuracy:0.8799 Train F1:0.8785 Valid Accuracy:0.9241 Valid F1:0.9215 best_acc 1.8525\n",
      "Epoch:139 Train Loss:0.2582 valid Losss:218.0445 Train Accuracy:0.8812 Train F1:0.8796 Valid Accuracy:0.9199 Valid F1:0.9182 best_acc 1.8525\n",
      "Epoch:140 Train Loss:0.2597 valid Losss:213.4332 Train Accuracy:0.8884 Train F1:0.8887 Valid Accuracy:0.9188 Valid F1:0.9176 best_acc 1.8525\n",
      "Epoch:141 Train Loss:0.2531 valid Losss:210.9197 Train Accuracy:0.8871 Train F1:0.8839 Valid Accuracy:0.9263 Valid F1:0.9248 best_acc 1.8525\n",
      "Epoch:142 Train Loss:0.2398 valid Losss:225.5800 Train Accuracy:0.8991 Train F1:0.8973 Valid Accuracy:0.9113 Valid F1:0.9116 best_acc 1.8525\n",
      "Epoch:143 Train Loss:0.2563 valid Losss:209.4430 Train Accuracy:0.8857 Train F1:0.8787 Valid Accuracy:0.9199 Valid F1:0.9189 best_acc 1.8525\n",
      "Epoch:144 Train Loss:0.2725 valid Losss:213.8738 Train Accuracy:0.8768 Train F1:0.8710 Valid Accuracy:0.9199 Valid F1:0.9166 best_acc 1.8525\n",
      "Epoch:145 Train Loss:0.2632 valid Losss:212.7900 Train Accuracy:0.8911 Train F1:0.8915 Valid Accuracy:0.9209 Valid F1:0.9189 best_acc 1.8525\n",
      "Epoch:146 Train Loss:0.2335 valid Losss:220.7254 Train Accuracy:0.8978 Train F1:0.8964 Valid Accuracy:0.9145 Valid F1:0.9143 best_acc 1.8525\n",
      "Epoch:147 Train Loss:0.2524 valid Losss:221.9087 Train Accuracy:0.8866 Train F1:0.8878 Valid Accuracy:0.9145 Valid F1:0.9119 best_acc 1.8525\n",
      "Epoch:148 Train Loss:0.2679 valid Losss:213.7905 Train Accuracy:0.8853 Train F1:0.8831 Valid Accuracy:0.9199 Valid F1:0.9198 best_acc 1.8525\n",
      "Epoch:149 Train Loss:0.2586 valid Losss:218.5432 Train Accuracy:0.8853 Train F1:0.8840 Valid Accuracy:0.9167 Valid F1:0.9163 best_acc 1.8525\n",
      "Epoch:150 Train Loss:0.2699 valid Losss:212.2618 Train Accuracy:0.8786 Train F1:0.8794 Valid Accuracy:0.9263 Valid F1:0.9239 best_acc 1.8525\n",
      "Epoch:151 Train Loss:0.2696 valid Losss:212.7806 Train Accuracy:0.8772 Train F1:0.8755 Valid Accuracy:0.9209 Valid F1:0.9203 best_acc 1.8525\n",
      "Epoch:152 Train Loss:0.2634 valid Losss:207.3905 Train Accuracy:0.8911 Train F1:0.8933 Valid Accuracy:0.9231 Valid F1:0.9212 best_acc 1.8525\n",
      "Epoch:153 Train Loss:0.2598 valid Losss:211.9743 Train Accuracy:0.8866 Train F1:0.8875 Valid Accuracy:0.9167 Valid F1:0.9167 best_acc 1.8525\n",
      "Epoch:154 Train Loss:0.2668 valid Losss:216.3648 Train Accuracy:0.8879 Train F1:0.8879 Valid Accuracy:0.9209 Valid F1:0.9196 best_acc 1.8525\n",
      "Epoch:155 Train Loss:0.2899 valid Losss:219.7071 Train Accuracy:0.8750 Train F1:0.8747 Valid Accuracy:0.9167 Valid F1:0.9141 best_acc 1.8525\n",
      "Epoch:156 Train Loss:0.2473 valid Losss:211.8653 Train Accuracy:0.8929 Train F1:0.8923 Valid Accuracy:0.9231 Valid F1:0.9214 best_acc 1.8525\n",
      "Epoch:157 Train Loss:0.2518 valid Losss:213.8255 Train Accuracy:0.8902 Train F1:0.8913 Valid Accuracy:0.9263 Valid F1:0.9248 best_acc 1.8525\n",
      "Epoch:158 Train Loss:0.2436 valid Losss:215.6472 Train Accuracy:0.8982 Train F1:0.8999 Valid Accuracy:0.9188 Valid F1:0.9183 best_acc 1.8525\n",
      "Epoch:159 Train Loss:0.2617 valid Losss:216.3235 Train Accuracy:0.8866 Train F1:0.8883 Valid Accuracy:0.9177 Valid F1:0.9160 best_acc 1.8525\n",
      "Epoch:160 Train Loss:0.2362 valid Losss:234.4357 Train Accuracy:0.9049 Train F1:0.9039 Valid Accuracy:0.9081 Valid F1:0.9102 best_acc 1.8525\n",
      "Epoch:161 Train Loss:0.2564 valid Losss:212.8779 Train Accuracy:0.8830 Train F1:0.8836 Valid Accuracy:0.9199 Valid F1:0.9173 best_acc 1.8525\n",
      "Epoch:162 Train Loss:0.2545 valid Losss:211.6031 Train Accuracy:0.8821 Train F1:0.8797 Valid Accuracy:0.9220 Valid F1:0.9206 best_acc 1.8525\n",
      "Epoch:163 Train Loss:0.2742 valid Losss:226.1840 Train Accuracy:0.8830 Train F1:0.8798 Valid Accuracy:0.9145 Valid F1:0.9153 best_acc 1.8525\n",
      "Epoch:164 Train Loss:0.2580 valid Losss:217.1035 Train Accuracy:0.8964 Train F1:0.8966 Valid Accuracy:0.9177 Valid F1:0.9176 best_acc 1.8525\n",
      "Epoch:165 Train Loss:0.2555 valid Losss:209.2949 Train Accuracy:0.8879 Train F1:0.8884 Valid Accuracy:0.9263 Valid F1:0.9246 best_acc 1.8525\n",
      "Epoch:166 Train Loss:0.2545 valid Losss:222.6354 Train Accuracy:0.8924 Train F1:0.8936 Valid Accuracy:0.9113 Valid F1:0.9131 best_acc 1.8525\n",
      "Epoch:167 Train Loss:0.2692 valid Losss:209.1423 Train Accuracy:0.8808 Train F1:0.8821 Valid Accuracy:0.9241 Valid F1:0.9239 best_acc 1.8525\n",
      "Epoch:168 Train Loss:0.2637 valid Losss:217.8111 Train Accuracy:0.8915 Train F1:0.8918 Valid Accuracy:0.9167 Valid F1:0.9168 best_acc 1.8525\n",
      "Epoch:169 Train Loss:0.2516 valid Losss:212.7594 Train Accuracy:0.8911 Train F1:0.8836 Valid Accuracy:0.9231 Valid F1:0.9207 best_acc 1.8525\n",
      "Epoch:170 Train Loss:0.2547 valid Losss:233.8939 Train Accuracy:0.8933 Train F1:0.8925 Valid Accuracy:0.9071 Valid F1:0.9093 best_acc 1.8525\n",
      "Epoch:171 Train Loss:0.2641 valid Losss:219.3998 Train Accuracy:0.8875 Train F1:0.8880 Valid Accuracy:0.9177 Valid F1:0.9183 best_acc 1.8525\n",
      "Epoch:172 Train Loss:0.2503 valid Losss:212.4015 Train Accuracy:0.8946 Train F1:0.8944 Valid Accuracy:0.9188 Valid F1:0.9181 best_acc 1.8525\n",
      "Epoch:173 Train Loss:0.2369 valid Losss:213.4286 Train Accuracy:0.8991 Train F1:0.8980 Valid Accuracy:0.9188 Valid F1:0.9188 best_acc 1.8525\n",
      "Epoch:174 Train Loss:0.2712 valid Losss:211.7781 Train Accuracy:0.8808 Train F1:0.8794 Valid Accuracy:0.9177 Valid F1:0.9169 best_acc 1.8525\n",
      "Epoch:175 Train Loss:0.2487 valid Losss:217.1459 Train Accuracy:0.8951 Train F1:0.8954 Valid Accuracy:0.9231 Valid F1:0.9216 best_acc 1.8525\n",
      "Epoch:176 Train Loss:0.2789 valid Losss:233.7063 Train Accuracy:0.8741 Train F1:0.8657 Valid Accuracy:0.9060 Valid F1:0.9054 best_acc 1.8525\n",
      "Epoch:177 Train Loss:0.2573 valid Losss:220.4865 Train Accuracy:0.8875 Train F1:0.8869 Valid Accuracy:0.9167 Valid F1:0.9165 best_acc 1.8525\n",
      "Epoch:178 Train Loss:0.2480 valid Losss:217.9314 Train Accuracy:0.8911 Train F1:0.8909 Valid Accuracy:0.9199 Valid F1:0.9198 best_acc 1.8525\n",
      "Epoch:179 Train Loss:0.2527 valid Losss:215.9666 Train Accuracy:0.8973 Train F1:0.8966 Valid Accuracy:0.9167 Valid F1:0.9172 best_acc 1.8525\n",
      "Epoch:180 Train Loss:0.2544 valid Losss:211.0507 Train Accuracy:0.8884 Train F1:0.8889 Valid Accuracy:0.9188 Valid F1:0.9185 best_acc 1.8525\n",
      "Epoch:181 Train Loss:0.2549 valid Losss:224.7175 Train Accuracy:0.8902 Train F1:0.8903 Valid Accuracy:0.9156 Valid F1:0.9131 best_acc 1.8525\n",
      "Epoch:182 Train Loss:0.2427 valid Losss:213.8587 Train Accuracy:0.9022 Train F1:0.9006 Valid Accuracy:0.9177 Valid F1:0.9171 best_acc 1.8525\n",
      "Epoch:183 Train Loss:0.2512 valid Losss:212.5258 Train Accuracy:0.8929 Train F1:0.8917 Valid Accuracy:0.9188 Valid F1:0.9179 best_acc 1.8525\n",
      "Epoch:184 Train Loss:0.2462 valid Losss:215.2208 Train Accuracy:0.8982 Train F1:0.8980 Valid Accuracy:0.9188 Valid F1:0.9179 best_acc 1.8525\n",
      "Epoch:185 Train Loss:0.2566 valid Losss:208.4094 Train Accuracy:0.8938 Train F1:0.8929 Valid Accuracy:0.9241 Valid F1:0.9221 best_acc 1.8525\n",
      "Epoch:186 Train Loss:0.2623 valid Losss:217.0987 Train Accuracy:0.8871 Train F1:0.8892 Valid Accuracy:0.9241 Valid F1:0.9215 best_acc 1.8525\n",
      "Epoch:187 Train Loss:0.2718 valid Losss:218.5162 Train Accuracy:0.8812 Train F1:0.8804 Valid Accuracy:0.9167 Valid F1:0.9170 best_acc 1.8525\n",
      "Epoch:188 Train Loss:0.2475 valid Losss:210.9872 Train Accuracy:0.8929 Train F1:0.8944 Valid Accuracy:0.9231 Valid F1:0.9216 best_acc 1.8525\n",
      "Epoch:189 Train Loss:0.2752 valid Losss:208.8495 Train Accuracy:0.8768 Train F1:0.8751 Valid Accuracy:0.9241 Valid F1:0.9241 best_acc 1.8525\n",
      "Epoch:190 Train Loss:0.2503 valid Losss:212.7135 Train Accuracy:0.8938 Train F1:0.8940 Valid Accuracy:0.9220 Valid F1:0.9221 best_acc 1.8525\n",
      "Epoch:191 Train Loss:0.2543 valid Losss:223.1085 Train Accuracy:0.8960 Train F1:0.8943 Valid Accuracy:0.9167 Valid F1:0.9172 best_acc 1.8525\n",
      "Epoch:192 Train Loss:0.2551 valid Losss:210.6320 Train Accuracy:0.8871 Train F1:0.8883 Valid Accuracy:0.9209 Valid F1:0.9206 best_acc 1.8525\n",
      "Epoch:193 Train Loss:0.2396 valid Losss:217.2462 Train Accuracy:0.8884 Train F1:0.8879 Valid Accuracy:0.9274 Valid F1:0.9259 best_acc 1.8533\n",
      "Epoch:194 Train Loss:0.2656 valid Losss:210.2717 Train Accuracy:0.8826 Train F1:0.8827 Valid Accuracy:0.9231 Valid F1:0.9219 best_acc 1.8533\n",
      "Epoch:195 Train Loss:0.2628 valid Losss:212.9211 Train Accuracy:0.8821 Train F1:0.8810 Valid Accuracy:0.9167 Valid F1:0.9174 best_acc 1.8533\n",
      "Epoch:196 Train Loss:0.2643 valid Losss:213.8606 Train Accuracy:0.8821 Train F1:0.8813 Valid Accuracy:0.9188 Valid F1:0.9183 best_acc 1.8533\n",
      "Epoch:197 Train Loss:0.2615 valid Losss:215.5542 Train Accuracy:0.8893 Train F1:0.8884 Valid Accuracy:0.9124 Valid F1:0.9131 best_acc 1.8533\n",
      "Epoch:198 Train Loss:0.2538 valid Losss:207.3714 Train Accuracy:0.8835 Train F1:0.8818 Valid Accuracy:0.9274 Valid F1:0.9253 best_acc 1.8533\n",
      "Epoch:199 Train Loss:0.2426 valid Losss:212.4433 Train Accuracy:0.8942 Train F1:0.8894 Valid Accuracy:0.9241 Valid F1:0.9212 best_acc 1.8533\n",
      "Epoch:200 Train Loss:0.2682 valid Losss:218.9189 Train Accuracy:0.8812 Train F1:0.8822 Valid Accuracy:0.9241 Valid F1:0.9214 best_acc 1.8533\n",
      "Epoch:201 Train Loss:0.2415 valid Losss:210.4546 Train Accuracy:0.8996 Train F1:0.8978 Valid Accuracy:0.9220 Valid F1:0.9204 best_acc 1.8533\n",
      "Epoch:202 Train Loss:0.2655 valid Losss:217.3711 Train Accuracy:0.8844 Train F1:0.8834 Valid Accuracy:0.9220 Valid F1:0.9207 best_acc 1.8533\n",
      "Epoch:203 Train Loss:0.2483 valid Losss:213.7647 Train Accuracy:0.8920 Train F1:0.8897 Valid Accuracy:0.9199 Valid F1:0.9194 best_acc 1.8533\n",
      "Epoch:204 Train Loss:0.2500 valid Losss:214.7275 Train Accuracy:0.8951 Train F1:0.8959 Valid Accuracy:0.9231 Valid F1:0.9227 best_acc 1.8533\n",
      "Epoch:205 Train Loss:0.2474 valid Losss:212.4700 Train Accuracy:0.8951 Train F1:0.8957 Valid Accuracy:0.9241 Valid F1:0.9227 best_acc 1.8533\n",
      "Epoch:206 Train Loss:0.2684 valid Losss:218.5714 Train Accuracy:0.8826 Train F1:0.8828 Valid Accuracy:0.9220 Valid F1:0.9204 best_acc 1.8533\n",
      "Epoch:207 Train Loss:0.2541 valid Losss:222.7481 Train Accuracy:0.8862 Train F1:0.8878 Valid Accuracy:0.9156 Valid F1:0.9151 best_acc 1.8533\n",
      "Epoch:208 Train Loss:0.2590 valid Losss:220.3483 Train Accuracy:0.8871 Train F1:0.8859 Valid Accuracy:0.9124 Valid F1:0.9122 best_acc 1.8533\n",
      "Epoch:209 Train Loss:0.2335 valid Losss:221.0981 Train Accuracy:0.8946 Train F1:0.8959 Valid Accuracy:0.9199 Valid F1:0.9201 best_acc 1.8533\n",
      "Epoch:210 Train Loss:0.2820 valid Losss:221.2731 Train Accuracy:0.8728 Train F1:0.8727 Valid Accuracy:0.9199 Valid F1:0.9175 best_acc 1.8533\n",
      "Epoch:211 Train Loss:0.2627 valid Losss:217.7006 Train Accuracy:0.8906 Train F1:0.8918 Valid Accuracy:0.9177 Valid F1:0.9160 best_acc 1.8533\n",
      "Epoch:212 Train Loss:0.2474 valid Losss:217.8493 Train Accuracy:0.8906 Train F1:0.8904 Valid Accuracy:0.9177 Valid F1:0.9168 best_acc 1.8533\n",
      "Epoch:213 Train Loss:0.2724 valid Losss:217.6256 Train Accuracy:0.8924 Train F1:0.8919 Valid Accuracy:0.9199 Valid F1:0.9180 best_acc 1.8533\n",
      "Epoch:214 Train Loss:0.2536 valid Losss:218.6001 Train Accuracy:0.8942 Train F1:0.8933 Valid Accuracy:0.9209 Valid F1:0.9192 best_acc 1.8533\n",
      "Epoch:215 Train Loss:0.2456 valid Losss:212.5270 Train Accuracy:0.8946 Train F1:0.8944 Valid Accuracy:0.9241 Valid F1:0.9231 best_acc 1.8533\n",
      "Epoch:216 Train Loss:0.2434 valid Losss:217.9382 Train Accuracy:0.8991 Train F1:0.8994 Valid Accuracy:0.9199 Valid F1:0.9179 best_acc 1.8533\n",
      "Epoch:217 Train Loss:0.2443 valid Losss:215.1319 Train Accuracy:0.9018 Train F1:0.9010 Valid Accuracy:0.9177 Valid F1:0.9182 best_acc 1.8533\n",
      "Epoch:218 Train Loss:0.2532 valid Losss:217.7626 Train Accuracy:0.8946 Train F1:0.8947 Valid Accuracy:0.9188 Valid F1:0.9161 best_acc 1.8533\n",
      "Epoch:219 Train Loss:0.2541 valid Losss:218.4363 Train Accuracy:0.8938 Train F1:0.8928 Valid Accuracy:0.9167 Valid F1:0.9163 best_acc 1.8533\n",
      "Epoch:220 Train Loss:0.2601 valid Losss:217.8444 Train Accuracy:0.8938 Train F1:0.8938 Valid Accuracy:0.9231 Valid F1:0.9198 best_acc 1.8533\n",
      "Epoch:221 Train Loss:0.2492 valid Losss:224.7716 Train Accuracy:0.8987 Train F1:0.8993 Valid Accuracy:0.9220 Valid F1:0.9219 best_acc 1.8533\n",
      "Epoch:222 Train Loss:0.2482 valid Losss:218.1070 Train Accuracy:0.8969 Train F1:0.8968 Valid Accuracy:0.9209 Valid F1:0.9203 best_acc 1.8533\n",
      "Epoch:223 Train Loss:0.2507 valid Losss:212.7545 Train Accuracy:0.8942 Train F1:0.8920 Valid Accuracy:0.9209 Valid F1:0.9197 best_acc 1.8533\n",
      "Epoch:224 Train Loss:0.2572 valid Losss:215.1834 Train Accuracy:0.8871 Train F1:0.8863 Valid Accuracy:0.9241 Valid F1:0.9234 best_acc 1.8533\n",
      "Epoch:225 Train Loss:0.2520 valid Losss:228.3290 Train Accuracy:0.8942 Train F1:0.8948 Valid Accuracy:0.9188 Valid F1:0.9195 best_acc 1.8533\n",
      "Epoch:226 Train Loss:0.2573 valid Losss:228.9370 Train Accuracy:0.8946 Train F1:0.8943 Valid Accuracy:0.9135 Valid F1:0.9150 best_acc 1.8533\n",
      "Epoch:227 Train Loss:0.2460 valid Losss:217.2841 Train Accuracy:0.8866 Train F1:0.8847 Valid Accuracy:0.9252 Valid F1:0.9244 best_acc 1.8533\n",
      "Epoch:228 Train Loss:0.2612 valid Losss:218.6399 Train Accuracy:0.8862 Train F1:0.8874 Valid Accuracy:0.9241 Valid F1:0.9222 best_acc 1.8533\n",
      "Epoch:229 Train Loss:0.2690 valid Losss:229.9234 Train Accuracy:0.8853 Train F1:0.8832 Valid Accuracy:0.9092 Valid F1:0.9110 best_acc 1.8533\n",
      "Epoch:230 Train Loss:0.2624 valid Losss:227.1698 Train Accuracy:0.8804 Train F1:0.8782 Valid Accuracy:0.9049 Valid F1:0.9054 best_acc 1.8533\n",
      "Epoch:231 Train Loss:0.2455 valid Losss:228.0529 Train Accuracy:0.8933 Train F1:0.8927 Valid Accuracy:0.9092 Valid F1:0.9065 best_acc 1.8533\n",
      "Epoch:232 Train Loss:0.2564 valid Losss:219.2803 Train Accuracy:0.8857 Train F1:0.8859 Valid Accuracy:0.9145 Valid F1:0.9140 best_acc 1.8533\n",
      "Epoch:233 Train Loss:0.2517 valid Losss:220.6336 Train Accuracy:0.8911 Train F1:0.8906 Valid Accuracy:0.9167 Valid F1:0.9170 best_acc 1.8533\n",
      "Epoch:234 Train Loss:0.2722 valid Losss:208.4772 Train Accuracy:0.8893 Train F1:0.8891 Valid Accuracy:0.9209 Valid F1:0.9203 best_acc 1.8533\n",
      "Epoch:235 Train Loss:0.2412 valid Losss:217.2028 Train Accuracy:0.9031 Train F1:0.9004 Valid Accuracy:0.9177 Valid F1:0.9166 best_acc 1.8533\n",
      "Epoch:236 Train Loss:0.2498 valid Losss:210.6478 Train Accuracy:0.8906 Train F1:0.8908 Valid Accuracy:0.9231 Valid F1:0.9216 best_acc 1.8533\n",
      "Epoch:237 Train Loss:0.2476 valid Losss:215.9904 Train Accuracy:0.8951 Train F1:0.8939 Valid Accuracy:0.9220 Valid F1:0.9207 best_acc 1.8533\n",
      "Epoch:238 Train Loss:0.2484 valid Losss:214.4786 Train Accuracy:0.8960 Train F1:0.8972 Valid Accuracy:0.9199 Valid F1:0.9179 best_acc 1.8533\n",
      "Epoch:239 Train Loss:0.2508 valid Losss:216.5325 Train Accuracy:0.8951 Train F1:0.8904 Valid Accuracy:0.9188 Valid F1:0.9177 best_acc 1.8533\n",
      "Epoch:240 Train Loss:0.2451 valid Losss:235.3371 Train Accuracy:0.8946 Train F1:0.8941 Valid Accuracy:0.9113 Valid F1:0.9129 best_acc 1.8533\n",
      "Epoch:241 Train Loss:0.2525 valid Losss:214.8704 Train Accuracy:0.8933 Train F1:0.8934 Valid Accuracy:0.9220 Valid F1:0.9209 best_acc 1.8533\n",
      "Epoch:242 Train Loss:0.2413 valid Losss:213.4063 Train Accuracy:0.8938 Train F1:0.8936 Valid Accuracy:0.9209 Valid F1:0.9199 best_acc 1.8533\n",
      "Epoch:243 Train Loss:0.2410 valid Losss:212.5708 Train Accuracy:0.8879 Train F1:0.8897 Valid Accuracy:0.9209 Valid F1:0.9214 best_acc 1.8533\n",
      "Epoch:244 Train Loss:0.2522 valid Losss:215.2569 Train Accuracy:0.8893 Train F1:0.8883 Valid Accuracy:0.9231 Valid F1:0.9224 best_acc 1.8533\n",
      "Epoch:245 Train Loss:0.2623 valid Losss:207.0387 Train Accuracy:0.8969 Train F1:0.8965 Valid Accuracy:0.9231 Valid F1:0.9222 best_acc 1.8533\n",
      "Epoch:246 Train Loss:0.2453 valid Losss:213.1642 Train Accuracy:0.8915 Train F1:0.8820 Valid Accuracy:0.9199 Valid F1:0.9196 best_acc 1.8533\n",
      "Epoch:247 Train Loss:0.2562 valid Losss:214.2745 Train Accuracy:0.8862 Train F1:0.8843 Valid Accuracy:0.9209 Valid F1:0.9214 best_acc 1.8533\n",
      "Epoch:248 Train Loss:0.2495 valid Losss:209.9634 Train Accuracy:0.8920 Train F1:0.8943 Valid Accuracy:0.9209 Valid F1:0.9197 best_acc 1.8533\n",
      "Epoch:249 Train Loss:0.2499 valid Losss:211.3562 Train Accuracy:0.8969 Train F1:0.8967 Valid Accuracy:0.9252 Valid F1:0.9229 best_acc 1.8533\n",
      "Epoch:250 Train Loss:0.2430 valid Losss:213.1298 Train Accuracy:0.9000 Train F1:0.9003 Valid Accuracy:0.9199 Valid F1:0.9194 best_acc 1.8533\n",
      "Epoch:251 Train Loss:0.2594 valid Losss:203.9199 Train Accuracy:0.8906 Train F1:0.8914 Valid Accuracy:0.9241 Valid F1:0.9226 best_acc 1.8533\n",
      "Epoch:252 Train Loss:0.2514 valid Losss:209.8567 Train Accuracy:0.8893 Train F1:0.8898 Valid Accuracy:0.9241 Valid F1:0.9227 best_acc 1.8533\n",
      "Epoch:253 Train Loss:0.2622 valid Losss:209.4619 Train Accuracy:0.8866 Train F1:0.8864 Valid Accuracy:0.9220 Valid F1:0.9216 best_acc 1.8533\n",
      "Epoch:254 Train Loss:0.2560 valid Losss:214.3323 Train Accuracy:0.8893 Train F1:0.8856 Valid Accuracy:0.9188 Valid F1:0.9183 best_acc 1.8533\n",
      "Epoch:255 Train Loss:0.2716 valid Losss:212.0180 Train Accuracy:0.8821 Train F1:0.8829 Valid Accuracy:0.9188 Valid F1:0.9188 best_acc 1.8533\n",
      "Epoch:256 Train Loss:0.2434 valid Losss:220.7119 Train Accuracy:0.8978 Train F1:0.8986 Valid Accuracy:0.9199 Valid F1:0.9177 best_acc 1.8533\n",
      "Epoch:257 Train Loss:0.2560 valid Losss:210.9283 Train Accuracy:0.8942 Train F1:0.8908 Valid Accuracy:0.9274 Valid F1:0.9251 best_acc 1.8533\n",
      "Epoch:258 Train Loss:0.2643 valid Losss:210.7119 Train Accuracy:0.8938 Train F1:0.8935 Valid Accuracy:0.9177 Valid F1:0.9164 best_acc 1.8533\n",
      "Epoch:259 Train Loss:0.2601 valid Losss:226.9870 Train Accuracy:0.8897 Train F1:0.8899 Valid Accuracy:0.9081 Valid F1:0.9095 best_acc 1.8533\n",
      "Epoch:260 Train Loss:0.2590 valid Losss:225.3986 Train Accuracy:0.8879 Train F1:0.8877 Valid Accuracy:0.9081 Valid F1:0.9073 best_acc 1.8533\n",
      "Epoch:261 Train Loss:0.2627 valid Losss:213.4091 Train Accuracy:0.8964 Train F1:0.8952 Valid Accuracy:0.9177 Valid F1:0.9173 best_acc 1.8533\n",
      "Epoch:262 Train Loss:0.2691 valid Losss:210.2335 Train Accuracy:0.8812 Train F1:0.8795 Valid Accuracy:0.9231 Valid F1:0.9219 best_acc 1.8533\n",
      "Epoch:263 Train Loss:0.2559 valid Losss:212.9894 Train Accuracy:0.8839 Train F1:0.8842 Valid Accuracy:0.9252 Valid F1:0.9251 best_acc 1.8533\n",
      "Epoch:264 Train Loss:0.2558 valid Losss:206.3059 Train Accuracy:0.8951 Train F1:0.8940 Valid Accuracy:0.9252 Valid F1:0.9249 best_acc 1.8533\n",
      "Epoch:265 Train Loss:0.2628 valid Losss:212.1791 Train Accuracy:0.8879 Train F1:0.8846 Valid Accuracy:0.9209 Valid F1:0.9187 best_acc 1.8533\n",
      "Epoch:266 Train Loss:0.2518 valid Losss:209.0711 Train Accuracy:0.8888 Train F1:0.8897 Valid Accuracy:0.9231 Valid F1:0.9214 best_acc 1.8533\n",
      "Epoch:267 Train Loss:0.2404 valid Losss:211.5603 Train Accuracy:0.8946 Train F1:0.8951 Valid Accuracy:0.9263 Valid F1:0.9236 best_acc 1.8533\n",
      "Epoch:268 Train Loss:0.2492 valid Losss:201.8963 Train Accuracy:0.8951 Train F1:0.8923 Valid Accuracy:0.9274 Valid F1:0.9251 best_acc 1.8533\n",
      "Epoch:269 Train Loss:0.2474 valid Losss:206.7282 Train Accuracy:0.8964 Train F1:0.8966 Valid Accuracy:0.9231 Valid F1:0.9229 best_acc 1.8533\n",
      "Epoch:270 Train Loss:0.2639 valid Losss:216.0731 Train Accuracy:0.8942 Train F1:0.8912 Valid Accuracy:0.9188 Valid F1:0.9195 best_acc 1.8533\n",
      "Epoch:271 Train Loss:0.2533 valid Losss:211.1222 Train Accuracy:0.8902 Train F1:0.8895 Valid Accuracy:0.9209 Valid F1:0.9189 best_acc 1.8533\n",
      "Epoch:272 Train Loss:0.2381 valid Losss:211.5348 Train Accuracy:0.8973 Train F1:0.8951 Valid Accuracy:0.9177 Valid F1:0.9187 best_acc 1.8533\n",
      "Epoch:273 Train Loss:0.2587 valid Losss:215.6422 Train Accuracy:0.8853 Train F1:0.8865 Valid Accuracy:0.9188 Valid F1:0.9168 best_acc 1.8533\n",
      "Epoch:274 Train Loss:0.2401 valid Losss:218.9735 Train Accuracy:0.8955 Train F1:0.8957 Valid Accuracy:0.9231 Valid F1:0.9216 best_acc 1.8533\n",
      "Epoch:275 Train Loss:0.2523 valid Losss:210.0767 Train Accuracy:0.8862 Train F1:0.8796 Valid Accuracy:0.9209 Valid F1:0.9194 best_acc 1.8533\n",
      "Epoch:276 Train Loss:0.2462 valid Losss:214.2023 Train Accuracy:0.8848 Train F1:0.8841 Valid Accuracy:0.9209 Valid F1:0.9209 best_acc 1.8533\n",
      "Epoch:277 Train Loss:0.2496 valid Losss:218.8573 Train Accuracy:0.8946 Train F1:0.8946 Valid Accuracy:0.9188 Valid F1:0.9195 best_acc 1.8533\n",
      "Epoch:278 Train Loss:0.2583 valid Losss:219.3777 Train Accuracy:0.8821 Train F1:0.8837 Valid Accuracy:0.9199 Valid F1:0.9171 best_acc 1.8533\n",
      "Epoch:279 Train Loss:0.2577 valid Losss:215.8771 Train Accuracy:0.8982 Train F1:0.8940 Valid Accuracy:0.9231 Valid F1:0.9221 best_acc 1.8533\n",
      "Epoch:280 Train Loss:0.2486 valid Losss:212.8069 Train Accuracy:0.9000 Train F1:0.9000 Valid Accuracy:0.9252 Valid F1:0.9234 best_acc 1.8533\n",
      "Epoch:281 Train Loss:0.2623 valid Losss:220.5633 Train Accuracy:0.8862 Train F1:0.8841 Valid Accuracy:0.9081 Valid F1:0.9093 best_acc 1.8533\n",
      "Epoch:282 Train Loss:0.2367 valid Losss:209.1547 Train Accuracy:0.8893 Train F1:0.8877 Valid Accuracy:0.9209 Valid F1:0.9211 best_acc 1.8533\n",
      "Epoch:283 Train Loss:0.2604 valid Losss:206.6572 Train Accuracy:0.8866 Train F1:0.8866 Valid Accuracy:0.9231 Valid F1:0.9222 best_acc 1.8533\n",
      "Epoch:284 Train Loss:0.2616 valid Losss:211.6881 Train Accuracy:0.8933 Train F1:0.8938 Valid Accuracy:0.9220 Valid F1:0.9207 best_acc 1.8533\n",
      "Epoch:285 Train Loss:0.2451 valid Losss:208.0692 Train Accuracy:0.8938 Train F1:0.8955 Valid Accuracy:0.9199 Valid F1:0.9198 best_acc 1.8533\n",
      "Epoch:286 Train Loss:0.2505 valid Losss:209.5078 Train Accuracy:0.8884 Train F1:0.8870 Valid Accuracy:0.9263 Valid F1:0.9234 best_acc 1.8533\n",
      "Epoch:287 Train Loss:0.2677 valid Losss:209.6056 Train Accuracy:0.8835 Train F1:0.8815 Valid Accuracy:0.9177 Valid F1:0.9160 best_acc 1.8533\n",
      "Epoch:288 Train Loss:0.2484 valid Losss:210.6431 Train Accuracy:0.8978 Train F1:0.8918 Valid Accuracy:0.9241 Valid F1:0.9227 best_acc 1.8533\n",
      "Epoch:289 Train Loss:0.2647 valid Losss:218.5727 Train Accuracy:0.8920 Train F1:0.8923 Valid Accuracy:0.9220 Valid F1:0.9192 best_acc 1.8533\n",
      "Epoch:290 Train Loss:0.2401 valid Losss:213.1246 Train Accuracy:0.8960 Train F1:0.8942 Valid Accuracy:0.9209 Valid F1:0.9208 best_acc 1.8533\n",
      "Epoch:291 Train Loss:0.2425 valid Losss:210.7128 Train Accuracy:0.9062 Train F1:0.9077 Valid Accuracy:0.9167 Valid F1:0.9168 best_acc 1.8533\n",
      "Epoch:292 Train Loss:0.2305 valid Losss:207.0357 Train Accuracy:0.8951 Train F1:0.8933 Valid Accuracy:0.9263 Valid F1:0.9256 best_acc 1.8533\n",
      "Epoch:293 Train Loss:0.2698 valid Losss:205.4101 Train Accuracy:0.8830 Train F1:0.8835 Valid Accuracy:0.9263 Valid F1:0.9259 best_acc 1.8533\n",
      "Epoch:294 Train Loss:0.2415 valid Losss:212.9448 Train Accuracy:0.9013 Train F1:0.9007 Valid Accuracy:0.9220 Valid F1:0.9226 best_acc 1.8533\n",
      "Epoch:295 Train Loss:0.2508 valid Losss:212.4185 Train Accuracy:0.8866 Train F1:0.8853 Valid Accuracy:0.9274 Valid F1:0.9262 best_acc 1.8536\n",
      "Epoch:296 Train Loss:0.2442 valid Losss:220.0433 Train Accuracy:0.8973 Train F1:0.8974 Valid Accuracy:0.9177 Valid F1:0.9173 best_acc 1.8536\n",
      "Epoch:297 Train Loss:0.2521 valid Losss:214.6201 Train Accuracy:0.8955 Train F1:0.8942 Valid Accuracy:0.9188 Valid F1:0.9181 best_acc 1.8536\n",
      "Epoch:298 Train Loss:0.2564 valid Losss:211.7696 Train Accuracy:0.8799 Train F1:0.8721 Valid Accuracy:0.9209 Valid F1:0.9201 best_acc 1.8536\n",
      "Epoch:299 Train Loss:0.2522 valid Losss:210.5417 Train Accuracy:0.8888 Train F1:0.8881 Valid Accuracy:0.9274 Valid F1:0.9259 best_acc 1.8536\n",
      "Epoch:300 Train Loss:0.2624 valid Losss:207.6941 Train Accuracy:0.8844 Train F1:0.8821 Valid Accuracy:0.9220 Valid F1:0.9213 best_acc 1.8536\n"
     ]
    }
   ],
   "source": [
    "num_epoch = 300\n",
    "for epoch in range(1,num_epoch+1):\n",
    "  train_loss=0.0\n",
    "  valid_loss=0.0\n",
    "  train_f1 = []\n",
    "  train_acc = []\n",
    "\n",
    "  model.train()\n",
    "  for img,lbl in train_ds_loader:\n",
    "    img=img.cuda()\n",
    "    lbl=lbl.cuda()\n",
    "    #img=img.cpu()\n",
    "    #lbl=lbl.cpu()\n",
    "\n",
    "    optimizer.zero_grad()\n",
    "    predict=model(img.view(img.shape[0],1,20,20))\n",
    "    loss=loss_fn(predict,lbl)\n",
    "    loss.backward()\n",
    "    optimizer.step()\n",
    "\n",
    "    train_loss+=loss.item()*img.size(0)\n",
    "\n",
    "    label = lbl.flatten().cpu()\n",
    "    prediction = predict.cpu().detach().numpy()\n",
    "    train_acc.append(accuracy_score(label, prediction.round())) \n",
    "    train_f1.append(f1_score(label, prediction.round())) \n",
    "\n",
    "\n",
    "  train_loss=train_loss/len(train_ds_loader.sampler) \n",
    "  valid_loss=valid_loss/len(val_ds_loader.sampler)\n",
    "  train_losses.append(train_loss)\n",
    "\n",
    "  train_acc = np.mean(train_acc)\n",
    "  train_f1 = np.mean(train_f1)\n",
    "\n",
    "  # Evaluation \n",
    "  model.eval()\n",
    "\n",
    "  for img,lbl in val_ds_loader: \n",
    "    img=img.cuda()\n",
    "    lbl=lbl.cuda()\n",
    "\n",
    "    predict=model(img.view(img.shape[0],1,20,20))\n",
    "\n",
    "    loss=loss_fn(predict,lbl)\n",
    "    valid_loss =loss.item()*img.size(0)\n",
    "    valid_losses.append(valid_loss)\n",
    "\n",
    "    label = lbl.flatten().cpu()\n",
    "    prediction = predict.cpu().detach().numpy()\n",
    "    val_acc = accuracy_score(label, prediction.round())\n",
    "    val_f1 = f1_score(label, prediction.round())\n",
    "  \n",
    "    if(val_acc + val_f1 > best_acc):\n",
    "      best_acc = val_acc + val_f1\n",
    "      best_weights = copy.deepcopy(model.state_dict())\n",
    "    if(val_acc + val_f1 >= 2 ):\n",
    "      best_weights = copy.deepcopy(model.state_dict())\n",
    "      print(l1.shape)\n",
    "      print(showClassficationReport(label, prediction.round(), [\"AD\", \"HC\"]))\n",
    "      break\n",
    "\n",
    "  print('Epoch:{} Train Loss:{:.4f} valid Losss:{:.4f} Train Accuracy:{:.4f} Train F1:{:.4f} Valid Accuracy:{:.4f} Valid F1:{:.4f} best_acc {:.4f}'.format(epoch,train_loss,valid_loss, train_acc, train_f1, val_acc, val_f1, best_acc)) "
   ]
  },
  {
   "cell_type": "code",
   "execution_count": 151,
   "metadata": {},
   "outputs": [
    {
     "data": {
      "text/plain": [
       "<AxesSubplot:>"
      ]
     },
     "execution_count": 151,
     "metadata": {},
     "output_type": "execute_result"
    },
    {
     "data": {
      "image/png": "[encoded data removed]",
      "text/plain": [
       "<Figure size 640x480 with 1 Axes>"
      ]
     },
     "metadata": {},
     "output_type": "display_data"
    }
   ],
   "source": [
    "train_losses\n",
    "sns.lineplot(x=range(len(train_losses)), y=train_losses)"
   ]
  },
  {
   "cell_type": "code",
   "execution_count": 152,
   "metadata": {},
   "outputs": [
    {
     "data": {
      "text/plain": [
       "<AxesSubplot:>"
      ]
     },
     "execution_count": 152,
     "metadata": {},
     "output_type": "execute_result"
    },
    {
     "data": {
      "image/png": "[encoded data removed]",
      "text/plain": [
       "<Figure size 640x480 with 1 Axes>"
      ]
     },
     "metadata": {},
     "output_type": "display_data"
    }
   ],
   "source": [
    "sns.lineplot(x=range(len(valid_losses)), y=valid_losses)"
   ]
  },
  {
   "cell_type": "code",
   "execution_count": 153,
   "metadata": {},
   "outputs": [],
   "source": [
    "best_weights_copy = best_weights"
   ]
  },
  {
   "cell_type": "code",
   "execution_count": 154,
   "metadata": {},
   "outputs": [
    {
     "data": {
      "text/plain": [
       "<All keys matched successfully>"
      ]
     },
     "execution_count": 154,
     "metadata": {},
     "output_type": "execute_result"
    }
   ],
   "source": [
    "model.load_state_dict(best_weights)"
   ]
  },
  {
   "cell_type": "code",
   "execution_count": 155,
   "metadata": {},
   "outputs": [
    {
     "data": {
      "image/png": "[encoded data removed]",
      "text/plain": [
       "<Figure size 640x480 with 1 Axes>"
      ]
     },
     "metadata": {},
     "output_type": "display_data"
    }
   ],
   "source": [
    "with torch.no_grad():\n",
    "    # Plot the ROC curve\n",
    "    img,lbl in val_ds_loader\n",
    "    y_pred = model(img.view(img.shape[0],1,20,20))\n",
    "    fpr, tpr, thresholds = roc_curve(lbl.cpu(), y_pred.cpu())\n",
    "    plt.plot(fpr, tpr) # ROC curve = TPR vs FPR\n",
    "    plt.title(\"Receiver Operating Characteristics\")\n",
    "    plt.xlabel(\"False Positive Rate\")\n",
    "    plt.ylabel(\"True Positive Rate\")\n",
    "    plt.show()"
   ]
  },
  {
   "cell_type": "code",
   "execution_count": 156,
   "metadata": {},
   "outputs": [
    {
     "data": {
      "image/png": "[encoded data removed]",
      "text/plain": [
       "<Figure size 640x480 with 1 Axes>"
      ]
     },
     "metadata": {},
     "output_type": "display_data"
    }
   ],
   "source": [
    "from sklearn.metrics import roc_curve\n",
    "import matplotlib.pyplot as plt\n",
    "from sklearn.metrics import precision_recall_curve\n",
    "\n",
    "\n",
    "\n",
    "\n",
    "with torch.no_grad():\n",
    "    # Plot the ROC curve\n",
    "    img,lbl in val_ds_loader\n",
    "    y_pred = model(img.view(img.shape[0],1,20,20))\n",
    "    fpr, tpr, thresholds = precision_recall_curve(lbl.cpu(), y_pred.cpu())\n",
    "    plt.plot(fpr, tpr) # ROC curve = TPR vs FPR\n",
    "    plt.title(\"Receiver Operating Characteristics\")\n",
    "    plt.xlabel(\"precision\")\n",
    "    plt.ylabel(\"recall\")\n",
    "    plt.show()"
   ]
  },
  {
   "cell_type": "code",
   "execution_count": null,
   "metadata": {},
   "outputs": [],
   "source": []
  },
  {
   "cell_type": "code",
   "execution_count": 157,
   "metadata": {},
   "outputs": [
    {
     "data": {
      "text/plain": [
       "0.9281045751633987"
      ]
     },
     "execution_count": 157,
     "metadata": {},
     "output_type": "execute_result"
    }
   ],
   "source": [
    "f1 = (2*fpr*tpr)/(fpr+tpr)\n",
    "\n",
    "threashold = f1.argmax()\n",
    "\n",
    "thresholds[threashold]\n",
    "\n",
    "f1[threashold]"
   ]
  },
  {
   "cell_type": "code",
   "execution_count": 158,
   "metadata": {},
   "outputs": [
    {
     "data": {
      "text/plain": [
       "0.9321663019693655"
      ]
     },
     "execution_count": 158,
     "metadata": {},
     "output_type": "execute_result"
    }
   ],
   "source": [
    "fpr[threashold]"
   ]
  },
  {
   "cell_type": "code",
   "execution_count": 159,
   "metadata": {},
   "outputs": [
    {
     "data": {
      "text/plain": [
       "0.46915102"
      ]
     },
     "execution_count": 159,
     "metadata": {},
     "output_type": "execute_result"
    }
   ],
   "source": [
    "thresholds[threashold]"
   ]
  },
  {
   "cell_type": "code",
   "execution_count": 160,
   "metadata": {},
   "outputs": [
    {
     "data": {
      "text/plain": [
       "Sequential(\n",
       "  (0): Conv2d(1, 16, kernel_size=(3, 3), stride=(1, 1))\n",
       "  (1): Conv2d(16, 16, kernel_size=(3, 3), stride=(1, 1))\n",
       "  (2): MaxPool2d(kernel_size=2, stride=2, padding=0, dilation=1, ceil_mode=False)\n",
       "  (3): Dropout(p=0.5, inplace=False)\n",
       "  (4): Conv2d(16, 32, kernel_size=(3, 3), stride=(1, 1))\n",
       "  (5): Conv2d(32, 32, kernel_size=(3, 3), stride=(1, 1))\n",
       "  (6): MaxPool2d(kernel_size=3, stride=3, padding=0, dilation=1, ceil_mode=False)\n",
       "  (7): Dropout(p=0.5, inplace=False)\n",
       "  (8): Flatten(start_dim=1, end_dim=-1)\n",
       "  (9): Linear(in_features=32, out_features=160, bias=True)\n",
       "  (10): Dropout(p=0.5, inplace=False)\n",
       "  (11): Linear(in_features=160, out_features=1, bias=True)\n",
       "  (12): Sigmoid()\n",
       ")"
      ]
     },
     "execution_count": 160,
     "metadata": {},
     "output_type": "execute_result"
    }
   ],
   "source": [
    "model.cuda()"
   ]
  },
  {
   "cell_type": "code",
   "execution_count": 161,
   "metadata": {},
   "outputs": [
    {
     "data": {
      "image/png": "[encoded data removed]",
      "text/plain": [
       "<Figure size 500x500 with 1 Axes>"
      ]
     },
     "metadata": {},
     "output_type": "display_data"
    },
    {
     "name": "stdout",
     "output_type": "stream",
     "text": [
      "              precision    recall  f1-score   support\n",
      "\n",
      "       False       0.93      0.93      0.93       480\n",
      "        True       0.92      0.93      0.93       456\n",
      "\n",
      "    accuracy                           0.93       936\n",
      "   macro avg       0.93      0.93      0.93       936\n",
      "weighted avg       0.93      0.93      0.93       936\n",
      "\n"
     ]
    }
   ],
   "source": [
    "img,lbl in val_ds_loader\n",
    "y_pred = model(img.view(img.shape[0],1,20,20)).cpu().detach().numpy()\n",
    "\n",
    "y_pred = y_pred >  thresholds[threashold]# 0.5\n",
    "\n",
    "print(showClassficationReport(lbl.cpu(), y_pred, [\"AD\", \"HC\"]))\n"
   ]
  },
  {
   "cell_type": "code",
   "execution_count": 86,
   "metadata": {},
   "outputs": [
    {
     "name": "stdout",
     "output_type": "stream",
     "text": [
      "0.9145299145299145 0.9141630901287554\n"
     ]
    }
   ],
   "source": [
    "val_acc = accuracy_score(lbl.cpu(), y_pred.round())\n",
    "val_f1 = f1_score(lbl.cpu(), y_pred.round())\n",
    "\n",
    "print(val_acc, val_f1)"
   ]
  },
  {
   "cell_type": "code",
   "execution_count": 322,
   "metadata": {},
   "outputs": [
    {
     "data": {
      "text/plain": [
       "16"
      ]
     },
     "execution_count": 322,
     "metadata": {},
     "output_type": "execute_result"
    }
   ],
   "source": [
    "len(y_pred)"
   ]
  },
  {
   "cell_type": "code",
   "execution_count": 320,
   "metadata": {},
   "outputs": [
    {
     "data": {
      "text/plain": [
       "tensor([[0.],\n",
       "        [1.],\n",
       "        [0.],\n",
       "        [1.],\n",
       "        [1.],\n",
       "        [1.],\n",
       "        [1.],\n",
       "        [0.],\n",
       "        [0.],\n",
       "        [1.],\n",
       "        [1.],\n",
       "        [0.],\n",
       "        [1.],\n",
       "        [1.],\n",
       "        [0.],\n",
       "        [1.]])"
      ]
     },
     "execution_count": 320,
     "metadata": {},
     "output_type": "execute_result"
    }
   ],
   "source": [
    "lbl.cpu()"
   ]
  },
  {
   "cell_type": "code",
   "execution_count": 141,
   "metadata": {},
   "outputs": [],
   "source": [
    "torch.save(model.state_dict(), \"Model/5sec_f1_0.89.model\")"
   ]
  },
  {
   "attachments": {},
   "cell_type": "markdown",
   "metadata": {},
   "source": [
    "# Average matrices"
   ]
  },
  {
   "cell_type": "code",
   "execution_count": 434,
   "metadata": {},
   "outputs": [],
   "source": [
    "hc_idx = list(np.where(df_usampling[\"Condition\"] == \"HC\")[0])\n",
    "ad_idx = list(np.where(df_usampling[\"Condition\"] == \"AD\")[0])"
   ]
  },
  {
   "cell_type": "code",
   "execution_count": 435,
   "metadata": {},
   "outputs": [],
   "source": [
    "corr_hc = np.zeros((20,20))\n",
    "corr_ad = np.zeros((20,20))"
   ]
  },
  {
   "cell_type": "code",
   "execution_count": 436,
   "metadata": {},
   "outputs": [],
   "source": [
    "for i in hc_idx: \n",
    "    corr_hc += X[i]\n",
    "corr_hc = corr_hc/len(hc_idx)\n",
    "for i in ad_idx: \n",
    "    corr_ad += X[i]\n",
    "\n",
    "corr_ad = corr_ad/len(ad_idx)"
   ]
  },
  {
   "cell_type": "code",
   "execution_count": 445,
   "metadata": {},
   "outputs": [
    {
     "data": {
      "text/plain": [
       "<AxesSubplot:>"
      ]
     },
     "execution_count": 445,
     "metadata": {},
     "output_type": "execute_result"
    },
    {
     "data": {
      "image/png": "[encoded data removed]",
      "text/plain": [
       "<Figure size 640x480 with 2 Axes>"
      ]
     },
     "metadata": {},
     "output_type": "display_data"
    }
   ],
   "source": [
    "cmap = sns.cm.rocket_r\n",
    "\n",
    "sns.heatmap(corr_hc**2, cmap=cmap, vmax=1, xticklabels=channels, yticklabels=channels)"
   ]
  },
  {
   "cell_type": "code",
   "execution_count": 446,
   "metadata": {},
   "outputs": [
    {
     "data": {
      "text/plain": [
       "<AxesSubplot:>"
      ]
     },
     "execution_count": 446,
     "metadata": {},
     "output_type": "execute_result"
    },
    {
     "data": {
      "image/png": "[encoded data removed]",
      "text/plain": [
       "<Figure size 640x480 with 2 Axes>"
      ]
     },
     "metadata": {},
     "output_type": "display_data"
    }
   ],
   "source": [
    "sns.heatmap(corr_ad**2, cmap=cmap, vmax=1, xticklabels=channels, yticklabels=channels)"
   ]
  },
  {
   "cell_type": "code",
   "execution_count": 448,
   "metadata": {},
   "outputs": [
    {
     "data": {
      "text/plain": [
       "<AxesSubplot:>"
      ]
     },
     "execution_count": 448,
     "metadata": {},
     "output_type": "execute_result"
    },
    {
     "data": {
      "image/png": "[encoded data removed]",
      "text/plain": [
       "<Figure size 640x480 with 2 Axes>"
      ]
     },
     "metadata": {},
     "output_type": "display_data"
    }
   ],
   "source": [
    "sns.heatmap((corr_hc-corr_ad), cmap=cmap, xticklabels=channels, yticklabels=channels)"
   ]
  }
 ],
 "metadata": {
  "kernelspec": {
   "display_name": "base",
   "language": "python",
   "name": "python3"
  },
  "language_info": {
   "codemirror_mode": {
    "name": "ipython",
    "version": 3
   },
   "file_extension": ".py",
   "mimetype": "text/x-python",
   "name": "python",
   "nbconvert_exporter": "python",
   "pygments_lexer": "ipython3",
   "version": "3.9.13"
  },
  "orig_nbformat": 4,
  "vscode": {
   "interpreter": {
    "hash": "bae67bf5c71ecf72f0aff2dfc780240f3df2ea1c42cb575951f81d27dfb42554"
   }
  }
 },
 "nbformat": 4,
 "nbformat_minor": 2
}
